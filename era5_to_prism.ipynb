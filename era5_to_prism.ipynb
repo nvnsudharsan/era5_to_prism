{
  "nbformat": 4,
  "nbformat_minor": 0,
  "metadata": {
    "colab": {
      "provenance": [],
      "gpuType": "L4",
      "machine_shape": "hm",
      "mount_file_id": "18-K-xRElD7INtBb5iS4xkfYFc7eRTUkc",
      "authorship_tag": "ABX9TyOFCRH5SKQQpAAF/P8Okrqz",
      "include_colab_link": true
    },
    "kernelspec": {
      "name": "python3",
      "display_name": "Python 3"
    },
    "language_info": {
      "name": "python"
    },
    "accelerator": "GPU"
  },
  "cells": [
    {
      "cell_type": "markdown",
      "metadata": {
        "id": "view-in-github",
        "colab_type": "text"
      },
      "source": [
        "<a href=\"https://colab.research.google.com/github/nvnsudharsan/era5_to_prism/blob/main/era5_to_prism.ipynb\" target=\"_parent\"><img src=\"https://colab.research.google.com/assets/colab-badge.svg\" alt=\"Open In Colab\"/></a>"
      ]
    },
    {
      "cell_type": "code",
      "source": [
        "from google.colab import drive\n",
        "drive.mount('/content/drive')"
      ],
      "metadata": {
        "colab": {
          "base_uri": "https://localhost:8080/"
        },
        "id": "dQ5F-yGMXZ64",
        "outputId": "69878a8a-0e32-46bc-e8ae-9e585aac2727"
      },
      "execution_count": 2,
      "outputs": [
        {
          "output_type": "stream",
          "name": "stdout",
          "text": [
            "Mounted at /content/drive\n"
          ]
        }
      ]
    },
    {
      "cell_type": "code",
      "execution_count": 3,
      "metadata": {
        "colab": {
          "base_uri": "https://localhost:8080/"
        },
        "id": "TgPEJU4NWDcU",
        "outputId": "dd631183-3003-4c48-a5f7-e8b6afa049dc"
      },
      "outputs": [
        {
          "output_type": "stream",
          "name": "stdout",
          "text": [
            "Collecting cdsapi\n",
            "  Downloading cdsapi-0.7.6-py2.py3-none-any.whl.metadata (3.0 kB)\n",
            "Requirement already satisfied: xarray in /usr/local/lib/python3.11/dist-packages (2025.3.1)\n",
            "Collecting netCDF4\n",
            "  Downloading netCDF4-1.7.2-cp311-cp311-manylinux_2_17_x86_64.manylinux2014_x86_64.whl.metadata (1.8 kB)\n",
            "Collecting rioxarray\n",
            "  Downloading rioxarray-0.19.0-py3-none-any.whl.metadata (5.5 kB)\n",
            "Requirement already satisfied: geopandas in /usr/local/lib/python3.11/dist-packages (1.0.1)\n",
            "Requirement already satisfied: matplotlib in /usr/local/lib/python3.11/dist-packages (3.10.0)\n",
            "Collecting ecmwf-datastores-client (from cdsapi)\n",
            "  Downloading ecmwf_datastores_client-0.2.0-py3-none-any.whl.metadata (21 kB)\n",
            "Requirement already satisfied: requests>=2.5.0 in /usr/local/lib/python3.11/dist-packages (from cdsapi) (2.32.3)\n",
            "Requirement already satisfied: tqdm in /usr/local/lib/python3.11/dist-packages (from cdsapi) (4.67.1)\n",
            "Requirement already satisfied: numpy>=1.24 in /usr/local/lib/python3.11/dist-packages (from xarray) (2.0.2)\n",
            "Requirement already satisfied: packaging>=23.2 in /usr/local/lib/python3.11/dist-packages (from xarray) (24.2)\n",
            "Requirement already satisfied: pandas>=2.1 in /usr/local/lib/python3.11/dist-packages (from xarray) (2.2.2)\n",
            "Collecting cftime (from netCDF4)\n",
            "  Downloading cftime-1.6.4.post1-cp311-cp311-manylinux_2_17_x86_64.manylinux2014_x86_64.whl.metadata (8.7 kB)\n",
            "Requirement already satisfied: certifi in /usr/local/lib/python3.11/dist-packages (from netCDF4) (2025.4.26)\n",
            "Collecting rasterio>=1.4.3 (from rioxarray)\n",
            "  Downloading rasterio-1.4.3-cp311-cp311-manylinux_2_17_x86_64.manylinux2014_x86_64.whl.metadata (9.1 kB)\n",
            "Requirement already satisfied: pyproj>=3.3 in /usr/local/lib/python3.11/dist-packages (from rioxarray) (3.7.1)\n",
            "Requirement already satisfied: pyogrio>=0.7.2 in /usr/local/lib/python3.11/dist-packages (from geopandas) (0.11.0)\n",
            "Requirement already satisfied: shapely>=2.0.0 in /usr/local/lib/python3.11/dist-packages (from geopandas) (2.1.1)\n",
            "Requirement already satisfied: contourpy>=1.0.1 in /usr/local/lib/python3.11/dist-packages (from matplotlib) (1.3.2)\n",
            "Requirement already satisfied: cycler>=0.10 in /usr/local/lib/python3.11/dist-packages (from matplotlib) (0.12.1)\n",
            "Requirement already satisfied: fonttools>=4.22.0 in /usr/local/lib/python3.11/dist-packages (from matplotlib) (4.58.1)\n",
            "Requirement already satisfied: kiwisolver>=1.3.1 in /usr/local/lib/python3.11/dist-packages (from matplotlib) (1.4.8)\n",
            "Requirement already satisfied: pillow>=8 in /usr/local/lib/python3.11/dist-packages (from matplotlib) (11.2.1)\n",
            "Requirement already satisfied: pyparsing>=2.3.1 in /usr/local/lib/python3.11/dist-packages (from matplotlib) (3.2.3)\n",
            "Requirement already satisfied: python-dateutil>=2.7 in /usr/local/lib/python3.11/dist-packages (from matplotlib) (2.9.0.post0)\n",
            "Requirement already satisfied: pytz>=2020.1 in /usr/local/lib/python3.11/dist-packages (from pandas>=2.1->xarray) (2025.2)\n",
            "Requirement already satisfied: tzdata>=2022.7 in /usr/local/lib/python3.11/dist-packages (from pandas>=2.1->xarray) (2025.2)\n",
            "Requirement already satisfied: six>=1.5 in /usr/local/lib/python3.11/dist-packages (from python-dateutil>=2.7->matplotlib) (1.17.0)\n",
            "Collecting affine (from rasterio>=1.4.3->rioxarray)\n",
            "  Downloading affine-2.4.0-py3-none-any.whl.metadata (4.0 kB)\n",
            "Requirement already satisfied: attrs in /usr/local/lib/python3.11/dist-packages (from rasterio>=1.4.3->rioxarray) (25.3.0)\n",
            "Requirement already satisfied: click>=4.0 in /usr/local/lib/python3.11/dist-packages (from rasterio>=1.4.3->rioxarray) (8.2.1)\n",
            "Collecting cligj>=0.5 (from rasterio>=1.4.3->rioxarray)\n",
            "  Downloading cligj-0.7.2-py3-none-any.whl.metadata (5.0 kB)\n",
            "Collecting click-plugins (from rasterio>=1.4.3->rioxarray)\n",
            "  Downloading click_plugins-1.1.1-py2.py3-none-any.whl.metadata (6.4 kB)\n",
            "Requirement already satisfied: charset-normalizer<4,>=2 in /usr/local/lib/python3.11/dist-packages (from requests>=2.5.0->cdsapi) (3.4.2)\n",
            "Requirement already satisfied: idna<4,>=2.5 in /usr/local/lib/python3.11/dist-packages (from requests>=2.5.0->cdsapi) (3.10)\n",
            "Requirement already satisfied: urllib3<3,>=1.21.1 in /usr/local/lib/python3.11/dist-packages (from requests>=2.5.0->cdsapi) (2.4.0)\n",
            "Collecting multiurl>=0.3.2 (from ecmwf-datastores-client->cdsapi)\n",
            "  Downloading multiurl-0.3.5-py3-none-any.whl.metadata (2.8 kB)\n",
            "Requirement already satisfied: typing-extensions in /usr/local/lib/python3.11/dist-packages (from ecmwf-datastores-client->cdsapi) (4.14.0)\n",
            "Downloading cdsapi-0.7.6-py2.py3-none-any.whl (12 kB)\n",
            "Downloading netCDF4-1.7.2-cp311-cp311-manylinux_2_17_x86_64.manylinux2014_x86_64.whl (9.3 MB)\n",
            "\u001b[2K   \u001b[90m━━━━━━━━━━━━━━━━━━━━━━━━━━━━━━━━━━━━━━━━\u001b[0m \u001b[32m9.3/9.3 MB\u001b[0m \u001b[31m83.3 MB/s\u001b[0m eta \u001b[36m0:00:00\u001b[0m\n",
            "\u001b[?25hDownloading rioxarray-0.19.0-py3-none-any.whl (62 kB)\n",
            "\u001b[2K   \u001b[90m━━━━━━━━━━━━━━━━━━━━━━━━━━━━━━━━━━━━━━━━\u001b[0m \u001b[32m62.2/62.2 kB\u001b[0m \u001b[31m8.7 MB/s\u001b[0m eta \u001b[36m0:00:00\u001b[0m\n",
            "\u001b[?25hDownloading rasterio-1.4.3-cp311-cp311-manylinux_2_17_x86_64.manylinux2014_x86_64.whl (22.2 MB)\n",
            "\u001b[2K   \u001b[90m━━━━━━━━━━━━━━━━━━━━━━━━━━━━━━━━━━━━━━━━\u001b[0m \u001b[32m22.2/22.2 MB\u001b[0m \u001b[31m78.5 MB/s\u001b[0m eta \u001b[36m0:00:00\u001b[0m\n",
            "\u001b[?25hDownloading cftime-1.6.4.post1-cp311-cp311-manylinux_2_17_x86_64.manylinux2014_x86_64.whl (1.4 MB)\n",
            "\u001b[2K   \u001b[90m━━━━━━━━━━━━━━━━━━━━━━━━━━━━━━━━━━━━━━━━\u001b[0m \u001b[32m1.4/1.4 MB\u001b[0m \u001b[31m71.8 MB/s\u001b[0m eta \u001b[36m0:00:00\u001b[0m\n",
            "\u001b[?25hDownloading ecmwf_datastores_client-0.2.0-py3-none-any.whl (28 kB)\n",
            "Downloading cligj-0.7.2-py3-none-any.whl (7.1 kB)\n",
            "Downloading multiurl-0.3.5-py3-none-any.whl (21 kB)\n",
            "Downloading affine-2.4.0-py3-none-any.whl (15 kB)\n",
            "Downloading click_plugins-1.1.1-py2.py3-none-any.whl (7.5 kB)\n",
            "Installing collected packages: cligj, click-plugins, cftime, affine, rasterio, netCDF4, multiurl, ecmwf-datastores-client, rioxarray, cdsapi\n",
            "Successfully installed affine-2.4.0 cdsapi-0.7.6 cftime-1.6.4.post1 click-plugins-1.1.1 cligj-0.7.2 ecmwf-datastores-client-0.2.0 multiurl-0.3.5 netCDF4-1.7.2 rasterio-1.4.3 rioxarray-0.19.0\n",
            "\u001b[2K   \u001b[90m━━━━━━━━━━━━━━━━━━━━━━━━━━━━━━━━━━━━━━━━\u001b[0m \u001b[32m205.4/205.4 kB\u001b[0m \u001b[31m24.2 MB/s\u001b[0m eta \u001b[36m0:00:00\u001b[0m\n",
            "\u001b[2K   \u001b[90m━━━━━━━━━━━━━━━━━━━━━━━━━━━━━━━━━━━━━━━━\u001b[0m \u001b[32m8.8/8.8 MB\u001b[0m \u001b[31m122.6 MB/s\u001b[0m eta \u001b[36m0:00:00\u001b[0m\n",
            "\u001b[2K   \u001b[90m━━━━━━━━━━━━━━━━━━━━━━━━━━━━━━━━━━━━━━━━\u001b[0m \u001b[32m53.7/53.7 kB\u001b[0m \u001b[31m6.8 MB/s\u001b[0m eta \u001b[36m0:00:00\u001b[0m\n",
            "\u001b[?25h"
          ]
        }
      ],
      "source": [
        "!pip install cdsapi xarray netCDF4 rioxarray geopandas matplotlib\n",
        "!pip install -q xarray zarr gcsfs"
      ]
    },
    {
      "cell_type": "code",
      "source": [
        "import xarray as xr\n",
        "ds = xr.open_zarr(\n",
        "    'gs://gcp-public-data-arco-era5/ar/full_37-1h-0p25deg-chunk-1.zarr-v3',\n",
        "    chunks=None,\n",
        "    storage_options={\"token\": \"anon\"}\n",
        ")\n",
        "ds = ds.sel(time=slice(ds.attrs['valid_time_start'], ds.attrs['valid_time_stop']))"
      ],
      "metadata": {
        "id": "rnBqeEZqWxKq"
      },
      "execution_count": 3,
      "outputs": []
    },
    {
      "cell_type": "code",
      "source": [
        "tp = ds['total_precipitation'].sel(\n",
        "    time=slice(\"2015-01-01\", \"2024-12-31\"),\n",
        "    latitude=slice(31.0, 29.5),  # South to north!\n",
        "    longitude=slice(262.0, 263.5)  # 360-based: 360 - 98 = 262\n",
        ")"
      ],
      "metadata": {
        "id": "Bba4SV8NYB39"
      },
      "execution_count": 4,
      "outputs": []
    },
    {
      "cell_type": "code",
      "source": [
        "tp_mm = tp * 1000  # Convert to mm\n",
        "tp_daily = tp_mm.resample(time='1D').sum()\n",
        "tp_daily.name = \"tp_mm_day\""
      ],
      "metadata": {
        "id": "lQR7ksnuYF76"
      },
      "execution_count": null,
      "outputs": []
    },
    {
      "cell_type": "code",
      "source": [
        "tp_daily.to_netcdf(\"/content/drive/MyDrive/era5_tp_daily_austin_2015_2024_zarr_gcs.nc\")"
      ],
      "metadata": {
        "id": "A6cbdnqaafV8"
      },
      "execution_count": null,
      "outputs": []
    },
    {
      "cell_type": "code",
      "source": [
        "!pip install earthengine-api geemap --upgrade"
      ],
      "metadata": {
        "colab": {
          "base_uri": "https://localhost:8080/"
        },
        "id": "FbS8ixtrbHTF",
        "outputId": "a50ed855-7096-41f2-a858-ac6d5bc66020"
      },
      "execution_count": null,
      "outputs": [
        {
          "output_type": "stream",
          "name": "stdout",
          "text": [
            "Requirement already satisfied: earthengine-api in /usr/local/lib/python3.11/dist-packages (1.5.18)\n",
            "Collecting earthengine-api\n",
            "  Downloading earthengine_api-1.5.19-py3-none-any.whl.metadata (2.1 kB)\n",
            "Requirement already satisfied: geemap in /usr/local/lib/python3.11/dist-packages (0.35.3)\n",
            "Requirement already satisfied: google-cloud-storage in /usr/local/lib/python3.11/dist-packages (from earthengine-api) (2.19.0)\n",
            "Requirement already satisfied: google-api-python-client>=1.12.1 in /usr/local/lib/python3.11/dist-packages (from earthengine-api) (2.171.0)\n",
            "Requirement already satisfied: google-auth>=1.4.1 in /usr/local/lib/python3.11/dist-packages (from earthengine-api) (2.38.0)\n",
            "Requirement already satisfied: google-auth-httplib2>=0.0.3 in /usr/local/lib/python3.11/dist-packages (from earthengine-api) (0.2.0)\n",
            "Requirement already satisfied: httplib2<1dev,>=0.9.2 in /usr/local/lib/python3.11/dist-packages (from earthengine-api) (0.22.0)\n",
            "Requirement already satisfied: requests in /usr/local/lib/python3.11/dist-packages (from earthengine-api) (2.32.3)\n",
            "Requirement already satisfied: bqplot in /usr/local/lib/python3.11/dist-packages (from geemap) (0.12.45)\n",
            "Requirement already satisfied: colour in /usr/local/lib/python3.11/dist-packages (from geemap) (0.1.5)\n",
            "Requirement already satisfied: eerepr>=0.1.0 in /usr/local/lib/python3.11/dist-packages (from geemap) (0.1.2)\n",
            "Requirement already satisfied: folium>=0.17.0 in /usr/local/lib/python3.11/dist-packages (from geemap) (0.19.7)\n",
            "Requirement already satisfied: geocoder in /usr/local/lib/python3.11/dist-packages (from geemap) (1.38.1)\n",
            "Requirement already satisfied: ipyevents in /usr/local/lib/python3.11/dist-packages (from geemap) (2.0.2)\n",
            "Requirement already satisfied: ipyfilechooser>=0.6.0 in /usr/local/lib/python3.11/dist-packages (from geemap) (0.6.0)\n",
            "Requirement already satisfied: ipyleaflet>=0.19.2 in /usr/local/lib/python3.11/dist-packages (from geemap) (0.19.2)\n",
            "Requirement already satisfied: ipytree in /usr/local/lib/python3.11/dist-packages (from geemap) (0.2.2)\n",
            "Requirement already satisfied: matplotlib in /usr/local/lib/python3.11/dist-packages (from geemap) (3.10.0)\n",
            "Requirement already satisfied: numpy in /usr/local/lib/python3.11/dist-packages (from geemap) (2.0.2)\n",
            "Requirement already satisfied: pandas in /usr/local/lib/python3.11/dist-packages (from geemap) (2.2.2)\n",
            "Requirement already satisfied: plotly in /usr/local/lib/python3.11/dist-packages (from geemap) (5.24.1)\n",
            "Requirement already satisfied: pyperclip in /usr/local/lib/python3.11/dist-packages (from geemap) (1.9.0)\n",
            "Requirement already satisfied: pyshp>=2.3.1 in /usr/local/lib/python3.11/dist-packages (from geemap) (2.3.1)\n",
            "Requirement already satisfied: python-box in /usr/local/lib/python3.11/dist-packages (from geemap) (7.3.2)\n",
            "Requirement already satisfied: scooby in /usr/local/lib/python3.11/dist-packages (from geemap) (0.10.1)\n",
            "Requirement already satisfied: branca>=0.6.0 in /usr/local/lib/python3.11/dist-packages (from folium>=0.17.0->geemap) (0.8.1)\n",
            "Requirement already satisfied: jinja2>=2.9 in /usr/local/lib/python3.11/dist-packages (from folium>=0.17.0->geemap) (3.1.6)\n",
            "Requirement already satisfied: xyzservices in /usr/local/lib/python3.11/dist-packages (from folium>=0.17.0->geemap) (2025.4.0)\n",
            "Requirement already satisfied: google-api-core!=2.0.*,!=2.1.*,!=2.2.*,!=2.3.0,<3.0.0,>=1.31.5 in /usr/local/lib/python3.11/dist-packages (from google-api-python-client>=1.12.1->earthengine-api) (2.25.0)\n",
            "Requirement already satisfied: uritemplate<5,>=3.0.1 in /usr/local/lib/python3.11/dist-packages (from google-api-python-client>=1.12.1->earthengine-api) (4.2.0)\n",
            "Requirement already satisfied: cachetools<6.0,>=2.0.0 in /usr/local/lib/python3.11/dist-packages (from google-auth>=1.4.1->earthengine-api) (5.5.2)\n",
            "Requirement already satisfied: pyasn1-modules>=0.2.1 in /usr/local/lib/python3.11/dist-packages (from google-auth>=1.4.1->earthengine-api) (0.4.2)\n",
            "Requirement already satisfied: rsa<5,>=3.1.4 in /usr/local/lib/python3.11/dist-packages (from google-auth>=1.4.1->earthengine-api) (4.9.1)\n",
            "Requirement already satisfied: pyparsing!=3.0.0,!=3.0.1,!=3.0.2,!=3.0.3,<4,>=2.4.2 in /usr/local/lib/python3.11/dist-packages (from httplib2<1dev,>=0.9.2->earthengine-api) (3.2.3)\n",
            "Requirement already satisfied: ipywidgets in /usr/local/lib/python3.11/dist-packages (from ipyfilechooser>=0.6.0->geemap) (7.7.1)\n",
            "Requirement already satisfied: jupyter-leaflet<0.20,>=0.19 in /usr/local/lib/python3.11/dist-packages (from ipyleaflet>=0.19.2->geemap) (0.19.2)\n",
            "Requirement already satisfied: traittypes<3,>=0.2.1 in /usr/local/lib/python3.11/dist-packages (from ipyleaflet>=0.19.2->geemap) (0.2.1)\n",
            "Requirement already satisfied: traitlets>=4.3.0 in /usr/local/lib/python3.11/dist-packages (from bqplot->geemap) (5.7.1)\n",
            "Requirement already satisfied: python-dateutil>=2.8.2 in /usr/local/lib/python3.11/dist-packages (from pandas->geemap) (2.9.0.post0)\n",
            "Requirement already satisfied: pytz>=2020.1 in /usr/local/lib/python3.11/dist-packages (from pandas->geemap) (2025.2)\n",
            "Requirement already satisfied: tzdata>=2022.7 in /usr/local/lib/python3.11/dist-packages (from pandas->geemap) (2025.2)\n",
            "Requirement already satisfied: click in /usr/local/lib/python3.11/dist-packages (from geocoder->geemap) (8.2.1)\n",
            "Requirement already satisfied: future in /usr/local/lib/python3.11/dist-packages (from geocoder->geemap) (1.0.0)\n",
            "Requirement already satisfied: ratelim in /usr/local/lib/python3.11/dist-packages (from geocoder->geemap) (0.1.6)\n",
            "Requirement already satisfied: six in /usr/local/lib/python3.11/dist-packages (from geocoder->geemap) (1.17.0)\n",
            "Requirement already satisfied: google-cloud-core<3.0dev,>=2.3.0 in /usr/local/lib/python3.11/dist-packages (from google-cloud-storage->earthengine-api) (2.4.3)\n",
            "Requirement already satisfied: google-resumable-media>=2.7.2 in /usr/local/lib/python3.11/dist-packages (from google-cloud-storage->earthengine-api) (2.7.2)\n",
            "Requirement already satisfied: google-crc32c<2.0dev,>=1.0 in /usr/local/lib/python3.11/dist-packages (from google-cloud-storage->earthengine-api) (1.7.1)\n",
            "Requirement already satisfied: charset-normalizer<4,>=2 in /usr/local/lib/python3.11/dist-packages (from requests->earthengine-api) (3.4.2)\n",
            "Requirement already satisfied: idna<4,>=2.5 in /usr/local/lib/python3.11/dist-packages (from requests->earthengine-api) (3.10)\n",
            "Requirement already satisfied: urllib3<3,>=1.21.1 in /usr/local/lib/python3.11/dist-packages (from requests->earthengine-api) (2.4.0)\n",
            "Requirement already satisfied: certifi>=2017.4.17 in /usr/local/lib/python3.11/dist-packages (from requests->earthengine-api) (2025.4.26)\n",
            "Requirement already satisfied: contourpy>=1.0.1 in /usr/local/lib/python3.11/dist-packages (from matplotlib->geemap) (1.3.2)\n",
            "Requirement already satisfied: cycler>=0.10 in /usr/local/lib/python3.11/dist-packages (from matplotlib->geemap) (0.12.1)\n",
            "Requirement already satisfied: fonttools>=4.22.0 in /usr/local/lib/python3.11/dist-packages (from matplotlib->geemap) (4.58.1)\n",
            "Requirement already satisfied: kiwisolver>=1.3.1 in /usr/local/lib/python3.11/dist-packages (from matplotlib->geemap) (1.4.8)\n",
            "Requirement already satisfied: packaging>=20.0 in /usr/local/lib/python3.11/dist-packages (from matplotlib->geemap) (24.2)\n",
            "Requirement already satisfied: pillow>=8 in /usr/local/lib/python3.11/dist-packages (from matplotlib->geemap) (11.2.1)\n",
            "Requirement already satisfied: tenacity>=6.2.0 in /usr/local/lib/python3.11/dist-packages (from plotly->geemap) (9.1.2)\n",
            "Requirement already satisfied: googleapis-common-protos<2.0.0,>=1.56.2 in /usr/local/lib/python3.11/dist-packages (from google-api-core!=2.0.*,!=2.1.*,!=2.2.*,!=2.3.0,<3.0.0,>=1.31.5->google-api-python-client>=1.12.1->earthengine-api) (1.70.0)\n",
            "Requirement already satisfied: protobuf!=3.20.0,!=3.20.1,!=4.21.0,!=4.21.1,!=4.21.2,!=4.21.3,!=4.21.4,!=4.21.5,<7.0.0,>=3.19.5 in /usr/local/lib/python3.11/dist-packages (from google-api-core!=2.0.*,!=2.1.*,!=2.2.*,!=2.3.0,<3.0.0,>=1.31.5->google-api-python-client>=1.12.1->earthengine-api) (5.29.5)\n",
            "Requirement already satisfied: proto-plus<2.0.0,>=1.22.3 in /usr/local/lib/python3.11/dist-packages (from google-api-core!=2.0.*,!=2.1.*,!=2.2.*,!=2.3.0,<3.0.0,>=1.31.5->google-api-python-client>=1.12.1->earthengine-api) (1.26.1)\n",
            "Requirement already satisfied: ipykernel>=4.5.1 in /usr/local/lib/python3.11/dist-packages (from ipywidgets->ipyfilechooser>=0.6.0->geemap) (6.17.1)\n",
            "Requirement already satisfied: ipython-genutils~=0.2.0 in /usr/local/lib/python3.11/dist-packages (from ipywidgets->ipyfilechooser>=0.6.0->geemap) (0.2.0)\n",
            "Requirement already satisfied: widgetsnbextension~=3.6.0 in /usr/local/lib/python3.11/dist-packages (from ipywidgets->ipyfilechooser>=0.6.0->geemap) (3.6.10)\n",
            "Requirement already satisfied: ipython>=4.0.0 in /usr/local/lib/python3.11/dist-packages (from ipywidgets->ipyfilechooser>=0.6.0->geemap) (7.34.0)\n",
            "Requirement already satisfied: jupyterlab-widgets>=1.0.0 in /usr/local/lib/python3.11/dist-packages (from ipywidgets->ipyfilechooser>=0.6.0->geemap) (3.0.15)\n",
            "Requirement already satisfied: MarkupSafe>=2.0 in /usr/local/lib/python3.11/dist-packages (from jinja2>=2.9->folium>=0.17.0->geemap) (3.0.2)\n",
            "Requirement already satisfied: pyasn1<0.7.0,>=0.6.1 in /usr/local/lib/python3.11/dist-packages (from pyasn1-modules>=0.2.1->google-auth>=1.4.1->earthengine-api) (0.6.1)\n",
            "Requirement already satisfied: decorator in /usr/local/lib/python3.11/dist-packages (from ratelim->geocoder->geemap) (4.4.2)\n",
            "Requirement already satisfied: debugpy>=1.0 in /usr/local/lib/python3.11/dist-packages (from ipykernel>=4.5.1->ipywidgets->ipyfilechooser>=0.6.0->geemap) (1.8.0)\n",
            "Requirement already satisfied: jupyter-client>=6.1.12 in /usr/local/lib/python3.11/dist-packages (from ipykernel>=4.5.1->ipywidgets->ipyfilechooser>=0.6.0->geemap) (6.1.12)\n",
            "Requirement already satisfied: matplotlib-inline>=0.1 in /usr/local/lib/python3.11/dist-packages (from ipykernel>=4.5.1->ipywidgets->ipyfilechooser>=0.6.0->geemap) (0.1.7)\n",
            "Requirement already satisfied: nest-asyncio in /usr/local/lib/python3.11/dist-packages (from ipykernel>=4.5.1->ipywidgets->ipyfilechooser>=0.6.0->geemap) (1.6.0)\n",
            "Requirement already satisfied: psutil in /usr/local/lib/python3.11/dist-packages (from ipykernel>=4.5.1->ipywidgets->ipyfilechooser>=0.6.0->geemap) (5.9.5)\n",
            "Requirement already satisfied: pyzmq>=17 in /usr/local/lib/python3.11/dist-packages (from ipykernel>=4.5.1->ipywidgets->ipyfilechooser>=0.6.0->geemap) (24.0.1)\n",
            "Requirement already satisfied: tornado>=6.1 in /usr/local/lib/python3.11/dist-packages (from ipykernel>=4.5.1->ipywidgets->ipyfilechooser>=0.6.0->geemap) (6.4.2)\n",
            "Requirement already satisfied: setuptools>=18.5 in /usr/local/lib/python3.11/dist-packages (from ipython>=4.0.0->ipywidgets->ipyfilechooser>=0.6.0->geemap) (75.2.0)\n",
            "Collecting jedi>=0.16 (from ipython>=4.0.0->ipywidgets->ipyfilechooser>=0.6.0->geemap)\n",
            "  Downloading jedi-0.19.2-py2.py3-none-any.whl.metadata (22 kB)\n",
            "Requirement already satisfied: pickleshare in /usr/local/lib/python3.11/dist-packages (from ipython>=4.0.0->ipywidgets->ipyfilechooser>=0.6.0->geemap) (0.7.5)\n",
            "Requirement already satisfied: prompt-toolkit!=3.0.0,!=3.0.1,<3.1.0,>=2.0.0 in /usr/local/lib/python3.11/dist-packages (from ipython>=4.0.0->ipywidgets->ipyfilechooser>=0.6.0->geemap) (3.0.51)\n",
            "Requirement already satisfied: pygments in /usr/local/lib/python3.11/dist-packages (from ipython>=4.0.0->ipywidgets->ipyfilechooser>=0.6.0->geemap) (2.19.1)\n",
            "Requirement already satisfied: backcall in /usr/local/lib/python3.11/dist-packages (from ipython>=4.0.0->ipywidgets->ipyfilechooser>=0.6.0->geemap) (0.2.0)\n",
            "Requirement already satisfied: pexpect>4.3 in /usr/local/lib/python3.11/dist-packages (from ipython>=4.0.0->ipywidgets->ipyfilechooser>=0.6.0->geemap) (4.9.0)\n",
            "Requirement already satisfied: notebook>=4.4.1 in /usr/local/lib/python3.11/dist-packages (from widgetsnbextension~=3.6.0->ipywidgets->ipyfilechooser>=0.6.0->geemap) (6.5.7)\n",
            "Requirement already satisfied: parso<0.9.0,>=0.8.4 in /usr/local/lib/python3.11/dist-packages (from jedi>=0.16->ipython>=4.0.0->ipywidgets->ipyfilechooser>=0.6.0->geemap) (0.8.4)\n",
            "Requirement already satisfied: jupyter-core>=4.6.0 in /usr/local/lib/python3.11/dist-packages (from jupyter-client>=6.1.12->ipykernel>=4.5.1->ipywidgets->ipyfilechooser>=0.6.0->geemap) (5.8.1)\n",
            "Requirement already satisfied: argon2-cffi in /usr/local/lib/python3.11/dist-packages (from notebook>=4.4.1->widgetsnbextension~=3.6.0->ipywidgets->ipyfilechooser>=0.6.0->geemap) (25.1.0)\n",
            "Requirement already satisfied: nbformat in /usr/local/lib/python3.11/dist-packages (from notebook>=4.4.1->widgetsnbextension~=3.6.0->ipywidgets->ipyfilechooser>=0.6.0->geemap) (5.10.4)\n",
            "Requirement already satisfied: nbconvert>=5 in /usr/local/lib/python3.11/dist-packages (from notebook>=4.4.1->widgetsnbextension~=3.6.0->ipywidgets->ipyfilechooser>=0.6.0->geemap) (7.16.6)\n",
            "Requirement already satisfied: Send2Trash>=1.8.0 in /usr/local/lib/python3.11/dist-packages (from notebook>=4.4.1->widgetsnbextension~=3.6.0->ipywidgets->ipyfilechooser>=0.6.0->geemap) (1.8.3)\n",
            "Requirement already satisfied: terminado>=0.8.3 in /usr/local/lib/python3.11/dist-packages (from notebook>=4.4.1->widgetsnbextension~=3.6.0->ipywidgets->ipyfilechooser>=0.6.0->geemap) (0.18.1)\n",
            "Requirement already satisfied: prometheus-client in /usr/local/lib/python3.11/dist-packages (from notebook>=4.4.1->widgetsnbextension~=3.6.0->ipywidgets->ipyfilechooser>=0.6.0->geemap) (0.22.1)\n",
            "Requirement already satisfied: nbclassic>=0.4.7 in /usr/local/lib/python3.11/dist-packages (from notebook>=4.4.1->widgetsnbextension~=3.6.0->ipywidgets->ipyfilechooser>=0.6.0->geemap) (1.3.1)\n",
            "Requirement already satisfied: ptyprocess>=0.5 in /usr/local/lib/python3.11/dist-packages (from pexpect>4.3->ipython>=4.0.0->ipywidgets->ipyfilechooser>=0.6.0->geemap) (0.7.0)\n",
            "Requirement already satisfied: wcwidth in /usr/local/lib/python3.11/dist-packages (from prompt-toolkit!=3.0.0,!=3.0.1,<3.1.0,>=2.0.0->ipython>=4.0.0->ipywidgets->ipyfilechooser>=0.6.0->geemap) (0.2.13)\n",
            "Requirement already satisfied: platformdirs>=2.5 in /usr/local/lib/python3.11/dist-packages (from jupyter-core>=4.6.0->jupyter-client>=6.1.12->ipykernel>=4.5.1->ipywidgets->ipyfilechooser>=0.6.0->geemap) (4.3.8)\n",
            "Requirement already satisfied: notebook-shim>=0.2.3 in /usr/local/lib/python3.11/dist-packages (from nbclassic>=0.4.7->notebook>=4.4.1->widgetsnbextension~=3.6.0->ipywidgets->ipyfilechooser>=0.6.0->geemap) (0.2.4)\n",
            "Requirement already satisfied: beautifulsoup4 in /usr/local/lib/python3.11/dist-packages (from nbconvert>=5->notebook>=4.4.1->widgetsnbextension~=3.6.0->ipywidgets->ipyfilechooser>=0.6.0->geemap) (4.13.4)\n",
            "Requirement already satisfied: bleach!=5.0.0 in /usr/local/lib/python3.11/dist-packages (from bleach[css]!=5.0.0->nbconvert>=5->notebook>=4.4.1->widgetsnbextension~=3.6.0->ipywidgets->ipyfilechooser>=0.6.0->geemap) (6.2.0)\n",
            "Requirement already satisfied: defusedxml in /usr/local/lib/python3.11/dist-packages (from nbconvert>=5->notebook>=4.4.1->widgetsnbextension~=3.6.0->ipywidgets->ipyfilechooser>=0.6.0->geemap) (0.7.1)\n",
            "Requirement already satisfied: jupyterlab-pygments in /usr/local/lib/python3.11/dist-packages (from nbconvert>=5->notebook>=4.4.1->widgetsnbextension~=3.6.0->ipywidgets->ipyfilechooser>=0.6.0->geemap) (0.3.0)\n",
            "Requirement already satisfied: mistune<4,>=2.0.3 in /usr/local/lib/python3.11/dist-packages (from nbconvert>=5->notebook>=4.4.1->widgetsnbextension~=3.6.0->ipywidgets->ipyfilechooser>=0.6.0->geemap) (3.1.3)\n",
            "Requirement already satisfied: nbclient>=0.5.0 in /usr/local/lib/python3.11/dist-packages (from nbconvert>=5->notebook>=4.4.1->widgetsnbextension~=3.6.0->ipywidgets->ipyfilechooser>=0.6.0->geemap) (0.10.2)\n",
            "Requirement already satisfied: pandocfilters>=1.4.1 in /usr/local/lib/python3.11/dist-packages (from nbconvert>=5->notebook>=4.4.1->widgetsnbextension~=3.6.0->ipywidgets->ipyfilechooser>=0.6.0->geemap) (1.5.1)\n",
            "Requirement already satisfied: fastjsonschema>=2.15 in /usr/local/lib/python3.11/dist-packages (from nbformat->notebook>=4.4.1->widgetsnbextension~=3.6.0->ipywidgets->ipyfilechooser>=0.6.0->geemap) (2.21.1)\n",
            "Requirement already satisfied: jsonschema>=2.6 in /usr/local/lib/python3.11/dist-packages (from nbformat->notebook>=4.4.1->widgetsnbextension~=3.6.0->ipywidgets->ipyfilechooser>=0.6.0->geemap) (4.24.0)\n",
            "Requirement already satisfied: argon2-cffi-bindings in /usr/local/lib/python3.11/dist-packages (from argon2-cffi->notebook>=4.4.1->widgetsnbextension~=3.6.0->ipywidgets->ipyfilechooser>=0.6.0->geemap) (21.2.0)\n",
            "Requirement already satisfied: webencodings in /usr/local/lib/python3.11/dist-packages (from bleach!=5.0.0->bleach[css]!=5.0.0->nbconvert>=5->notebook>=4.4.1->widgetsnbextension~=3.6.0->ipywidgets->ipyfilechooser>=0.6.0->geemap) (0.5.1)\n",
            "Requirement already satisfied: tinycss2<1.5,>=1.1.0 in /usr/local/lib/python3.11/dist-packages (from bleach[css]!=5.0.0->nbconvert>=5->notebook>=4.4.1->widgetsnbextension~=3.6.0->ipywidgets->ipyfilechooser>=0.6.0->geemap) (1.4.0)\n",
            "Requirement already satisfied: attrs>=22.2.0 in /usr/local/lib/python3.11/dist-packages (from jsonschema>=2.6->nbformat->notebook>=4.4.1->widgetsnbextension~=3.6.0->ipywidgets->ipyfilechooser>=0.6.0->geemap) (25.3.0)\n",
            "Requirement already satisfied: jsonschema-specifications>=2023.03.6 in /usr/local/lib/python3.11/dist-packages (from jsonschema>=2.6->nbformat->notebook>=4.4.1->widgetsnbextension~=3.6.0->ipywidgets->ipyfilechooser>=0.6.0->geemap) (2025.4.1)\n",
            "Requirement already satisfied: referencing>=0.28.4 in /usr/local/lib/python3.11/dist-packages (from jsonschema>=2.6->nbformat->notebook>=4.4.1->widgetsnbextension~=3.6.0->ipywidgets->ipyfilechooser>=0.6.0->geemap) (0.36.2)\n",
            "Requirement already satisfied: rpds-py>=0.7.1 in /usr/local/lib/python3.11/dist-packages (from jsonschema>=2.6->nbformat->notebook>=4.4.1->widgetsnbextension~=3.6.0->ipywidgets->ipyfilechooser>=0.6.0->geemap) (0.25.1)\n",
            "Requirement already satisfied: jupyter-server<3,>=1.8 in /usr/local/lib/python3.11/dist-packages (from notebook-shim>=0.2.3->nbclassic>=0.4.7->notebook>=4.4.1->widgetsnbextension~=3.6.0->ipywidgets->ipyfilechooser>=0.6.0->geemap) (1.16.0)\n",
            "Requirement already satisfied: cffi>=1.0.1 in /usr/local/lib/python3.11/dist-packages (from argon2-cffi-bindings->argon2-cffi->notebook>=4.4.1->widgetsnbextension~=3.6.0->ipywidgets->ipyfilechooser>=0.6.0->geemap) (1.17.1)\n",
            "Requirement already satisfied: soupsieve>1.2 in /usr/local/lib/python3.11/dist-packages (from beautifulsoup4->nbconvert>=5->notebook>=4.4.1->widgetsnbextension~=3.6.0->ipywidgets->ipyfilechooser>=0.6.0->geemap) (2.7)\n",
            "Requirement already satisfied: typing-extensions>=4.0.0 in /usr/local/lib/python3.11/dist-packages (from beautifulsoup4->nbconvert>=5->notebook>=4.4.1->widgetsnbextension~=3.6.0->ipywidgets->ipyfilechooser>=0.6.0->geemap) (4.14.0)\n",
            "Requirement already satisfied: pycparser in /usr/local/lib/python3.11/dist-packages (from cffi>=1.0.1->argon2-cffi-bindings->argon2-cffi->notebook>=4.4.1->widgetsnbextension~=3.6.0->ipywidgets->ipyfilechooser>=0.6.0->geemap) (2.22)\n",
            "Requirement already satisfied: anyio>=3.1.0 in /usr/local/lib/python3.11/dist-packages (from jupyter-server<3,>=1.8->notebook-shim>=0.2.3->nbclassic>=0.4.7->notebook>=4.4.1->widgetsnbextension~=3.6.0->ipywidgets->ipyfilechooser>=0.6.0->geemap) (4.9.0)\n",
            "Requirement already satisfied: websocket-client in /usr/local/lib/python3.11/dist-packages (from jupyter-server<3,>=1.8->notebook-shim>=0.2.3->nbclassic>=0.4.7->notebook>=4.4.1->widgetsnbextension~=3.6.0->ipywidgets->ipyfilechooser>=0.6.0->geemap) (1.8.0)\n",
            "Requirement already satisfied: sniffio>=1.1 in /usr/local/lib/python3.11/dist-packages (from anyio>=3.1.0->jupyter-server<3,>=1.8->notebook-shim>=0.2.3->nbclassic>=0.4.7->notebook>=4.4.1->widgetsnbextension~=3.6.0->ipywidgets->ipyfilechooser>=0.6.0->geemap) (1.3.1)\n",
            "Downloading earthengine_api-1.5.19-py3-none-any.whl (462 kB)\n",
            "\u001b[2K   \u001b[90m━━━━━━━━━━━━━━━━━━━━━━━━━━━━━━━━━━━━━━━━\u001b[0m \u001b[32m462.6/462.6 kB\u001b[0m \u001b[31m9.1 MB/s\u001b[0m eta \u001b[36m0:00:00\u001b[0m\n",
            "\u001b[?25hDownloading jedi-0.19.2-py2.py3-none-any.whl (1.6 MB)\n",
            "\u001b[2K   \u001b[90m━━━━━━━━━━━━━━━━━━━━━━━━━━━━━━━━━━━━━━━━\u001b[0m \u001b[32m1.6/1.6 MB\u001b[0m \u001b[31m42.1 MB/s\u001b[0m eta \u001b[36m0:00:00\u001b[0m\n",
            "\u001b[?25hInstalling collected packages: jedi, earthengine-api\n",
            "  Attempting uninstall: earthengine-api\n",
            "    Found existing installation: earthengine-api 1.5.18\n",
            "    Uninstalling earthengine-api-1.5.18:\n",
            "      Successfully uninstalled earthengine-api-1.5.18\n",
            "Successfully installed earthengine-api-1.5.19 jedi-0.19.2\n"
          ]
        }
      ]
    },
    {
      "cell_type": "code",
      "source": [
        "import ee\n",
        "ee.Authenticate()  # Run this to get the code\n",
        "ee.Initialize(project='ee-my-naveensudharsan')"
      ],
      "metadata": {
        "id": "ZmZU3zKIjTSS"
      },
      "execution_count": 3,
      "outputs": []
    },
    {
      "cell_type": "code",
      "source": [
        "import geemap\n",
        "from datetime import datetime\n",
        "\n",
        "# Define time range\n",
        "start = '2015-01-01'\n",
        "end = '2024-12-31'\n",
        "\n",
        "# Austin region\n",
        "region = ee.Geometry.Rectangle([-98.0, 29.5, -96.5, 31.0])\n",
        "\n",
        "# PRISM daily precipitation\n",
        "collection = ee.ImageCollection('OREGONSTATE/PRISM/AN81d') \\\n",
        "    .filterDate(start, end) \\\n",
        "    .filterBounds(region) \\\n",
        "    .select('ppt')\n",
        "\n",
        "# Convert to a multi-band image (each day as a band)\n",
        "def format_band(img):\n",
        "    date_str = img.date().format('YYYYMMdd')\n",
        "    return img.rename(date_str)\n",
        "\n",
        "prism_bands = collection.map(format_band)\n",
        "prism_image = prism_bands.toBands()\n",
        "\n",
        "# Export to Drive\n",
        "task = ee.batch.Export.image.toDrive(\n",
        "    image=prism_image.clip(region),\n",
        "    description='PRISM_Precip_2015_2024_Austin',\n",
        "    folder='era5_downscaled',  # GDrive folder\n",
        "    fileNamePrefix='prism_ppt_austin_2015_2024',\n",
        "    region=region,\n",
        "    scale=800,\n",
        "    maxPixels=1e13,\n",
        "    fileFormat='GeoTIFF'\n",
        ")\n",
        "task.start()"
      ],
      "metadata": {
        "colab": {
          "base_uri": "https://localhost:8080/",
          "height": 17
        },
        "id": "jxVxo56xjWTk",
        "outputId": "b0aa8fba-a60a-410a-fbfd-b0856a97834f"
      },
      "execution_count": null,
      "outputs": [
        {
          "output_type": "display_data",
          "data": {
            "text/plain": [
              "<IPython.core.display.HTML object>"
            ],
            "text/html": [
              "\n",
              "            <style>\n",
              "                .geemap-dark {\n",
              "                    --jp-widgets-color: white;\n",
              "                    --jp-widgets-label-color: white;\n",
              "                    --jp-ui-font-color1: white;\n",
              "                    --jp-layout-color2: #454545;\n",
              "                    background-color: #383838;\n",
              "                }\n",
              "\n",
              "                .geemap-dark .jupyter-button {\n",
              "                    --jp-layout-color3: #383838;\n",
              "                }\n",
              "\n",
              "                .geemap-colab {\n",
              "                    background-color: var(--colab-primary-surface-color, white);\n",
              "                }\n",
              "\n",
              "                .geemap-colab .jupyter-button {\n",
              "                    --jp-layout-color3: var(--colab-primary-surface-color, white);\n",
              "                }\n",
              "            </style>\n",
              "            "
            ]
          },
          "metadata": {}
        }
      ]
    },
    {
      "cell_type": "code",
      "source": [
        "import time\n",
        "\n",
        "while task.active():\n",
        "    print('Exporting...', task.status()['state'])\n",
        "    time.sleep(60)"
      ],
      "metadata": {
        "colab": {
          "base_uri": "https://localhost:8080/",
          "height": 106
        },
        "id": "_vPqTreAjcKj",
        "outputId": "a974cae2-14ee-455b-a1b9-d689e16518f6"
      },
      "execution_count": null,
      "outputs": [
        {
          "output_type": "display_data",
          "data": {
            "text/plain": [
              "<IPython.core.display.HTML object>"
            ],
            "text/html": [
              "\n",
              "            <style>\n",
              "                .geemap-dark {\n",
              "                    --jp-widgets-color: white;\n",
              "                    --jp-widgets-label-color: white;\n",
              "                    --jp-ui-font-color1: white;\n",
              "                    --jp-layout-color2: #454545;\n",
              "                    background-color: #383838;\n",
              "                }\n",
              "\n",
              "                .geemap-dark .jupyter-button {\n",
              "                    --jp-layout-color3: #383838;\n",
              "                }\n",
              "\n",
              "                .geemap-colab {\n",
              "                    background-color: var(--colab-primary-surface-color, white);\n",
              "                }\n",
              "\n",
              "                .geemap-colab .jupyter-button {\n",
              "                    --jp-layout-color3: var(--colab-primary-surface-color, white);\n",
              "                }\n",
              "            </style>\n",
              "            "
            ]
          },
          "metadata": {}
        },
        {
          "output_type": "stream",
          "name": "stdout",
          "text": [
            "Exporting... RUNNING\n",
            "Exporting... RUNNING\n",
            "Exporting... RUNNING\n",
            "Exporting... RUNNING\n",
            "Exporting... RUNNING\n"
          ]
        }
      ]
    },
    {
      "cell_type": "code",
      "source": [
        "import rioxarray as rxr\n",
        "import xarray as xr\n",
        "\n",
        "# Load PRISM high-res reference\n",
        "prism = rxr.open_rasterio('/content/drive/MyDrive/era5_downscaled/prism_ppt_austin_2015_2024.tif', masked=True).squeeze()\n",
        "\n",
        "# Load ERA5 daily file you saved earlier\n",
        "era5 = xr.open_dataset('/content/drive/MyDrive/era5_tp_daily_austin_2015_2024_zarr_gcs.nc')['tp_mm_day']\n",
        "\n",
        "# Match CRS and align to PRISM grid\n",
        "era5_aligned = era5.rio.write_crs(\"EPSG:4326\").rio.reproject_match(prism)\n",
        "\n",
        "# Save aligned ERA5 to Drive\n",
        "era5_aligned.to_netcdf('/content/drive/MyDrive/era5_downscaled/era5_tp_aligned_to_prism.nc')\n"
      ],
      "metadata": {
        "colab": {
          "base_uri": "https://localhost:8080/",
          "height": 17
        },
        "id": "0aj9gQd2nlka",
        "outputId": "116cdfc3-eafa-48d6-8724-8cbd1da3f49d"
      },
      "execution_count": null,
      "outputs": [
        {
          "output_type": "display_data",
          "data": {
            "text/plain": [
              "<IPython.core.display.HTML object>"
            ],
            "text/html": [
              "\n",
              "            <style>\n",
              "                .geemap-dark {\n",
              "                    --jp-widgets-color: white;\n",
              "                    --jp-widgets-label-color: white;\n",
              "                    --jp-ui-font-color1: white;\n",
              "                    --jp-layout-color2: #454545;\n",
              "                    background-color: #383838;\n",
              "                }\n",
              "\n",
              "                .geemap-dark .jupyter-button {\n",
              "                    --jp-layout-color3: #383838;\n",
              "                }\n",
              "\n",
              "                .geemap-colab {\n",
              "                    background-color: var(--colab-primary-surface-color, white);\n",
              "                }\n",
              "\n",
              "                .geemap-colab .jupyter-button {\n",
              "                    --jp-layout-color3: var(--colab-primary-surface-color, white);\n",
              "                }\n",
              "            </style>\n",
              "            "
            ]
          },
          "metadata": {}
        }
      ]
    },
    {
      "cell_type": "code",
      "source": [
        "import pandas as pd\n",
        "\n",
        "# Load ERA5 already aligned to PRISM grid\n",
        "era5 = xr.open_dataset('/content/drive/MyDrive/era5_downscaled/era5_tp_aligned_to_prism.nc')['tp_mm_day']\n",
        "\n",
        "# Load PRISM multiband GeoTIFF\n",
        "prism = rxr.open_rasterio('/content/drive/MyDrive/era5_downscaled/prism_ppt_austin_2015_2024.tif', masked=True)\n",
        "\n",
        "# Convert to DataArray with time dimension\n",
        "dates = pd.date_range('2015-01-01', periods=prism.shape[0])\n",
        "prism = prism.assign_coords(band=dates).rename(band='time')"
      ],
      "metadata": {
        "colab": {
          "base_uri": "https://localhost:8080/",
          "height": 17
        },
        "id": "kOc94Wowk9Nw",
        "outputId": "2b7412b1-9130-4701-a7c9-3d7f3de15968"
      },
      "execution_count": null,
      "outputs": [
        {
          "output_type": "display_data",
          "data": {
            "text/plain": [
              "<IPython.core.display.HTML object>"
            ],
            "text/html": [
              "\n",
              "            <style>\n",
              "                .geemap-dark {\n",
              "                    --jp-widgets-color: white;\n",
              "                    --jp-widgets-label-color: white;\n",
              "                    --jp-ui-font-color1: white;\n",
              "                    --jp-layout-color2: #454545;\n",
              "                    background-color: #383838;\n",
              "                }\n",
              "\n",
              "                .geemap-dark .jupyter-button {\n",
              "                    --jp-layout-color3: #383838;\n",
              "                }\n",
              "\n",
              "                .geemap-colab {\n",
              "                    background-color: var(--colab-primary-surface-color, white);\n",
              "                }\n",
              "\n",
              "                .geemap-colab .jupyter-button {\n",
              "                    --jp-layout-color3: var(--colab-primary-surface-color, white);\n",
              "                }\n",
              "            </style>\n",
              "            "
            ]
          },
          "metadata": {}
        }
      ]
    },
    {
      "cell_type": "code",
      "source": [
        "# Remove single 'band' dim and set coordinates correctly\n",
        "prism = prism.squeeze(drop=True)\n",
        "if 'spatial_ref' in prism.coords:\n",
        "    prism = prism.drop_vars('spatial_ref')"
      ],
      "metadata": {
        "colab": {
          "base_uri": "https://localhost:8080/",
          "height": 17
        },
        "id": "3727TrCFlUIo",
        "outputId": "f76eca70-a436-46cb-8cba-74442af6fb6d"
      },
      "execution_count": null,
      "outputs": [
        {
          "output_type": "display_data",
          "data": {
            "text/plain": [
              "<IPython.core.display.HTML object>"
            ],
            "text/html": [
              "\n",
              "            <style>\n",
              "                .geemap-dark {\n",
              "                    --jp-widgets-color: white;\n",
              "                    --jp-widgets-label-color: white;\n",
              "                    --jp-ui-font-color1: white;\n",
              "                    --jp-layout-color2: #454545;\n",
              "                    background-color: #383838;\n",
              "                }\n",
              "\n",
              "                .geemap-dark .jupyter-button {\n",
              "                    --jp-layout-color3: #383838;\n",
              "                }\n",
              "\n",
              "                .geemap-colab {\n",
              "                    background-color: var(--colab-primary-surface-color, white);\n",
              "                }\n",
              "\n",
              "                .geemap-colab .jupyter-button {\n",
              "                    --jp-layout-color3: var(--colab-primary-surface-color, white);\n",
              "                }\n",
              "            </style>\n",
              "            "
            ]
          },
          "metadata": {}
        }
      ]
    },
    {
      "cell_type": "code",
      "source": [
        "trainval = prism.sel(time=slice('2015-01-01', '2022-12-31'))\n",
        "test = prism.sel(time=slice('2023-01-01', '2024-12-31'))\n",
        "\n",
        "# Split 80/20 train/val\n",
        "train_dates = trainval.time.to_index()\n",
        "split_idx = int(0.8 * len(train_dates))\n",
        "train = trainval.sel(time=train_dates[:split_idx])\n",
        "val = trainval.sel(time=train_dates[split_idx:])\n",
        "\n",
        "# Same for ERA5\n",
        "era5_train = era5.sel(time=train.time)\n",
        "era5_val = era5.sel(time=val.time)\n",
        "era5_test = era5.sel(time=test.time)"
      ],
      "metadata": {
        "colab": {
          "base_uri": "https://localhost:8080/",
          "height": 17
        },
        "id": "RT4pMRlVlVFP",
        "outputId": "14471413-9e35-4dff-a156-6d6f57a2d4e6"
      },
      "execution_count": null,
      "outputs": [
        {
          "output_type": "display_data",
          "data": {
            "text/plain": [
              "<IPython.core.display.HTML object>"
            ],
            "text/html": [
              "\n",
              "            <style>\n",
              "                .geemap-dark {\n",
              "                    --jp-widgets-color: white;\n",
              "                    --jp-widgets-label-color: white;\n",
              "                    --jp-ui-font-color1: white;\n",
              "                    --jp-layout-color2: #454545;\n",
              "                    background-color: #383838;\n",
              "                }\n",
              "\n",
              "                .geemap-dark .jupyter-button {\n",
              "                    --jp-layout-color3: #383838;\n",
              "                }\n",
              "\n",
              "                .geemap-colab {\n",
              "                    background-color: var(--colab-primary-surface-color, white);\n",
              "                }\n",
              "\n",
              "                .geemap-colab .jupyter-button {\n",
              "                    --jp-layout-color3: var(--colab-primary-surface-color, white);\n",
              "                }\n",
              "            </style>\n",
              "            "
            ]
          },
          "metadata": {}
        }
      ]
    },
    {
      "cell_type": "code",
      "source": [
        "train.name = \"tp_mm_day\"\n",
        "val.name = \"tp_mm_day\"\n",
        "test.name = \"tp_mm_day\"\n",
        "\n",
        "era5_train.name = \"tp_mm_day\"\n",
        "era5_val.name = \"tp_mm_day\"\n",
        "era5_test.name = \"tp_mm_day\""
      ],
      "metadata": {
        "colab": {
          "base_uri": "https://localhost:8080/",
          "height": 17
        },
        "id": "H3ESUbHMwmhy",
        "outputId": "63fbef9b-d515-4991-f42e-aec802e5fd9f"
      },
      "execution_count": null,
      "outputs": [
        {
          "output_type": "display_data",
          "data": {
            "text/plain": [
              "<IPython.core.display.HTML object>"
            ],
            "text/html": [
              "\n",
              "            <style>\n",
              "                .geemap-dark {\n",
              "                    --jp-widgets-color: white;\n",
              "                    --jp-widgets-label-color: white;\n",
              "                    --jp-ui-font-color1: white;\n",
              "                    --jp-layout-color2: #454545;\n",
              "                    background-color: #383838;\n",
              "                }\n",
              "\n",
              "                .geemap-dark .jupyter-button {\n",
              "                    --jp-layout-color3: #383838;\n",
              "                }\n",
              "\n",
              "                .geemap-colab {\n",
              "                    background-color: var(--colab-primary-surface-color, white);\n",
              "                }\n",
              "\n",
              "                .geemap-colab .jupyter-button {\n",
              "                    --jp-layout-color3: var(--colab-primary-surface-color, white);\n",
              "                }\n",
              "            </style>\n",
              "            "
            ]
          },
          "metadata": {}
        }
      ]
    },
    {
      "cell_type": "code",
      "source": [
        "train.to_netcdf('/content/drive/MyDrive/era5_downscaled/prism_train.nc')\n",
        "val.to_netcdf('/content/drive/MyDrive/era5_downscaled/prism_val.nc')\n",
        "test.to_netcdf('/content/drive/MyDrive/era5_downscaled/prism_test.nc')\n",
        "\n",
        "era5_train.to_netcdf('/content/drive/MyDrive/era5_downscaled/era5_train.nc')\n",
        "era5_val.to_netcdf('/content/drive/MyDrive/era5_downscaled/era5_val.nc')\n",
        "era5_test.to_netcdf('/content/drive/MyDrive/era5_downscaled/era5_test.nc')"
      ],
      "metadata": {
        "colab": {
          "base_uri": "https://localhost:8080/",
          "height": 17
        },
        "id": "egEmp0ROpiTK",
        "outputId": "1b84bc57-b8e2-4c58-a5bd-cb632c0863c6"
      },
      "execution_count": null,
      "outputs": [
        {
          "output_type": "display_data",
          "data": {
            "text/plain": [
              "<IPython.core.display.HTML object>"
            ],
            "text/html": [
              "\n",
              "            <style>\n",
              "                .geemap-dark {\n",
              "                    --jp-widgets-color: white;\n",
              "                    --jp-widgets-label-color: white;\n",
              "                    --jp-ui-font-color1: white;\n",
              "                    --jp-layout-color2: #454545;\n",
              "                    background-color: #383838;\n",
              "                }\n",
              "\n",
              "                .geemap-dark .jupyter-button {\n",
              "                    --jp-layout-color3: #383838;\n",
              "                }\n",
              "\n",
              "                .geemap-colab {\n",
              "                    background-color: var(--colab-primary-surface-color, white);\n",
              "                }\n",
              "\n",
              "                .geemap-colab .jupyter-button {\n",
              "                    --jp-layout-color3: var(--colab-primary-surface-color, white);\n",
              "                }\n",
              "            </style>\n",
              "            "
            ]
          },
          "metadata": {}
        }
      ]
    },
    {
      "cell_type": "code",
      "source": [
        "import wandb\n",
        "wandb.login()"
      ],
      "metadata": {
        "colab": {
          "base_uri": "https://localhost:8080/",
          "height": 215
        },
        "id": "Tkb10MrXqYAz",
        "outputId": "dfc2bd71-85b3-48b6-ed61-04da7a464d01"
      },
      "execution_count": 4,
      "outputs": [
        {
          "output_type": "display_data",
          "data": {
            "text/plain": [
              "<IPython.core.display.Javascript object>"
            ],
            "application/javascript": [
              "\n",
              "        window._wandbApiKey = new Promise((resolve, reject) => {\n",
              "            function loadScript(url) {\n",
              "            return new Promise(function(resolve, reject) {\n",
              "                let newScript = document.createElement(\"script\");\n",
              "                newScript.onerror = reject;\n",
              "                newScript.onload = resolve;\n",
              "                document.body.appendChild(newScript);\n",
              "                newScript.src = url;\n",
              "            });\n",
              "            }\n",
              "            loadScript(\"https://cdn.jsdelivr.net/npm/postmate/build/postmate.min.js\").then(() => {\n",
              "            const iframe = document.createElement('iframe')\n",
              "            iframe.style.cssText = \"width:0;height:0;border:none\"\n",
              "            document.body.appendChild(iframe)\n",
              "            const handshake = new Postmate({\n",
              "                container: iframe,\n",
              "                url: 'https://wandb.ai/authorize'\n",
              "            });\n",
              "            const timeout = setTimeout(() => reject(\"Couldn't auto authenticate\"), 5000)\n",
              "            handshake.then(function(child) {\n",
              "                child.on('authorize', data => {\n",
              "                    clearTimeout(timeout)\n",
              "                    resolve(data)\n",
              "                });\n",
              "            });\n",
              "            })\n",
              "        });\n",
              "    "
            ]
          },
          "metadata": {}
        },
        {
          "output_type": "stream",
          "name": "stderr",
          "text": [
            "\u001b[34m\u001b[1mwandb\u001b[0m: Logging into wandb.ai. (Learn how to deploy a W&B server locally: https://wandb.me/wandb-server)\n",
            "\u001b[34m\u001b[1mwandb\u001b[0m: You can find your API key in your browser here: https://wandb.ai/authorize\n",
            "wandb: Paste an API key from your profile and hit enter:"
          ]
        },
        {
          "name": "stdout",
          "output_type": "stream",
          "text": [
            " ··········\n"
          ]
        },
        {
          "output_type": "stream",
          "name": "stderr",
          "text": [
            "\u001b[34m\u001b[1mwandb\u001b[0m: \u001b[33mWARNING\u001b[0m If you're specifying your api key in code, ensure this code is not shared publicly.\n",
            "\u001b[34m\u001b[1mwandb\u001b[0m: \u001b[33mWARNING\u001b[0m Consider setting the WANDB_API_KEY environment variable, or running `wandb login` from the command line.\n",
            "\u001b[34m\u001b[1mwandb\u001b[0m: No netrc file found, creating one.\n",
            "\u001b[34m\u001b[1mwandb\u001b[0m: Appending key for api.wandb.ai to your netrc file: /root/.netrc\n",
            "\u001b[34m\u001b[1mwandb\u001b[0m: Currently logged in as: \u001b[33mnvnsudharsan\u001b[0m (\u001b[33mnvnsudharsan-the-university-of-texas-at-austin\u001b[0m) to \u001b[32mhttps://api.wandb.ai\u001b[0m. Use \u001b[1m`wandb login --relogin`\u001b[0m to force relogin\n"
          ]
        },
        {
          "output_type": "execute_result",
          "data": {
            "text/plain": [
              "True"
            ]
          },
          "metadata": {},
          "execution_count": 4
        }
      ]
    },
    {
      "cell_type": "code",
      "source": [
        "!git clone https://github.com/manmeet3591/xdownscale.git\n",
        "#!cd /content/xdownscale\n",
        "!pip install /content/xdownscale/."
      ],
      "metadata": {
        "colab": {
          "base_uri": "https://localhost:8080/"
        },
        "id": "THsMLATHtLLE",
        "outputId": "ba5a8985-20ea-449a-bb85-80a5163f7a15"
      },
      "execution_count": 5,
      "outputs": [
        {
          "output_type": "stream",
          "name": "stdout",
          "text": [
            "Cloning into 'xdownscale'...\n",
            "remote: Enumerating objects: 456, done.\u001b[K\n",
            "remote: Counting objects: 100% (98/98), done.\u001b[K\n",
            "remote: Compressing objects: 100% (94/94), done.\u001b[K\n",
            "remote: Total 456 (delta 50), reused 8 (delta 1), pack-reused 358 (from 3)\u001b[K\n",
            "Receiving objects: 100% (456/456), 7.58 MiB | 11.44 MiB/s, done.\n",
            "Resolving deltas: 100% (248/248), done.\n",
            "Processing ./xdownscale\n",
            "  Preparing metadata (setup.py) ... \u001b[?25l\u001b[?25hdone\n",
            "Requirement already satisfied: torch in /usr/local/lib/python3.11/dist-packages (from xdownscale==1.0.1) (2.6.0+cu124)\n",
            "Requirement already satisfied: xarray in /usr/local/lib/python3.11/dist-packages (from xdownscale==1.0.1) (2025.3.1)\n",
            "Requirement already satisfied: numpy in /usr/local/lib/python3.11/dist-packages (from xdownscale==1.0.1) (2.0.2)\n",
            "Requirement already satisfied: filelock in /usr/local/lib/python3.11/dist-packages (from torch->xdownscale==1.0.1) (3.18.0)\n",
            "Requirement already satisfied: typing-extensions>=4.10.0 in /usr/local/lib/python3.11/dist-packages (from torch->xdownscale==1.0.1) (4.14.0)\n",
            "Requirement already satisfied: networkx in /usr/local/lib/python3.11/dist-packages (from torch->xdownscale==1.0.1) (3.5)\n",
            "Requirement already satisfied: jinja2 in /usr/local/lib/python3.11/dist-packages (from torch->xdownscale==1.0.1) (3.1.6)\n",
            "Requirement already satisfied: fsspec in /usr/local/lib/python3.11/dist-packages (from torch->xdownscale==1.0.1) (2025.3.2)\n",
            "Collecting nvidia-cuda-nvrtc-cu12==12.4.127 (from torch->xdownscale==1.0.1)\n",
            "  Downloading nvidia_cuda_nvrtc_cu12-12.4.127-py3-none-manylinux2014_x86_64.whl.metadata (1.5 kB)\n",
            "Collecting nvidia-cuda-runtime-cu12==12.4.127 (from torch->xdownscale==1.0.1)\n",
            "  Downloading nvidia_cuda_runtime_cu12-12.4.127-py3-none-manylinux2014_x86_64.whl.metadata (1.5 kB)\n",
            "Collecting nvidia-cuda-cupti-cu12==12.4.127 (from torch->xdownscale==1.0.1)\n",
            "  Downloading nvidia_cuda_cupti_cu12-12.4.127-py3-none-manylinux2014_x86_64.whl.metadata (1.6 kB)\n",
            "Collecting nvidia-cudnn-cu12==9.1.0.70 (from torch->xdownscale==1.0.1)\n",
            "  Downloading nvidia_cudnn_cu12-9.1.0.70-py3-none-manylinux2014_x86_64.whl.metadata (1.6 kB)\n",
            "Collecting nvidia-cublas-cu12==12.4.5.8 (from torch->xdownscale==1.0.1)\n",
            "  Downloading nvidia_cublas_cu12-12.4.5.8-py3-none-manylinux2014_x86_64.whl.metadata (1.5 kB)\n",
            "Collecting nvidia-cufft-cu12==11.2.1.3 (from torch->xdownscale==1.0.1)\n",
            "  Downloading nvidia_cufft_cu12-11.2.1.3-py3-none-manylinux2014_x86_64.whl.metadata (1.5 kB)\n",
            "Collecting nvidia-curand-cu12==10.3.5.147 (from torch->xdownscale==1.0.1)\n",
            "  Downloading nvidia_curand_cu12-10.3.5.147-py3-none-manylinux2014_x86_64.whl.metadata (1.5 kB)\n",
            "Collecting nvidia-cusolver-cu12==11.6.1.9 (from torch->xdownscale==1.0.1)\n",
            "  Downloading nvidia_cusolver_cu12-11.6.1.9-py3-none-manylinux2014_x86_64.whl.metadata (1.6 kB)\n",
            "Collecting nvidia-cusparse-cu12==12.3.1.170 (from torch->xdownscale==1.0.1)\n",
            "  Downloading nvidia_cusparse_cu12-12.3.1.170-py3-none-manylinux2014_x86_64.whl.metadata (1.6 kB)\n",
            "Requirement already satisfied: nvidia-cusparselt-cu12==0.6.2 in /usr/local/lib/python3.11/dist-packages (from torch->xdownscale==1.0.1) (0.6.2)\n",
            "Requirement already satisfied: nvidia-nccl-cu12==2.21.5 in /usr/local/lib/python3.11/dist-packages (from torch->xdownscale==1.0.1) (2.21.5)\n",
            "Requirement already satisfied: nvidia-nvtx-cu12==12.4.127 in /usr/local/lib/python3.11/dist-packages (from torch->xdownscale==1.0.1) (12.4.127)\n",
            "Collecting nvidia-nvjitlink-cu12==12.4.127 (from torch->xdownscale==1.0.1)\n",
            "  Downloading nvidia_nvjitlink_cu12-12.4.127-py3-none-manylinux2014_x86_64.whl.metadata (1.5 kB)\n",
            "Requirement already satisfied: triton==3.2.0 in /usr/local/lib/python3.11/dist-packages (from torch->xdownscale==1.0.1) (3.2.0)\n",
            "Requirement already satisfied: sympy==1.13.1 in /usr/local/lib/python3.11/dist-packages (from torch->xdownscale==1.0.1) (1.13.1)\n",
            "Requirement already satisfied: mpmath<1.4,>=1.1.0 in /usr/local/lib/python3.11/dist-packages (from sympy==1.13.1->torch->xdownscale==1.0.1) (1.3.0)\n",
            "Requirement already satisfied: packaging>=23.2 in /usr/local/lib/python3.11/dist-packages (from xarray->xdownscale==1.0.1) (24.2)\n",
            "Requirement already satisfied: pandas>=2.1 in /usr/local/lib/python3.11/dist-packages (from xarray->xdownscale==1.0.1) (2.2.2)\n",
            "Requirement already satisfied: python-dateutil>=2.8.2 in /usr/local/lib/python3.11/dist-packages (from pandas>=2.1->xarray->xdownscale==1.0.1) (2.9.0.post0)\n",
            "Requirement already satisfied: pytz>=2020.1 in /usr/local/lib/python3.11/dist-packages (from pandas>=2.1->xarray->xdownscale==1.0.1) (2025.2)\n",
            "Requirement already satisfied: tzdata>=2022.7 in /usr/local/lib/python3.11/dist-packages (from pandas>=2.1->xarray->xdownscale==1.0.1) (2025.2)\n",
            "Requirement already satisfied: MarkupSafe>=2.0 in /usr/local/lib/python3.11/dist-packages (from jinja2->torch->xdownscale==1.0.1) (3.0.2)\n",
            "Requirement already satisfied: six>=1.5 in /usr/local/lib/python3.11/dist-packages (from python-dateutil>=2.8.2->pandas>=2.1->xarray->xdownscale==1.0.1) (1.17.0)\n",
            "Downloading nvidia_cublas_cu12-12.4.5.8-py3-none-manylinux2014_x86_64.whl (363.4 MB)\n",
            "\u001b[2K   \u001b[90m━━━━━━━━━━━━━━━━━━━━━━━━━━━━━━━━━━━━━━━━\u001b[0m \u001b[32m363.4/363.4 MB\u001b[0m \u001b[31m3.2 MB/s\u001b[0m eta \u001b[36m0:00:00\u001b[0m\n",
            "\u001b[?25hDownloading nvidia_cuda_cupti_cu12-12.4.127-py3-none-manylinux2014_x86_64.whl (13.8 MB)\n",
            "\u001b[2K   \u001b[90m━━━━━━━━━━━━━━━━━━━━━━━━━━━━━━━━━━━━━━━━\u001b[0m \u001b[32m13.8/13.8 MB\u001b[0m \u001b[31m126.0 MB/s\u001b[0m eta \u001b[36m0:00:00\u001b[0m\n",
            "\u001b[?25hDownloading nvidia_cuda_nvrtc_cu12-12.4.127-py3-none-manylinux2014_x86_64.whl (24.6 MB)\n",
            "\u001b[2K   \u001b[90m━━━━━━━━━━━━━━━━━━━━━━━━━━━━━━━━━━━━━━━━\u001b[0m \u001b[32m24.6/24.6 MB\u001b[0m \u001b[31m98.4 MB/s\u001b[0m eta \u001b[36m0:00:00\u001b[0m\n",
            "\u001b[?25hDownloading nvidia_cuda_runtime_cu12-12.4.127-py3-none-manylinux2014_x86_64.whl (883 kB)\n",
            "\u001b[2K   \u001b[90m━━━━━━━━━━━━━━━━━━━━━━━━━━━━━━━━━━━━━━━━\u001b[0m \u001b[32m883.7/883.7 kB\u001b[0m \u001b[31m67.4 MB/s\u001b[0m eta \u001b[36m0:00:00\u001b[0m\n",
            "\u001b[?25hDownloading nvidia_cudnn_cu12-9.1.0.70-py3-none-manylinux2014_x86_64.whl (664.8 MB)\n",
            "\u001b[2K   \u001b[90m━━━━━━━━━━━━━━━━━━━━━━━━━━━━━━━━━━━━━━━━\u001b[0m \u001b[32m664.8/664.8 MB\u001b[0m \u001b[31m2.3 MB/s\u001b[0m eta \u001b[36m0:00:00\u001b[0m\n",
            "\u001b[?25hDownloading nvidia_cufft_cu12-11.2.1.3-py3-none-manylinux2014_x86_64.whl (211.5 MB)\n",
            "\u001b[2K   \u001b[90m━━━━━━━━━━━━━━━━━━━━━━━━━━━━━━━━━━━━━━━━\u001b[0m \u001b[32m211.5/211.5 MB\u001b[0m \u001b[31m5.1 MB/s\u001b[0m eta \u001b[36m0:00:00\u001b[0m\n",
            "\u001b[?25hDownloading nvidia_curand_cu12-10.3.5.147-py3-none-manylinux2014_x86_64.whl (56.3 MB)\n",
            "\u001b[2K   \u001b[90m━━━━━━━━━━━━━━━━━━━━━━━━━━━━━━━━━━━━━━━━\u001b[0m \u001b[32m56.3/56.3 MB\u001b[0m \u001b[31m43.0 MB/s\u001b[0m eta \u001b[36m0:00:00\u001b[0m\n",
            "\u001b[?25hDownloading nvidia_cusolver_cu12-11.6.1.9-py3-none-manylinux2014_x86_64.whl (127.9 MB)\n",
            "\u001b[2K   \u001b[90m━━━━━━━━━━━━━━━━━━━━━━━━━━━━━━━━━━━━━━━━\u001b[0m \u001b[32m127.9/127.9 MB\u001b[0m \u001b[31m20.1 MB/s\u001b[0m eta \u001b[36m0:00:00\u001b[0m\n",
            "\u001b[?25hDownloading nvidia_cusparse_cu12-12.3.1.170-py3-none-manylinux2014_x86_64.whl (207.5 MB)\n",
            "\u001b[2K   \u001b[90m━━━━━━━━━━━━━━━━━━━━━━━━━━━━━━━━━━━━━━━━\u001b[0m \u001b[32m207.5/207.5 MB\u001b[0m \u001b[31m5.0 MB/s\u001b[0m eta \u001b[36m0:00:00\u001b[0m\n",
            "\u001b[?25hDownloading nvidia_nvjitlink_cu12-12.4.127-py3-none-manylinux2014_x86_64.whl (21.1 MB)\n",
            "\u001b[2K   \u001b[90m━━━━━━━━━━━━━━━━━━━━━━━━━━━━━━━━━━━━━━━━\u001b[0m \u001b[32m21.1/21.1 MB\u001b[0m \u001b[31m113.4 MB/s\u001b[0m eta \u001b[36m0:00:00\u001b[0m\n",
            "\u001b[?25hBuilding wheels for collected packages: xdownscale\n",
            "  Building wheel for xdownscale (setup.py) ... \u001b[?25l\u001b[?25hdone\n",
            "  Created wheel for xdownscale: filename=xdownscale-1.0.1-py3-none-any.whl size=23414 sha256=8cd9cd89804844e8d20463a8c4dbc20daf95fec0d6ee70916c59946e0b43bcf5\n",
            "  Stored in directory: /tmp/pip-ephem-wheel-cache-k8q1afu4/wheels/7b/6b/cb/f746cd30113c00533f3acfa90d11bf485ebaa895b26ca092a0\n",
            "Successfully built xdownscale\n",
            "Installing collected packages: nvidia-nvjitlink-cu12, nvidia-curand-cu12, nvidia-cufft-cu12, nvidia-cuda-runtime-cu12, nvidia-cuda-nvrtc-cu12, nvidia-cuda-cupti-cu12, nvidia-cublas-cu12, nvidia-cusparse-cu12, nvidia-cudnn-cu12, nvidia-cusolver-cu12, xdownscale\n",
            "  Attempting uninstall: nvidia-nvjitlink-cu12\n",
            "    Found existing installation: nvidia-nvjitlink-cu12 12.5.82\n",
            "    Uninstalling nvidia-nvjitlink-cu12-12.5.82:\n",
            "      Successfully uninstalled nvidia-nvjitlink-cu12-12.5.82\n",
            "  Attempting uninstall: nvidia-curand-cu12\n",
            "    Found existing installation: nvidia-curand-cu12 10.3.6.82\n",
            "    Uninstalling nvidia-curand-cu12-10.3.6.82:\n",
            "      Successfully uninstalled nvidia-curand-cu12-10.3.6.82\n",
            "  Attempting uninstall: nvidia-cufft-cu12\n",
            "    Found existing installation: nvidia-cufft-cu12 11.2.3.61\n",
            "    Uninstalling nvidia-cufft-cu12-11.2.3.61:\n",
            "      Successfully uninstalled nvidia-cufft-cu12-11.2.3.61\n",
            "  Attempting uninstall: nvidia-cuda-runtime-cu12\n",
            "    Found existing installation: nvidia-cuda-runtime-cu12 12.5.82\n",
            "    Uninstalling nvidia-cuda-runtime-cu12-12.5.82:\n",
            "      Successfully uninstalled nvidia-cuda-runtime-cu12-12.5.82\n",
            "  Attempting uninstall: nvidia-cuda-nvrtc-cu12\n",
            "    Found existing installation: nvidia-cuda-nvrtc-cu12 12.5.82\n",
            "    Uninstalling nvidia-cuda-nvrtc-cu12-12.5.82:\n",
            "      Successfully uninstalled nvidia-cuda-nvrtc-cu12-12.5.82\n",
            "  Attempting uninstall: nvidia-cuda-cupti-cu12\n",
            "    Found existing installation: nvidia-cuda-cupti-cu12 12.5.82\n",
            "    Uninstalling nvidia-cuda-cupti-cu12-12.5.82:\n",
            "      Successfully uninstalled nvidia-cuda-cupti-cu12-12.5.82\n",
            "  Attempting uninstall: nvidia-cublas-cu12\n",
            "    Found existing installation: nvidia-cublas-cu12 12.5.3.2\n",
            "    Uninstalling nvidia-cublas-cu12-12.5.3.2:\n",
            "      Successfully uninstalled nvidia-cublas-cu12-12.5.3.2\n",
            "  Attempting uninstall: nvidia-cusparse-cu12\n",
            "    Found existing installation: nvidia-cusparse-cu12 12.5.1.3\n",
            "    Uninstalling nvidia-cusparse-cu12-12.5.1.3:\n",
            "      Successfully uninstalled nvidia-cusparse-cu12-12.5.1.3\n",
            "  Attempting uninstall: nvidia-cudnn-cu12\n",
            "    Found existing installation: nvidia-cudnn-cu12 9.3.0.75\n",
            "    Uninstalling nvidia-cudnn-cu12-9.3.0.75:\n",
            "      Successfully uninstalled nvidia-cudnn-cu12-9.3.0.75\n",
            "  Attempting uninstall: nvidia-cusolver-cu12\n",
            "    Found existing installation: nvidia-cusolver-cu12 11.6.3.83\n",
            "    Uninstalling nvidia-cusolver-cu12-11.6.3.83:\n",
            "      Successfully uninstalled nvidia-cusolver-cu12-11.6.3.83\n",
            "Successfully installed nvidia-cublas-cu12-12.4.5.8 nvidia-cuda-cupti-cu12-12.4.127 nvidia-cuda-nvrtc-cu12-12.4.127 nvidia-cuda-runtime-cu12-12.4.127 nvidia-cudnn-cu12-9.1.0.70 nvidia-cufft-cu12-11.2.1.3 nvidia-curand-cu12-10.3.5.147 nvidia-cusolver-cu12-11.6.1.9 nvidia-cusparse-cu12-12.3.1.170 nvidia-nvjitlink-cu12-12.4.127 xdownscale-1.0.1\n"
          ]
        }
      ]
    },
    {
      "cell_type": "code",
      "source": [
        "import xarray as xr\n",
        "\n",
        "def center_crop_2d(da, size=(180, 180)):\n",
        "    \"\"\"Crops the DataArray along x and y to the center (192x192).\"\"\"\n",
        "    y, x = da.sizes['y'], da.sizes['x']\n",
        "    dy, dx = size\n",
        "\n",
        "    y_start = (y - dy) // 2\n",
        "    x_start = (x - dx) // 2\n",
        "\n",
        "    return da.isel(y=slice(y_start, y_start + dy), x=slice(x_start, x_start + dx))\n",
        "\n",
        "def ensure_time_first(da):\n",
        "    \"\"\"Ensures dimensions are ordered (time, y, x).\"\"\"\n",
        "    if 'time' in da.dims:\n",
        "        return da.transpose('time', 'y', 'x')\n",
        "    else:\n",
        "        da = da.expand_dims(dim='time')  # just in case time was squeezed out\n",
        "        return da.transpose('time', 'y', 'x')"
      ],
      "metadata": {
        "id": "LrzElMScLZ_p"
      },
      "execution_count": 13,
      "outputs": []
    },
    {
      "cell_type": "code",
      "source": [
        "data_dir = \"/content/drive/MyDrive/era5_downscaled\"\n",
        "\n",
        "input_da = xr.open_mfdataset([f\"{data_dir}/era5_train.nc\", f\"{data_dir}/era5_val.nc\"]).to_array().squeeze()\n",
        "target_da = xr.open_mfdataset([f\"{data_dir}/prism_train.nc\", f\"{data_dir}/prism_val.nc\"]).to_array().squeeze()\n",
        "input_test = xr.open_dataset(f\"{data_dir}/era5_test.nc\").to_array().squeeze()\n",
        "target_test = xr.open_dataset(f\"{data_dir}/prism_test.nc\").to_array().squeeze()\n",
        "\n",
        "# Crop spatial dims to 192x192\n",
        "input_da = center_crop_2d(input_da)\n",
        "target_da = center_crop_2d(target_da)\n",
        "input_test = center_crop_2d(input_test)\n",
        "target_test = center_crop_2d(target_test)\n",
        "\n",
        "# Ensure all are (time, y, x)\n",
        "input_da = ensure_time_first(input_da)\n",
        "target_da = ensure_time_first(target_da)\n",
        "input_test = ensure_time_first(input_test)\n",
        "target_test = ensure_time_first(target_test)\n",
        "\n",
        "# Final check\n",
        "print(\"Input:\", input_da.shape)\n",
        "print(\"Target:\", target_da.shape)\n",
        "print(\"Input Test:\", input_test.shape)\n",
        "print(\"Target Test:\", target_test.shape)"
      ],
      "metadata": {
        "colab": {
          "base_uri": "https://localhost:8080/"
        },
        "id": "0tzKjw9JLcj9",
        "outputId": "88c0d2ae-7128-4e1f-dedd-4696ba211776"
      },
      "execution_count": 14,
      "outputs": [
        {
          "output_type": "stream",
          "name": "stdout",
          "text": [
            "Input: (2922, 180, 180)\n",
            "Target: (2922, 180, 180)\n",
            "Input Test: (730, 180, 180)\n",
            "Target Test: (730, 180, 180)\n"
          ]
        }
      ]
    },
    {
      "cell_type": "code",
      "source": [
        "import xarray as xr\n",
        "import numpy as np\n",
        "import os\n",
        "import torch\n",
        "import wandb\n",
        "from xdownscale import Downscaler  # make sure `Downscaler` is correctly imported from your package\n",
        "\n",
        "# ---------- CONFIGURATION ----------\n",
        "model_list = [\n",
        "    \"srcnn\", \"fsrcnn\", \"lapsr\", \"carnm\", \"falsra\", \"falsrb\", \"srresnet\",\n",
        "    \"carn\", \"oisrrk2\", \"mdsr\", \"san\", \"rcan\", \"unet\", \"dlgsanet\", \"dpmn\",\n",
        "    \"safmn\", \"dpt\", \"distgssr\", \"swin\"\n",
        "]\n",
        "\n",
        "data_dir = '/content/drive/MyDrive/era5_downscaled'\n",
        "output_dir = os.path.join(data_dir, 'model_weights')\n",
        "os.makedirs(output_dir, exist_ok=True)\n",
        "\n",
        "# ---------- HELPER: STACK TIME TO SAMPLE ----------\n",
        "def preprocess_time_as_batch(da):\n",
        "    return da.stack(sample=(\"time\",)).transpose(\"sample\", \"y\", \"x\")\n",
        "\n",
        "# ---------- STACK FOR TRAINING ----------\n",
        "input_stack = preprocess_time_as_batch(input_da)\n",
        "target_stack = preprocess_time_as_batch(target_da)\n"
      ],
      "metadata": {
        "id": "icJXB8yQqeS7"
      },
      "execution_count": 15,
      "outputs": []
    },
    {
      "cell_type": "code",
      "source": [
        "input_stack"
      ],
      "metadata": {
        "colab": {
          "base_uri": "https://localhost:8080/",
          "height": 430
        },
        "id": "k_qZglsTXDB-",
        "outputId": "3adc6f30-e91a-4018-d786-f22023cb968a"
      },
      "execution_count": 16,
      "outputs": [
        {
          "output_type": "execute_result",
          "data": {
            "text/plain": [
              "<xarray.DataArray (sample: 2922, y: 180, x: 180)> Size: 379MB\n",
              "dask.array<transpose, shape=(2922, 180, 180), dtype=float32, chunksize=(2337, 180, 180), chunktype=numpy.ndarray>\n",
              "Coordinates:\n",
              "  * x         (x) float64 1kB -97.9 -97.89 -97.88 ... -96.62 -96.62 -96.61\n",
              "  * y         (y) float64 1kB 30.9 30.89 30.88 30.88 ... 29.63 29.62 29.62 29.61\n",
              "    variable  <U9 36B 'tp_mm_day'\n",
              "  * sample    (sample) object 23kB MultiIndex\n",
              "  * time      (sample) datetime64[ns] 23kB 2015-01-01 2015-01-02 ... 2022-12-31"
            ],
            "text/html": [
              "<div><svg style=\"position: absolute; width: 0; height: 0; overflow: hidden\">\n",
              "<defs>\n",
              "<symbol id=\"icon-database\" viewBox=\"0 0 32 32\">\n",
              "<path d=\"M16 0c-8.837 0-16 2.239-16 5v4c0 2.761 7.163 5 16 5s16-2.239 16-5v-4c0-2.761-7.163-5-16-5z\"></path>\n",
              "<path d=\"M16 17c-8.837 0-16-2.239-16-5v6c0 2.761 7.163 5 16 5s16-2.239 16-5v-6c0 2.761-7.163 5-16 5z\"></path>\n",
              "<path d=\"M16 26c-8.837 0-16-2.239-16-5v6c0 2.761 7.163 5 16 5s16-2.239 16-5v-6c0 2.761-7.163 5-16 5z\"></path>\n",
              "</symbol>\n",
              "<symbol id=\"icon-file-text2\" viewBox=\"0 0 32 32\">\n",
              "<path d=\"M28.681 7.159c-0.694-0.947-1.662-2.053-2.724-3.116s-2.169-2.030-3.116-2.724c-1.612-1.182-2.393-1.319-2.841-1.319h-15.5c-1.378 0-2.5 1.121-2.5 2.5v27c0 1.378 1.122 2.5 2.5 2.5h23c1.378 0 2.5-1.122 2.5-2.5v-19.5c0-0.448-0.137-1.23-1.319-2.841zM24.543 5.457c0.959 0.959 1.712 1.825 2.268 2.543h-4.811v-4.811c0.718 0.556 1.584 1.309 2.543 2.268zM28 29.5c0 0.271-0.229 0.5-0.5 0.5h-23c-0.271 0-0.5-0.229-0.5-0.5v-27c0-0.271 0.229-0.5 0.5-0.5 0 0 15.499-0 15.5 0v7c0 0.552 0.448 1 1 1h7v19.5z\"></path>\n",
              "<path d=\"M23 26h-14c-0.552 0-1-0.448-1-1s0.448-1 1-1h14c0.552 0 1 0.448 1 1s-0.448 1-1 1z\"></path>\n",
              "<path d=\"M23 22h-14c-0.552 0-1-0.448-1-1s0.448-1 1-1h14c0.552 0 1 0.448 1 1s-0.448 1-1 1z\"></path>\n",
              "<path d=\"M23 18h-14c-0.552 0-1-0.448-1-1s0.448-1 1-1h14c0.552 0 1 0.448 1 1s-0.448 1-1 1z\"></path>\n",
              "</symbol>\n",
              "</defs>\n",
              "</svg>\n",
              "<style>/* CSS stylesheet for displaying xarray objects in jupyterlab.\n",
              " *\n",
              " */\n",
              "\n",
              ":root {\n",
              "  --xr-font-color0: var(--jp-content-font-color0, rgba(0, 0, 0, 1));\n",
              "  --xr-font-color2: var(--jp-content-font-color2, rgba(0, 0, 0, 0.54));\n",
              "  --xr-font-color3: var(--jp-content-font-color3, rgba(0, 0, 0, 0.38));\n",
              "  --xr-border-color: var(--jp-border-color2, #e0e0e0);\n",
              "  --xr-disabled-color: var(--jp-layout-color3, #bdbdbd);\n",
              "  --xr-background-color: var(--jp-layout-color0, white);\n",
              "  --xr-background-color-row-even: var(--jp-layout-color1, white);\n",
              "  --xr-background-color-row-odd: var(--jp-layout-color2, #eeeeee);\n",
              "}\n",
              "\n",
              "html[theme=\"dark\"],\n",
              "html[data-theme=\"dark\"],\n",
              "body[data-theme=\"dark\"],\n",
              "body.vscode-dark {\n",
              "  --xr-font-color0: rgba(255, 255, 255, 1);\n",
              "  --xr-font-color2: rgba(255, 255, 255, 0.54);\n",
              "  --xr-font-color3: rgba(255, 255, 255, 0.38);\n",
              "  --xr-border-color: #1f1f1f;\n",
              "  --xr-disabled-color: #515151;\n",
              "  --xr-background-color: #111111;\n",
              "  --xr-background-color-row-even: #111111;\n",
              "  --xr-background-color-row-odd: #313131;\n",
              "}\n",
              "\n",
              ".xr-wrap {\n",
              "  display: block !important;\n",
              "  min-width: 300px;\n",
              "  max-width: 700px;\n",
              "}\n",
              "\n",
              ".xr-text-repr-fallback {\n",
              "  /* fallback to plain text repr when CSS is not injected (untrusted notebook) */\n",
              "  display: none;\n",
              "}\n",
              "\n",
              ".xr-header {\n",
              "  padding-top: 6px;\n",
              "  padding-bottom: 6px;\n",
              "  margin-bottom: 4px;\n",
              "  border-bottom: solid 1px var(--xr-border-color);\n",
              "}\n",
              "\n",
              ".xr-header > div,\n",
              ".xr-header > ul {\n",
              "  display: inline;\n",
              "  margin-top: 0;\n",
              "  margin-bottom: 0;\n",
              "}\n",
              "\n",
              ".xr-obj-type,\n",
              ".xr-array-name {\n",
              "  margin-left: 2px;\n",
              "  margin-right: 10px;\n",
              "}\n",
              "\n",
              ".xr-obj-type {\n",
              "  color: var(--xr-font-color2);\n",
              "}\n",
              "\n",
              ".xr-sections {\n",
              "  padding-left: 0 !important;\n",
              "  display: grid;\n",
              "  grid-template-columns: 150px auto auto 1fr 0 20px 0 20px;\n",
              "}\n",
              "\n",
              ".xr-section-item {\n",
              "  display: contents;\n",
              "}\n",
              "\n",
              ".xr-section-item input {\n",
              "  display: inline-block;\n",
              "  opacity: 0;\n",
              "  height: 0;\n",
              "}\n",
              "\n",
              ".xr-section-item input + label {\n",
              "  color: var(--xr-disabled-color);\n",
              "}\n",
              "\n",
              ".xr-section-item input:enabled + label {\n",
              "  cursor: pointer;\n",
              "  color: var(--xr-font-color2);\n",
              "}\n",
              "\n",
              ".xr-section-item input:focus + label {\n",
              "  border: 2px solid var(--xr-font-color0);\n",
              "}\n",
              "\n",
              ".xr-section-item input:enabled + label:hover {\n",
              "  color: var(--xr-font-color0);\n",
              "}\n",
              "\n",
              ".xr-section-summary {\n",
              "  grid-column: 1;\n",
              "  color: var(--xr-font-color2);\n",
              "  font-weight: 500;\n",
              "}\n",
              "\n",
              ".xr-section-summary > span {\n",
              "  display: inline-block;\n",
              "  padding-left: 0.5em;\n",
              "}\n",
              "\n",
              ".xr-section-summary-in:disabled + label {\n",
              "  color: var(--xr-font-color2);\n",
              "}\n",
              "\n",
              ".xr-section-summary-in + label:before {\n",
              "  display: inline-block;\n",
              "  content: \"►\";\n",
              "  font-size: 11px;\n",
              "  width: 15px;\n",
              "  text-align: center;\n",
              "}\n",
              "\n",
              ".xr-section-summary-in:disabled + label:before {\n",
              "  color: var(--xr-disabled-color);\n",
              "}\n",
              "\n",
              ".xr-section-summary-in:checked + label:before {\n",
              "  content: \"▼\";\n",
              "}\n",
              "\n",
              ".xr-section-summary-in:checked + label > span {\n",
              "  display: none;\n",
              "}\n",
              "\n",
              ".xr-section-summary,\n",
              ".xr-section-inline-details {\n",
              "  padding-top: 4px;\n",
              "  padding-bottom: 4px;\n",
              "}\n",
              "\n",
              ".xr-section-inline-details {\n",
              "  grid-column: 2 / -1;\n",
              "}\n",
              "\n",
              ".xr-section-details {\n",
              "  display: none;\n",
              "  grid-column: 1 / -1;\n",
              "  margin-bottom: 5px;\n",
              "}\n",
              "\n",
              ".xr-section-summary-in:checked ~ .xr-section-details {\n",
              "  display: contents;\n",
              "}\n",
              "\n",
              ".xr-array-wrap {\n",
              "  grid-column: 1 / -1;\n",
              "  display: grid;\n",
              "  grid-template-columns: 20px auto;\n",
              "}\n",
              "\n",
              ".xr-array-wrap > label {\n",
              "  grid-column: 1;\n",
              "  vertical-align: top;\n",
              "}\n",
              "\n",
              ".xr-preview {\n",
              "  color: var(--xr-font-color3);\n",
              "}\n",
              "\n",
              ".xr-array-preview,\n",
              ".xr-array-data {\n",
              "  padding: 0 5px !important;\n",
              "  grid-column: 2;\n",
              "}\n",
              "\n",
              ".xr-array-data,\n",
              ".xr-array-in:checked ~ .xr-array-preview {\n",
              "  display: none;\n",
              "}\n",
              "\n",
              ".xr-array-in:checked ~ .xr-array-data,\n",
              ".xr-array-preview {\n",
              "  display: inline-block;\n",
              "}\n",
              "\n",
              ".xr-dim-list {\n",
              "  display: inline-block !important;\n",
              "  list-style: none;\n",
              "  padding: 0 !important;\n",
              "  margin: 0;\n",
              "}\n",
              "\n",
              ".xr-dim-list li {\n",
              "  display: inline-block;\n",
              "  padding: 0;\n",
              "  margin: 0;\n",
              "}\n",
              "\n",
              ".xr-dim-list:before {\n",
              "  content: \"(\";\n",
              "}\n",
              "\n",
              ".xr-dim-list:after {\n",
              "  content: \")\";\n",
              "}\n",
              "\n",
              ".xr-dim-list li:not(:last-child):after {\n",
              "  content: \",\";\n",
              "  padding-right: 5px;\n",
              "}\n",
              "\n",
              ".xr-has-index {\n",
              "  font-weight: bold;\n",
              "}\n",
              "\n",
              ".xr-var-list,\n",
              ".xr-var-item {\n",
              "  display: contents;\n",
              "}\n",
              "\n",
              ".xr-var-item > div,\n",
              ".xr-var-item label,\n",
              ".xr-var-item > .xr-var-name span {\n",
              "  background-color: var(--xr-background-color-row-even);\n",
              "  margin-bottom: 0;\n",
              "}\n",
              "\n",
              ".xr-var-item > .xr-var-name:hover span {\n",
              "  padding-right: 5px;\n",
              "}\n",
              "\n",
              ".xr-var-list > li:nth-child(odd) > div,\n",
              ".xr-var-list > li:nth-child(odd) > label,\n",
              ".xr-var-list > li:nth-child(odd) > .xr-var-name span {\n",
              "  background-color: var(--xr-background-color-row-odd);\n",
              "}\n",
              "\n",
              ".xr-var-name {\n",
              "  grid-column: 1;\n",
              "}\n",
              "\n",
              ".xr-var-dims {\n",
              "  grid-column: 2;\n",
              "}\n",
              "\n",
              ".xr-var-dtype {\n",
              "  grid-column: 3;\n",
              "  text-align: right;\n",
              "  color: var(--xr-font-color2);\n",
              "}\n",
              "\n",
              ".xr-var-preview {\n",
              "  grid-column: 4;\n",
              "}\n",
              "\n",
              ".xr-index-preview {\n",
              "  grid-column: 2 / 5;\n",
              "  color: var(--xr-font-color2);\n",
              "}\n",
              "\n",
              ".xr-var-name,\n",
              ".xr-var-dims,\n",
              ".xr-var-dtype,\n",
              ".xr-preview,\n",
              ".xr-attrs dt {\n",
              "  white-space: nowrap;\n",
              "  overflow: hidden;\n",
              "  text-overflow: ellipsis;\n",
              "  padding-right: 10px;\n",
              "}\n",
              "\n",
              ".xr-var-name:hover,\n",
              ".xr-var-dims:hover,\n",
              ".xr-var-dtype:hover,\n",
              ".xr-attrs dt:hover {\n",
              "  overflow: visible;\n",
              "  width: auto;\n",
              "  z-index: 1;\n",
              "}\n",
              "\n",
              ".xr-var-attrs,\n",
              ".xr-var-data,\n",
              ".xr-index-data {\n",
              "  display: none;\n",
              "  background-color: var(--xr-background-color) !important;\n",
              "  padding-bottom: 5px !important;\n",
              "}\n",
              "\n",
              ".xr-var-attrs-in:checked ~ .xr-var-attrs,\n",
              ".xr-var-data-in:checked ~ .xr-var-data,\n",
              ".xr-index-data-in:checked ~ .xr-index-data {\n",
              "  display: block;\n",
              "}\n",
              "\n",
              ".xr-var-data > table {\n",
              "  float: right;\n",
              "}\n",
              "\n",
              ".xr-var-name span,\n",
              ".xr-var-data,\n",
              ".xr-index-name div,\n",
              ".xr-index-data,\n",
              ".xr-attrs {\n",
              "  padding-left: 25px !important;\n",
              "}\n",
              "\n",
              ".xr-attrs,\n",
              ".xr-var-attrs,\n",
              ".xr-var-data,\n",
              ".xr-index-data {\n",
              "  grid-column: 1 / -1;\n",
              "}\n",
              "\n",
              "dl.xr-attrs {\n",
              "  padding: 0;\n",
              "  margin: 0;\n",
              "  display: grid;\n",
              "  grid-template-columns: 125px auto;\n",
              "}\n",
              "\n",
              ".xr-attrs dt,\n",
              ".xr-attrs dd {\n",
              "  padding: 0;\n",
              "  margin: 0;\n",
              "  float: left;\n",
              "  padding-right: 10px;\n",
              "  width: auto;\n",
              "}\n",
              "\n",
              ".xr-attrs dt {\n",
              "  font-weight: normal;\n",
              "  grid-column: 1;\n",
              "}\n",
              "\n",
              ".xr-attrs dt:hover span {\n",
              "  display: inline-block;\n",
              "  background: var(--xr-background-color);\n",
              "  padding-right: 10px;\n",
              "}\n",
              "\n",
              ".xr-attrs dd {\n",
              "  grid-column: 2;\n",
              "  white-space: pre-wrap;\n",
              "  word-break: break-all;\n",
              "}\n",
              "\n",
              ".xr-icon-database,\n",
              ".xr-icon-file-text2,\n",
              ".xr-no-icon {\n",
              "  display: inline-block;\n",
              "  vertical-align: middle;\n",
              "  width: 1em;\n",
              "  height: 1.5em !important;\n",
              "  stroke-width: 0;\n",
              "  stroke: currentColor;\n",
              "  fill: currentColor;\n",
              "}\n",
              "</style><pre class='xr-text-repr-fallback'>&lt;xarray.DataArray (sample: 2922, y: 180, x: 180)&gt; Size: 379MB\n",
              "dask.array&lt;transpose, shape=(2922, 180, 180), dtype=float32, chunksize=(2337, 180, 180), chunktype=numpy.ndarray&gt;\n",
              "Coordinates:\n",
              "  * x         (x) float64 1kB -97.9 -97.89 -97.88 ... -96.62 -96.62 -96.61\n",
              "  * y         (y) float64 1kB 30.9 30.89 30.88 30.88 ... 29.63 29.62 29.62 29.61\n",
              "    variable  &lt;U9 36B &#x27;tp_mm_day&#x27;\n",
              "  * sample    (sample) object 23kB MultiIndex\n",
              "  * time      (sample) datetime64[ns] 23kB 2015-01-01 2015-01-02 ... 2022-12-31</pre><div class='xr-wrap' style='display:none'><div class='xr-header'><div class='xr-obj-type'>xarray.DataArray</div><div class='xr-array-name'></div><ul class='xr-dim-list'><li><span class='xr-has-index'>sample</span>: 2922</li><li><span class='xr-has-index'>y</span>: 180</li><li><span class='xr-has-index'>x</span>: 180</li></ul></div><ul class='xr-sections'><li class='xr-section-item'><div class='xr-array-wrap'><input id='section-f9ebb07c-044a-4b36-8631-8ada0787a5ca' class='xr-array-in' type='checkbox' checked><label for='section-f9ebb07c-044a-4b36-8631-8ada0787a5ca' title='Show/hide data repr'><svg class='icon xr-icon-database'><use xlink:href='#icon-database'></use></svg></label><div class='xr-array-preview xr-preview'><span>dask.array&lt;chunksize=(2337, 180, 180), meta=np.ndarray&gt;</span></div><div class='xr-array-data'><table>\n",
              "    <tr>\n",
              "        <td>\n",
              "            <table style=\"border-collapse: collapse;\">\n",
              "                <thead>\n",
              "                    <tr>\n",
              "                        <td> </td>\n",
              "                        <th> Array </th>\n",
              "                        <th> Chunk </th>\n",
              "                    </tr>\n",
              "                </thead>\n",
              "                <tbody>\n",
              "                    \n",
              "                    <tr>\n",
              "                        <th> Bytes </th>\n",
              "                        <td> 361.15 MiB </td>\n",
              "                        <td> 288.84 MiB </td>\n",
              "                    </tr>\n",
              "                    \n",
              "                    <tr>\n",
              "                        <th> Shape </th>\n",
              "                        <td> (2922, 180, 180) </td>\n",
              "                        <td> (2337, 180, 180) </td>\n",
              "                    </tr>\n",
              "                    <tr>\n",
              "                        <th> Dask graph </th>\n",
              "                        <td colspan=\"2\"> 2 chunks in 10 graph layers </td>\n",
              "                    </tr>\n",
              "                    <tr>\n",
              "                        <th> Data type </th>\n",
              "                        <td colspan=\"2\"> float32 numpy.ndarray </td>\n",
              "                    </tr>\n",
              "                </tbody>\n",
              "            </table>\n",
              "        </td>\n",
              "        <td>\n",
              "        <svg width=\"166\" height=\"156\" style=\"stroke:rgb(0,0,0);stroke-width:1\" >\n",
              "\n",
              "  <!-- Horizontal lines -->\n",
              "  <line x1=\"10\" y1=\"0\" x2=\"80\" y2=\"70\" style=\"stroke-width:2\" />\n",
              "  <line x1=\"10\" y1=\"35\" x2=\"80\" y2=\"106\" style=\"stroke-width:2\" />\n",
              "\n",
              "  <!-- Vertical lines -->\n",
              "  <line x1=\"10\" y1=\"0\" x2=\"10\" y2=\"35\" style=\"stroke-width:2\" />\n",
              "  <line x1=\"66\" y1=\"56\" x2=\"66\" y2=\"92\" />\n",
              "  <line x1=\"80\" y1=\"70\" x2=\"80\" y2=\"106\" style=\"stroke-width:2\" />\n",
              "\n",
              "  <!-- Colored Rectangle -->\n",
              "  <polygon points=\"10.0,0.0 80.58823529411765,70.58823529411765 80.58823529411765,106.36031484514068 10.0,35.772079551023026\" style=\"fill:#ECB172A0;stroke-width:0\"/>\n",
              "\n",
              "  <!-- Horizontal lines -->\n",
              "  <line x1=\"10\" y1=\"0\" x2=\"45\" y2=\"0\" style=\"stroke-width:2\" />\n",
              "  <line x1=\"66\" y1=\"56\" x2=\"102\" y2=\"56\" />\n",
              "  <line x1=\"80\" y1=\"70\" x2=\"116\" y2=\"70\" style=\"stroke-width:2\" />\n",
              "\n",
              "  <!-- Vertical lines -->\n",
              "  <line x1=\"10\" y1=\"0\" x2=\"80\" y2=\"70\" style=\"stroke-width:2\" />\n",
              "  <line x1=\"45\" y1=\"0\" x2=\"116\" y2=\"70\" style=\"stroke-width:2\" />\n",
              "\n",
              "  <!-- Colored Rectangle -->\n",
              "  <polygon points=\"10.0,0.0 45.772079551023026,0.0 116.36031484514068,70.58823529411765 80.58823529411765,70.58823529411765\" style=\"fill:#ECB172A0;stroke-width:0\"/>\n",
              "\n",
              "  <!-- Horizontal lines -->\n",
              "  <line x1=\"80\" y1=\"70\" x2=\"116\" y2=\"70\" style=\"stroke-width:2\" />\n",
              "  <line x1=\"80\" y1=\"106\" x2=\"116\" y2=\"106\" style=\"stroke-width:2\" />\n",
              "\n",
              "  <!-- Vertical lines -->\n",
              "  <line x1=\"80\" y1=\"70\" x2=\"80\" y2=\"106\" style=\"stroke-width:2\" />\n",
              "  <line x1=\"116\" y1=\"70\" x2=\"116\" y2=\"106\" style=\"stroke-width:2\" />\n",
              "\n",
              "  <!-- Colored Rectangle -->\n",
              "  <polygon points=\"80.58823529411765,70.58823529411765 116.36031484514068,70.58823529411765 116.36031484514068,106.36031484514068 80.58823529411765,106.36031484514068\" style=\"fill:#ECB172A0;stroke-width:0\"/>\n",
              "\n",
              "  <!-- Text -->\n",
              "  <text x=\"98.474275\" y=\"126.360315\" font-size=\"1.0rem\" font-weight=\"100\" text-anchor=\"middle\" >180</text>\n",
              "  <text x=\"136.360315\" y=\"88.474275\" font-size=\"1.0rem\" font-weight=\"100\" text-anchor=\"middle\" transform=\"rotate(-90,136.360315,88.474275)\">180</text>\n",
              "  <text x=\"35.294118\" y=\"91.066197\" font-size=\"1.0rem\" font-weight=\"100\" text-anchor=\"middle\" transform=\"rotate(45,35.294118,91.066197)\">2922</text>\n",
              "</svg>\n",
              "        </td>\n",
              "    </tr>\n",
              "</table></div></div></li><li class='xr-section-item'><input id='section-f481dbcc-9921-4494-ba5c-1fd1fbb30388' class='xr-section-summary-in' type='checkbox'  checked><label for='section-f481dbcc-9921-4494-ba5c-1fd1fbb30388' class='xr-section-summary' >Coordinates: <span>(5)</span></label><div class='xr-section-inline-details'></div><div class='xr-section-details'><ul class='xr-var-list'><li class='xr-var-item'><div class='xr-var-name'><span class='xr-has-index'>x</span></div><div class='xr-var-dims'>(x)</div><div class='xr-var-dtype'>float64</div><div class='xr-var-preview xr-preview'>-97.9 -97.89 ... -96.62 -96.61</div><input id='attrs-fe38a6c6-b2d8-4cdc-a39c-a09d23032656' class='xr-var-attrs-in' type='checkbox' ><label for='attrs-fe38a6c6-b2d8-4cdc-a39c-a09d23032656' title='Show/Hide attributes'><svg class='icon xr-icon-file-text2'><use xlink:href='#icon-file-text2'></use></svg></label><input id='data-cdf974e3-664a-4250-912b-35791dda3e83' class='xr-var-data-in' type='checkbox'><label for='data-cdf974e3-664a-4250-912b-35791dda3e83' title='Show/Hide data repr'><svg class='icon xr-icon-database'><use xlink:href='#icon-database'></use></svg></label><div class='xr-var-attrs'><dl class='xr-attrs'><dt><span>axis :</span></dt><dd>X</dd><dt><span>long_name :</span></dt><dd>longitude</dd><dt><span>standard_name :</span></dt><dd>longitude</dd><dt><span>units :</span></dt><dd>degrees_east</dd></dl></div><div class='xr-var-data'><pre>array([-97.895305, -97.888118, -97.880932, -97.873745, -97.866559, -97.859372,\n",
              "       -97.852186, -97.844999, -97.837813, -97.830626, -97.82344 , -97.816253,\n",
              "       -97.809067, -97.80188 , -97.794694, -97.787507, -97.780321, -97.773134,\n",
              "       -97.765948, -97.758761, -97.751575, -97.744388, -97.737202, -97.730015,\n",
              "       -97.722828, -97.715642, -97.708455, -97.701269, -97.694082, -97.686896,\n",
              "       -97.679709, -97.672523, -97.665336, -97.65815 , -97.650963, -97.643777,\n",
              "       -97.63659 , -97.629404, -97.622217, -97.615031, -97.607844, -97.600658,\n",
              "       -97.593471, -97.586285, -97.579098, -97.571912, -97.564725, -97.557538,\n",
              "       -97.550352, -97.543165, -97.535979, -97.528792, -97.521606, -97.514419,\n",
              "       -97.507233, -97.500046, -97.49286 , -97.485673, -97.478487, -97.4713  ,\n",
              "       -97.464114, -97.456927, -97.449741, -97.442554, -97.435368, -97.428181,\n",
              "       -97.420995, -97.413808, -97.406621, -97.399435, -97.392248, -97.385062,\n",
              "       -97.377875, -97.370689, -97.363502, -97.356316, -97.349129, -97.341943,\n",
              "       -97.334756, -97.32757 , -97.320383, -97.313197, -97.30601 , -97.298824,\n",
              "       -97.291637, -97.284451, -97.277264, -97.270078, -97.262891, -97.255705,\n",
              "       -97.248518, -97.241331, -97.234145, -97.226958, -97.219772, -97.212585,\n",
              "       -97.205399, -97.198212, -97.191026, -97.183839, -97.176653, -97.169466,\n",
              "       -97.16228 , -97.155093, -97.147907, -97.14072 , -97.133534, -97.126347,\n",
              "       -97.119161, -97.111974, -97.104788, -97.097601, -97.090415, -97.083228,\n",
              "       -97.076041, -97.068855, -97.061668, -97.054482, -97.047295, -97.040109,\n",
              "       -97.032922, -97.025736, -97.018549, -97.011363, -97.004176, -96.99699 ,\n",
              "       -96.989803, -96.982617, -96.97543 , -96.968244, -96.961057, -96.953871,\n",
              "       -96.946684, -96.939498, -96.932311, -96.925125, -96.917938, -96.910751,\n",
              "       -96.903565, -96.896378, -96.889192, -96.882005, -96.874819, -96.867632,\n",
              "       -96.860446, -96.853259, -96.846073, -96.838886, -96.8317  , -96.824513,\n",
              "       -96.817327, -96.81014 , -96.802954, -96.795767, -96.788581, -96.781394,\n",
              "       -96.774208, -96.767021, -96.759834, -96.752648, -96.745461, -96.738275,\n",
              "       -96.731088, -96.723902, -96.716715, -96.709529, -96.702342, -96.695156,\n",
              "       -96.687969, -96.680783, -96.673596, -96.66641 , -96.659223, -96.652037,\n",
              "       -96.64485 , -96.637664, -96.630477, -96.623291, -96.616104, -96.608918])</pre></div></li><li class='xr-var-item'><div class='xr-var-name'><span class='xr-has-index'>y</span></div><div class='xr-var-dims'>(y)</div><div class='xr-var-dtype'>float64</div><div class='xr-var-preview xr-preview'>30.9 30.89 30.88 ... 29.62 29.61</div><input id='attrs-fd5a7aa3-9acf-4318-b20f-f6d072bba39d' class='xr-var-attrs-in' type='checkbox' ><label for='attrs-fd5a7aa3-9acf-4318-b20f-f6d072bba39d' title='Show/Hide attributes'><svg class='icon xr-icon-file-text2'><use xlink:href='#icon-file-text2'></use></svg></label><input id='data-291afa16-d0f1-4558-90dd-8298f05c9261' class='xr-var-data-in' type='checkbox'><label for='data-291afa16-d0f1-4558-90dd-8298f05c9261' title='Show/Hide data repr'><svg class='icon xr-icon-database'><use xlink:href='#icon-database'></use></svg></label><div class='xr-var-attrs'><dl class='xr-attrs'><dt><span>axis :</span></dt><dd>Y</dd><dt><span>long_name :</span></dt><dd>latitude</dd><dt><span>standard_name :</span></dt><dd>latitude</dd><dt><span>units :</span></dt><dd>degrees_north</dd></dl></div><div class='xr-var-data'><pre>array([30.896809, 30.889623, 30.882436, 30.87525 , 30.868063, 30.860877,\n",
              "       30.85369 , 30.846504, 30.839317, 30.832131, 30.824944, 30.817757,\n",
              "       30.810571, 30.803384, 30.796198, 30.789011, 30.781825, 30.774638,\n",
              "       30.767452, 30.760265, 30.753079, 30.745892, 30.738706, 30.731519,\n",
              "       30.724333, 30.717146, 30.70996 , 30.702773, 30.695587, 30.6884  ,\n",
              "       30.681214, 30.674027, 30.666841, 30.659654, 30.652467, 30.645281,\n",
              "       30.638094, 30.630908, 30.623721, 30.616535, 30.609348, 30.602162,\n",
              "       30.594975, 30.587789, 30.580602, 30.573416, 30.566229, 30.559043,\n",
              "       30.551856, 30.54467 , 30.537483, 30.530297, 30.52311 , 30.515924,\n",
              "       30.508737, 30.501551, 30.494364, 30.487177, 30.479991, 30.472804,\n",
              "       30.465618, 30.458431, 30.451245, 30.444058, 30.436872, 30.429685,\n",
              "       30.422499, 30.415312, 30.408126, 30.400939, 30.393753, 30.386566,\n",
              "       30.37938 , 30.372193, 30.365007, 30.35782 , 30.350634, 30.343447,\n",
              "       30.336261, 30.329074, 30.321887, 30.314701, 30.307514, 30.300328,\n",
              "       30.293141, 30.285955, 30.278768, 30.271582, 30.264395, 30.257209,\n",
              "       30.250022, 30.242836, 30.235649, 30.228463, 30.221276, 30.21409 ,\n",
              "       30.206903, 30.199717, 30.19253 , 30.185344, 30.178157, 30.17097 ,\n",
              "       30.163784, 30.156597, 30.149411, 30.142224, 30.135038, 30.127851,\n",
              "       30.120665, 30.113478, 30.106292, 30.099105, 30.091919, 30.084732,\n",
              "       30.077546, 30.070359, 30.063173, 30.055986, 30.0488  , 30.041613,\n",
              "       30.034427, 30.02724 , 30.020054, 30.012867, 30.00568 , 29.998494,\n",
              "       29.991307, 29.984121, 29.976934, 29.969748, 29.962561, 29.955375,\n",
              "       29.948188, 29.941002, 29.933815, 29.926629, 29.919442, 29.912256,\n",
              "       29.905069, 29.897883, 29.890696, 29.88351 , 29.876323, 29.869137,\n",
              "       29.86195 , 29.854764, 29.847577, 29.84039 , 29.833204, 29.826017,\n",
              "       29.818831, 29.811644, 29.804458, 29.797271, 29.790085, 29.782898,\n",
              "       29.775712, 29.768525, 29.761339, 29.754152, 29.746966, 29.739779,\n",
              "       29.732593, 29.725406, 29.71822 , 29.711033, 29.703847, 29.69666 ,\n",
              "       29.689473, 29.682287, 29.6751  , 29.667914, 29.660727, 29.653541,\n",
              "       29.646354, 29.639168, 29.631981, 29.624795, 29.617608, 29.610422])</pre></div></li><li class='xr-var-item'><div class='xr-var-name'><span>variable</span></div><div class='xr-var-dims'>()</div><div class='xr-var-dtype'>&lt;U9</div><div class='xr-var-preview xr-preview'>&#x27;tp_mm_day&#x27;</div><input id='attrs-ac8ffa70-e171-431d-911a-8b8153eae503' class='xr-var-attrs-in' type='checkbox' disabled><label for='attrs-ac8ffa70-e171-431d-911a-8b8153eae503' title='Show/Hide attributes'><svg class='icon xr-icon-file-text2'><use xlink:href='#icon-file-text2'></use></svg></label><input id='data-148400a1-e364-4143-ba3e-dd7ab3979d3f' class='xr-var-data-in' type='checkbox'><label for='data-148400a1-e364-4143-ba3e-dd7ab3979d3f' title='Show/Hide data repr'><svg class='icon xr-icon-database'><use xlink:href='#icon-database'></use></svg></label><div class='xr-var-attrs'><dl class='xr-attrs'></dl></div><div class='xr-var-data'><pre>array(&#x27;tp_mm_day&#x27;, dtype=&#x27;&lt;U9&#x27;)</pre></div></li><li class='xr-var-item'><div class='xr-var-name'><span class='xr-has-index'>sample</span></div><div class='xr-var-dims'>(sample)</div><div class='xr-var-dtype'>object</div><div class='xr-var-preview xr-preview'>MultiIndex</div><input id='attrs-b4a60fd4-1855-4372-b2f1-58ef9a8bc6b6' class='xr-var-attrs-in' type='checkbox' disabled><label for='attrs-b4a60fd4-1855-4372-b2f1-58ef9a8bc6b6' title='Show/Hide attributes'><svg class='icon xr-icon-file-text2'><use xlink:href='#icon-file-text2'></use></svg></label><input id='data-fa7fa2f8-040c-4508-974e-e237775b28ec' class='xr-var-data-in' type='checkbox'><label for='data-fa7fa2f8-040c-4508-974e-e237775b28ec' title='Show/Hide data repr'><svg class='icon xr-icon-database'><use xlink:href='#icon-database'></use></svg></label><div class='xr-var-attrs'><dl class='xr-attrs'></dl></div><div class='xr-var-data'><pre>array([(Timestamp(&#x27;2015-01-01 00:00:00&#x27;),),\n",
              "       (Timestamp(&#x27;2015-01-02 00:00:00&#x27;),),\n",
              "       (Timestamp(&#x27;2015-01-03 00:00:00&#x27;),), ...,\n",
              "       (Timestamp(&#x27;2022-12-29 00:00:00&#x27;),),\n",
              "       (Timestamp(&#x27;2022-12-30 00:00:00&#x27;),),\n",
              "       (Timestamp(&#x27;2022-12-31 00:00:00&#x27;),)], dtype=object)</pre></div></li><li class='xr-var-item'><div class='xr-var-name'><span class='xr-has-index'>time</span></div><div class='xr-var-dims'>(sample)</div><div class='xr-var-dtype'>datetime64[ns]</div><div class='xr-var-preview xr-preview'>2015-01-01 ... 2022-12-31</div><input id='attrs-d50fa4ce-2d64-489f-9f67-2747b5b27ff3' class='xr-var-attrs-in' type='checkbox' disabled><label for='attrs-d50fa4ce-2d64-489f-9f67-2747b5b27ff3' title='Show/Hide attributes'><svg class='icon xr-icon-file-text2'><use xlink:href='#icon-file-text2'></use></svg></label><input id='data-c7d43bdd-f41e-4d02-bfb8-5f9583697c5f' class='xr-var-data-in' type='checkbox'><label for='data-c7d43bdd-f41e-4d02-bfb8-5f9583697c5f' title='Show/Hide data repr'><svg class='icon xr-icon-database'><use xlink:href='#icon-database'></use></svg></label><div class='xr-var-attrs'><dl class='xr-attrs'></dl></div><div class='xr-var-data'><pre>array([&#x27;2015-01-01T00:00:00.000000000&#x27;, &#x27;2015-01-02T00:00:00.000000000&#x27;,\n",
              "       &#x27;2015-01-03T00:00:00.000000000&#x27;, ..., &#x27;2022-12-29T00:00:00.000000000&#x27;,\n",
              "       &#x27;2022-12-30T00:00:00.000000000&#x27;, &#x27;2022-12-31T00:00:00.000000000&#x27;],\n",
              "      dtype=&#x27;datetime64[ns]&#x27;)</pre></div></li></ul></div></li><li class='xr-section-item'><input id='section-175fdadd-9b97-4741-baed-92d9792e55dc' class='xr-section-summary-in' type='checkbox'  ><label for='section-175fdadd-9b97-4741-baed-92d9792e55dc' class='xr-section-summary' >Indexes: <span>(3)</span></label><div class='xr-section-inline-details'></div><div class='xr-section-details'><ul class='xr-var-list'><li class='xr-var-item'><div class='xr-index-name'><div>x</div></div><div class='xr-index-preview'>PandasIndex</div><input type='checkbox' disabled/><label></label><input id='index-b865baf1-b88f-4926-8267-89dafc458359' class='xr-index-data-in' type='checkbox'/><label for='index-b865baf1-b88f-4926-8267-89dafc458359' title='Show/Hide index repr'><svg class='icon xr-icon-database'><use xlink:href='#icon-database'></use></svg></label><div class='xr-index-data'><pre>PandasIndex(Index([-97.89530501406044, -97.88811849178748, -97.88093196951452,\n",
              "       -97.87374544724157, -97.86655892496861, -97.85937240269566,\n",
              "       -97.85218588042271, -97.84499935814975, -97.83781283587679,\n",
              "       -97.83062631360383,\n",
              "       ...\n",
              "        -96.6735962276579, -96.66640970538494, -96.65922318311198,\n",
              "       -96.65203666083902, -96.64485013856607, -96.63766361629311,\n",
              "       -96.63047709402015, -96.62329057174719, -96.61610404947425,\n",
              "       -96.60891752720129],\n",
              "      dtype=&#x27;float64&#x27;, name=&#x27;x&#x27;, length=180))</pre></div></li><li class='xr-var-item'><div class='xr-index-name'><div>y</div></div><div class='xr-index-preview'>PandasIndex</div><input type='checkbox' disabled/><label></label><input id='index-5d5033da-b726-470d-b450-aed7f44ce93c' class='xr-index-data-in' type='checkbox'/><label for='index-5d5033da-b726-470d-b450-aed7f44ce93c' title='Show/Hide index repr'><svg class='icon xr-icon-database'><use xlink:href='#icon-database'></use></svg></label><div class='xr-index-data'><pre>PandasIndex(Index([30.896809237803122, 30.889622715530166,  30.88243619325721,\n",
              "       30.875249670984253, 30.868063148711297,  30.86087662643834,\n",
              "       30.853690104165384, 30.846503581892428,  30.83931705961947,\n",
              "       30.832130537346515,\n",
              "       ...\n",
              "        29.67510045140057, 29.667913929127614,  29.66072740685466,\n",
              "       29.653540884581705,  29.64635436230875, 29.639167840035793,\n",
              "       29.631981317762836,  29.62479479548988, 29.617608273216923,\n",
              "       29.610421750943967],\n",
              "      dtype=&#x27;float64&#x27;, name=&#x27;y&#x27;, length=180))</pre></div></li><li class='xr-var-item'><div class='xr-index-name'><div>sample<br>time</div></div><div class='xr-index-preview'>PandasMultiIndex</div><input type='checkbox' disabled/><label></label><input id='index-a4fd3bde-0638-4d44-95b3-16c0dfa62a1e' class='xr-index-data-in' type='checkbox'/><label for='index-a4fd3bde-0638-4d44-95b3-16c0dfa62a1e' title='Show/Hide index repr'><svg class='icon xr-icon-database'><use xlink:href='#icon-database'></use></svg></label><div class='xr-index-data'><pre>PandasIndex(MultiIndex([(&#x27;2015-01-01&#x27;,),\n",
              "            (&#x27;2015-01-02&#x27;,),\n",
              "            (&#x27;2015-01-03&#x27;,),\n",
              "            (&#x27;2015-01-04&#x27;,),\n",
              "            (&#x27;2015-01-05&#x27;,),\n",
              "            (&#x27;2015-01-06&#x27;,),\n",
              "            (&#x27;2015-01-07&#x27;,),\n",
              "            (&#x27;2015-01-08&#x27;,),\n",
              "            (&#x27;2015-01-09&#x27;,),\n",
              "            (&#x27;2015-01-10&#x27;,),\n",
              "            ...\n",
              "            (&#x27;2022-12-22&#x27;,),\n",
              "            (&#x27;2022-12-23&#x27;,),\n",
              "            (&#x27;2022-12-24&#x27;,),\n",
              "            (&#x27;2022-12-25&#x27;,),\n",
              "            (&#x27;2022-12-26&#x27;,),\n",
              "            (&#x27;2022-12-27&#x27;,),\n",
              "            (&#x27;2022-12-28&#x27;,),\n",
              "            (&#x27;2022-12-29&#x27;,),\n",
              "            (&#x27;2022-12-30&#x27;,),\n",
              "            (&#x27;2022-12-31&#x27;,)],\n",
              "           name=&#x27;sample&#x27;, length=2922))</pre></div></li></ul></div></li><li class='xr-section-item'><input id='section-8b1fa4e8-0de5-4fe5-a68e-ae2afbdfd328' class='xr-section-summary-in' type='checkbox' disabled ><label for='section-8b1fa4e8-0de5-4fe5-a68e-ae2afbdfd328' class='xr-section-summary'  title='Expand/collapse section'>Attributes: <span>(0)</span></label><div class='xr-section-inline-details'></div><div class='xr-section-details'><dl class='xr-attrs'></dl></div></li></ul></div></div>"
            ]
          },
          "metadata": {},
          "execution_count": 16
        }
      ]
    },
    {
      "cell_type": "code",
      "source": [
        "# ---------- LOOP THROUGH MODELS ----------\n",
        "for model_name in model_list:\n",
        "    run_name = f\"{model_name}_run\"\n",
        "    wandb.init(project=\"xdownscale_Austin_06_15_1\", name=run_name, reinit=True)\n",
        "\n",
        "    print(f\"\\n Training model: {model_name}\")\n",
        "    ds = Downscaler(\n",
        "        input_da=input_stack,\n",
        "        target_da=target_stack,\n",
        "        model_name=model_name,\n",
        "        patch_size=60,\n",
        "        batch_size=16,\n",
        "        epochs=100,\n",
        "        val_split=0.2,\n",
        "        test_split=0.0,\n",
        "        device='cuda',\n",
        "        use_wandb=True,\n",
        "        patience=15\n",
        "    )\n",
        "\n",
        "    # Save best model\n",
        "    torch.save(ds.model.state_dict(), os.path.join(output_dir, f\"{model_name}_best.pth\"))\n",
        "\n",
        "    # ---------- PREDICT DAY-BY-DAY ----------\n",
        "    preds = []\n",
        "    for i in range(input_test.time.size):\n",
        "        input_slice = input_test.isel(time=i)\n",
        "        pred_slice = ds.predict(input_slice)\n",
        "        pred_slice = pred_slice.expand_dims(time=[input_test.time[i].values])\n",
        "        preds.append(pred_slice)\n",
        "\n",
        "    pred_all = xr.concat(preds, dim=\"time\")\n",
        "    pred_all.name = \"tp_mm_day_pred\"\n",
        "    pred_all = pred_all.assign_coords(x=input_test.x, y=input_test.y)\n",
        "\n",
        "    # ---------- SAVE OUTPUT ----------\n",
        "    pred_all.to_netcdf(os.path.join(data_dir, f\"pred_{model_name}_test.nc\"))\n",
        "\n",
        "    # ---------- EVALUATE ----------\n",
        "    true = target_test.values\n",
        "    predicted = pred_all.values\n",
        "\n",
        "    rmse = np.sqrt(np.mean((predicted - true) ** 2))\n",
        "    mae = np.mean(np.abs(predicted - true))\n",
        "    bias = np.mean(predicted - true)\n",
        "    corr = np.corrcoef(predicted.ravel(), true.ravel())[0, 1]\n",
        "\n",
        "    wandb.log({\n",
        "        \"test_mean\": float(pred_all.mean().values),\n",
        "        \"test_std\": float(pred_all.std().values),\n",
        "        \"test_rmse\": rmse,\n",
        "        \"test_mae\": mae,\n",
        "        \"test_bias\": bias,\n",
        "        \"test_corr\": corr\n",
        "    })\n",
        "\n",
        "    print(f\"Done with {model_name} | RMSE={rmse:.3f}, CORR={corr:.3f}\")\n",
        "\n",
        "    wandb.finish()"
      ],
      "metadata": {
        "colab": {
          "base_uri": "https://localhost:8080/",
          "height": 1000
        },
        "id": "Mj37IBAiuel3",
        "outputId": "49fc3f7a-32ef-4850-80cd-62c4ff97aba4"
      },
      "execution_count": null,
      "outputs": [
        {
          "data": {
            "text/html": [
              "Finishing previous runs because reinit is set to True."
            ],
            "text/plain": [
              "<IPython.core.display.HTML object>"
            ]
          },
          "metadata": {},
          "output_type": "display_data"
        },
        {
          "data": {
            "text/html": [],
            "text/plain": [
              "<IPython.core.display.HTML object>"
            ]
          },
          "metadata": {},
          "output_type": "display_data"
        },
        {
          "data": {
            "text/html": [
              " View run <strong style=\"color:#cdcd00\">dpt_run</strong> at: <a href='https://wandb.ai/nvnsudharsan-the-university-of-texas-at-austin/xdownscale_Austin_06_15/runs/ke5vdcww' target=\"_blank\">https://wandb.ai/nvnsudharsan-the-university-of-texas-at-austin/xdownscale_Austin_06_15/runs/ke5vdcww</a><br> View project at: <a href='https://wandb.ai/nvnsudharsan-the-university-of-texas-at-austin/xdownscale_Austin_06_15' target=\"_blank\">https://wandb.ai/nvnsudharsan-the-university-of-texas-at-austin/xdownscale_Austin_06_15</a><br>Synced 5 W&B file(s), 0 media file(s), 0 artifact file(s) and 0 other file(s)"
            ],
            "text/plain": [
              "<IPython.core.display.HTML object>"
            ]
          },
          "metadata": {},
          "output_type": "display_data"
        },
        {
          "data": {
            "text/html": [
              "Find logs at: <code>./wandb/run-20250614_181246-ke5vdcww/logs</code>"
            ],
            "text/plain": [
              "<IPython.core.display.HTML object>"
            ]
          },
          "metadata": {},
          "output_type": "display_data"
        },
        {
          "data": {
            "text/html": [
              "Tracking run with wandb version 0.19.11"
            ],
            "text/plain": [
              "<IPython.core.display.HTML object>"
            ]
          },
          "metadata": {},
          "output_type": "display_data"
        },
        {
          "data": {
            "text/html": [
              "Run data is saved locally in <code>/content/wandb/run-20250614_194610-rob4dz88</code>"
            ],
            "text/plain": [
              "<IPython.core.display.HTML object>"
            ]
          },
          "metadata": {},
          "output_type": "display_data"
        },
        {
          "data": {
            "text/html": [
              "Syncing run <strong><a href='https://wandb.ai/nvnsudharsan-the-university-of-texas-at-austin/xdownscale_Austin_06_15_1/runs/rob4dz88' target=\"_blank\">srcnn_run</a></strong> to <a href='https://wandb.ai/nvnsudharsan-the-university-of-texas-at-austin/xdownscale_Austin_06_15_1' target=\"_blank\">Weights & Biases</a> (<a href='https://wandb.me/developer-guide' target=\"_blank\">docs</a>)<br>"
            ],
            "text/plain": [
              "<IPython.core.display.HTML object>"
            ]
          },
          "metadata": {},
          "output_type": "display_data"
        },
        {
          "data": {
            "text/html": [
              " View project at <a href='https://wandb.ai/nvnsudharsan-the-university-of-texas-at-austin/xdownscale_Austin_06_15_1' target=\"_blank\">https://wandb.ai/nvnsudharsan-the-university-of-texas-at-austin/xdownscale_Austin_06_15_1</a>"
            ],
            "text/plain": [
              "<IPython.core.display.HTML object>"
            ]
          },
          "metadata": {},
          "output_type": "display_data"
        },
        {
          "data": {
            "text/html": [
              " View run at <a href='https://wandb.ai/nvnsudharsan-the-university-of-texas-at-austin/xdownscale_Austin_06_15_1/runs/rob4dz88' target=\"_blank\">https://wandb.ai/nvnsudharsan-the-university-of-texas-at-austin/xdownscale_Austin_06_15_1/runs/rob4dz88</a>"
            ],
            "text/plain": [
              "<IPython.core.display.HTML object>"
            ]
          },
          "metadata": {},
          "output_type": "display_data"
        },
        {
          "metadata": {
            "tags": null
          },
          "name": "stdout",
          "output_type": "stream",
          "text": [
            "\n",
            " Training model: srcnn\n",
            "[0] Train: 0.0008 | Val: 0.0007\n",
            "[10] Train: 0.0007 | Val: 0.0007\n",
            "Early stopping at epoch 15 with best val_loss: 0.0007\n",
            "Done with srcnn | RMSE=7.660, CORR=0.475\n"
          ]
        },
        {
          "data": {
            "text/html": [],
            "text/plain": [
              "<IPython.core.display.HTML object>"
            ]
          },
          "metadata": {},
          "output_type": "display_data"
        },
        {
          "data": {
            "text/html": [
              "<br>    <style><br>        .wandb-row {<br>            display: flex;<br>            flex-direction: row;<br>            flex-wrap: wrap;<br>            justify-content: flex-start;<br>            width: 100%;<br>        }<br>        .wandb-col {<br>            display: flex;<br>            flex-direction: column;<br>            flex-basis: 100%;<br>            flex: 1;<br>            padding: 10px;<br>        }<br>    </style><br><div class=\"wandb-row\"><div class=\"wandb-col\"><h3>Run history:</h3><br/><table class=\"wandb\"><tr><td>epoch</td><td>▁▁▂▂▃▃▄▄▅▅▆▆▇▇██</td></tr><tr><td>test_bias</td><td>▁</td></tr><tr><td>test_corr</td><td>▁</td></tr><tr><td>test_mae</td><td>▁</td></tr><tr><td>test_mean</td><td>▁</td></tr><tr><td>test_rmse</td><td>▁</td></tr><tr><td>test_std</td><td>▁</td></tr><tr><td>train_loss</td><td>█▅▃▂▂▂▂▂▁▂▁▁▁▁▁▁</td></tr><tr><td>val_loss</td><td>█▂▃▃▃▁▁▅▃▂▃▁▂▃▂▇</td></tr></table><br/></div><div class=\"wandb-col\"><h3>Run summary:</h3><br/><table class=\"wandb\"><tr><td>epoch</td><td>15</td></tr><tr><td>test_bias</td><td>1.03094</td></tr><tr><td>test_corr</td><td>0.4747</td></tr><tr><td>test_mae</td><td>3.43403</td></tr><tr><td>test_mean</td><td>2.94975</td></tr><tr><td>test_rmse</td><td>7.66029</td></tr><tr><td>test_std</td><td>5.80977</td></tr><tr><td>train_loss</td><td>0.00073</td></tr><tr><td>val_loss</td><td>0.00072</td></tr></table><br/></div></div>"
            ],
            "text/plain": [
              "<IPython.core.display.HTML object>"
            ]
          },
          "metadata": {},
          "output_type": "display_data"
        },
        {
          "data": {
            "text/html": [
              " View run <strong style=\"color:#cdcd00\">srcnn_run</strong> at: <a href='https://wandb.ai/nvnsudharsan-the-university-of-texas-at-austin/xdownscale_Austin_06_15_1/runs/rob4dz88' target=\"_blank\">https://wandb.ai/nvnsudharsan-the-university-of-texas-at-austin/xdownscale_Austin_06_15_1/runs/rob4dz88</a><br> View project at: <a href='https://wandb.ai/nvnsudharsan-the-university-of-texas-at-austin/xdownscale_Austin_06_15_1' target=\"_blank\">https://wandb.ai/nvnsudharsan-the-university-of-texas-at-austin/xdownscale_Austin_06_15_1</a><br>Synced 5 W&B file(s), 0 media file(s), 0 artifact file(s) and 0 other file(s)"
            ],
            "text/plain": [
              "<IPython.core.display.HTML object>"
            ]
          },
          "metadata": {},
          "output_type": "display_data"
        },
        {
          "data": {
            "text/html": [
              "Find logs at: <code>./wandb/run-20250614_194610-rob4dz88/logs</code>"
            ],
            "text/plain": [
              "<IPython.core.display.HTML object>"
            ]
          },
          "metadata": {},
          "output_type": "display_data"
        },
        {
          "data": {
            "text/html": [
              "Tracking run with wandb version 0.19.11"
            ],
            "text/plain": [
              "<IPython.core.display.HTML object>"
            ]
          },
          "metadata": {},
          "output_type": "display_data"
        },
        {
          "data": {
            "text/html": [
              "Run data is saved locally in <code>/content/wandb/run-20250614_194714-y31awik8</code>"
            ],
            "text/plain": [
              "<IPython.core.display.HTML object>"
            ]
          },
          "metadata": {},
          "output_type": "display_data"
        },
        {
          "data": {
            "text/html": [
              "Syncing run <strong><a href='https://wandb.ai/nvnsudharsan-the-university-of-texas-at-austin/xdownscale_Austin_06_15_1/runs/y31awik8' target=\"_blank\">fsrcnn_run</a></strong> to <a href='https://wandb.ai/nvnsudharsan-the-university-of-texas-at-austin/xdownscale_Austin_06_15_1' target=\"_blank\">Weights & Biases</a> (<a href='https://wandb.me/developer-guide' target=\"_blank\">docs</a>)<br>"
            ],
            "text/plain": [
              "<IPython.core.display.HTML object>"
            ]
          },
          "metadata": {},
          "output_type": "display_data"
        },
        {
          "data": {
            "text/html": [
              " View project at <a href='https://wandb.ai/nvnsudharsan-the-university-of-texas-at-austin/xdownscale_Austin_06_15_1' target=\"_blank\">https://wandb.ai/nvnsudharsan-the-university-of-texas-at-austin/xdownscale_Austin_06_15_1</a>"
            ],
            "text/plain": [
              "<IPython.core.display.HTML object>"
            ]
          },
          "metadata": {},
          "output_type": "display_data"
        },
        {
          "data": {
            "text/html": [
              " View run at <a href='https://wandb.ai/nvnsudharsan-the-university-of-texas-at-austin/xdownscale_Austin_06_15_1/runs/y31awik8' target=\"_blank\">https://wandb.ai/nvnsudharsan-the-university-of-texas-at-austin/xdownscale_Austin_06_15_1/runs/y31awik8</a>"
            ],
            "text/plain": [
              "<IPython.core.display.HTML object>"
            ]
          },
          "metadata": {},
          "output_type": "display_data"
        },
        {
          "metadata": {
            "tags": null
          },
          "name": "stdout",
          "output_type": "stream",
          "text": [
            "\n",
            " Training model: fsrcnn\n",
            "[0] Train: 0.0021 | Val: 0.0010\n",
            "[10] Train: 0.0008 | Val: 0.0007\n",
            "Early stopping at epoch 18 with best val_loss: 0.0007\n",
            "Done with fsrcnn | RMSE=7.324, CORR=0.466\n"
          ]
        },
        {
          "data": {
            "text/html": [],
            "text/plain": [
              "<IPython.core.display.HTML object>"
            ]
          },
          "metadata": {},
          "output_type": "display_data"
        },
        {
          "data": {
            "text/html": [
              "<br>    <style><br>        .wandb-row {<br>            display: flex;<br>            flex-direction: row;<br>            flex-wrap: wrap;<br>            justify-content: flex-start;<br>            width: 100%;<br>        }<br>        .wandb-col {<br>            display: flex;<br>            flex-direction: column;<br>            flex-basis: 100%;<br>            flex: 1;<br>            padding: 10px;<br>        }<br>    </style><br><div class=\"wandb-row\"><div class=\"wandb-col\"><h3>Run history:</h3><br/><table class=\"wandb\"><tr><td>epoch</td><td>▁▁▂▂▃▃▃▄▄▅▅▅▆▆▆▇▇██</td></tr><tr><td>test_bias</td><td>▁</td></tr><tr><td>test_corr</td><td>▁</td></tr><tr><td>test_mae</td><td>▁</td></tr><tr><td>test_mean</td><td>▁</td></tr><tr><td>test_rmse</td><td>▁</td></tr><tr><td>test_std</td><td>▁</td></tr><tr><td>train_loss</td><td>█▃▂▂▁▁▁▁▁▁▁▁▁▁▁▁▁▁▁</td></tr><tr><td>val_loss</td><td>▃▂█▁▁▁▂▁▁▁▁▂▁▁▁▁▁▁▁</td></tr></table><br/></div><div class=\"wandb-col\"><h3>Run summary:</h3><br/><table class=\"wandb\"><tr><td>epoch</td><td>18</td></tr><tr><td>test_bias</td><td>0.02491</td></tr><tr><td>test_corr</td><td>0.4665</td></tr><tr><td>test_mae</td><td>3.00687</td></tr><tr><td>test_mean</td><td>2.08002</td></tr><tr><td>test_rmse</td><td>7.32354</td></tr><tr><td>test_std</td><td>3.83144</td></tr><tr><td>train_loss</td><td>0.00074</td></tr><tr><td>val_loss</td><td>0.00069</td></tr></table><br/></div></div>"
            ],
            "text/plain": [
              "<IPython.core.display.HTML object>"
            ]
          },
          "metadata": {},
          "output_type": "display_data"
        },
        {
          "data": {
            "text/html": [
              " View run <strong style=\"color:#cdcd00\">fsrcnn_run</strong> at: <a href='https://wandb.ai/nvnsudharsan-the-university-of-texas-at-austin/xdownscale_Austin_06_15_1/runs/y31awik8' target=\"_blank\">https://wandb.ai/nvnsudharsan-the-university-of-texas-at-austin/xdownscale_Austin_06_15_1/runs/y31awik8</a><br> View project at: <a href='https://wandb.ai/nvnsudharsan-the-university-of-texas-at-austin/xdownscale_Austin_06_15_1' target=\"_blank\">https://wandb.ai/nvnsudharsan-the-university-of-texas-at-austin/xdownscale_Austin_06_15_1</a><br>Synced 5 W&B file(s), 0 media file(s), 0 artifact file(s) and 0 other file(s)"
            ],
            "text/plain": [
              "<IPython.core.display.HTML object>"
            ]
          },
          "metadata": {},
          "output_type": "display_data"
        },
        {
          "data": {
            "text/html": [
              "Find logs at: <code>./wandb/run-20250614_194714-y31awik8/logs</code>"
            ],
            "text/plain": [
              "<IPython.core.display.HTML object>"
            ]
          },
          "metadata": {},
          "output_type": "display_data"
        },
        {
          "data": {
            "text/html": [
              "Tracking run with wandb version 0.19.11"
            ],
            "text/plain": [
              "<IPython.core.display.HTML object>"
            ]
          },
          "metadata": {},
          "output_type": "display_data"
        },
        {
          "data": {
            "text/html": [
              "Run data is saved locally in <code>/content/wandb/run-20250614_194908-qsu8m61g</code>"
            ],
            "text/plain": [
              "<IPython.core.display.HTML object>"
            ]
          },
          "metadata": {},
          "output_type": "display_data"
        },
        {
          "data": {
            "text/html": [
              "Syncing run <strong><a href='https://wandb.ai/nvnsudharsan-the-university-of-texas-at-austin/xdownscale_Austin_06_15_1/runs/qsu8m61g' target=\"_blank\">lapsr_run</a></strong> to <a href='https://wandb.ai/nvnsudharsan-the-university-of-texas-at-austin/xdownscale_Austin_06_15_1' target=\"_blank\">Weights & Biases</a> (<a href='https://wandb.me/developer-guide' target=\"_blank\">docs</a>)<br>"
            ],
            "text/plain": [
              "<IPython.core.display.HTML object>"
            ]
          },
          "metadata": {},
          "output_type": "display_data"
        },
        {
          "data": {
            "text/html": [
              " View project at <a href='https://wandb.ai/nvnsudharsan-the-university-of-texas-at-austin/xdownscale_Austin_06_15_1' target=\"_blank\">https://wandb.ai/nvnsudharsan-the-university-of-texas-at-austin/xdownscale_Austin_06_15_1</a>"
            ],
            "text/plain": [
              "<IPython.core.display.HTML object>"
            ]
          },
          "metadata": {},
          "output_type": "display_data"
        },
        {
          "data": {
            "text/html": [
              " View run at <a href='https://wandb.ai/nvnsudharsan-the-university-of-texas-at-austin/xdownscale_Austin_06_15_1/runs/qsu8m61g' target=\"_blank\">https://wandb.ai/nvnsudharsan-the-university-of-texas-at-austin/xdownscale_Austin_06_15_1/runs/qsu8m61g</a>"
            ],
            "text/plain": [
              "<IPython.core.display.HTML object>"
            ]
          },
          "metadata": {},
          "output_type": "display_data"
        },
        {
          "metadata": {
            "tags": null
          },
          "name": "stdout",
          "output_type": "stream",
          "text": [
            "\n",
            " Training model: lapsr\n",
            "[0] Train: 0.0008 | Val: 0.0007\n",
            "[10] Train: 0.0008 | Val: 0.0007\n",
            "Early stopping at epoch 15 with best val_loss: 0.0007\n",
            "Done with lapsr | RMSE=7.465, CORR=0.472\n"
          ]
        },
        {
          "data": {
            "text/html": [],
            "text/plain": [
              "<IPython.core.display.HTML object>"
            ]
          },
          "metadata": {},
          "output_type": "display_data"
        },
        {
          "data": {
            "text/html": [
              "<br>    <style><br>        .wandb-row {<br>            display: flex;<br>            flex-direction: row;<br>            flex-wrap: wrap;<br>            justify-content: flex-start;<br>            width: 100%;<br>        }<br>        .wandb-col {<br>            display: flex;<br>            flex-direction: column;<br>            flex-basis: 100%;<br>            flex: 1;<br>            padding: 10px;<br>        }<br>    </style><br><div class=\"wandb-row\"><div class=\"wandb-col\"><h3>Run history:</h3><br/><table class=\"wandb\"><tr><td>epoch</td><td>▁▁▂▂▃▃▄▄▅▅▆▆▇▇██</td></tr><tr><td>test_bias</td><td>▁</td></tr><tr><td>test_corr</td><td>▁</td></tr><tr><td>test_mae</td><td>▁</td></tr><tr><td>test_mean</td><td>▁</td></tr><tr><td>test_rmse</td><td>▁</td></tr><tr><td>test_std</td><td>▁</td></tr><tr><td>train_loss</td><td>█▄▄▂▃▄▂▂▃▃▄▃▂▂▁▂</td></tr><tr><td>val_loss</td><td>▄▇▁▅▂▃█▅▁▄▆▅▄▅▄▁</td></tr></table><br/></div><div class=\"wandb-col\"><h3>Run summary:</h3><br/><table class=\"wandb\"><tr><td>epoch</td><td>15</td></tr><tr><td>test_bias</td><td>1.39331</td></tr><tr><td>test_corr</td><td>0.47173</td></tr><tr><td>test_mae</td><td>4.19591</td></tr><tr><td>test_mean</td><td>3.35191</td></tr><tr><td>test_rmse</td><td>7.46463</td></tr><tr><td>test_std</td><td>3.13999</td></tr><tr><td>train_loss</td><td>0.00075</td></tr><tr><td>val_loss</td><td>0.00066</td></tr></table><br/></div></div>"
            ],
            "text/plain": [
              "<IPython.core.display.HTML object>"
            ]
          },
          "metadata": {},
          "output_type": "display_data"
        },
        {
          "data": {
            "text/html": [
              " View run <strong style=\"color:#cdcd00\">lapsr_run</strong> at: <a href='https://wandb.ai/nvnsudharsan-the-university-of-texas-at-austin/xdownscale_Austin_06_15_1/runs/qsu8m61g' target=\"_blank\">https://wandb.ai/nvnsudharsan-the-university-of-texas-at-austin/xdownscale_Austin_06_15_1/runs/qsu8m61g</a><br> View project at: <a href='https://wandb.ai/nvnsudharsan-the-university-of-texas-at-austin/xdownscale_Austin_06_15_1' target=\"_blank\">https://wandb.ai/nvnsudharsan-the-university-of-texas-at-austin/xdownscale_Austin_06_15_1</a><br>Synced 5 W&B file(s), 0 media file(s), 0 artifact file(s) and 0 other file(s)"
            ],
            "text/plain": [
              "<IPython.core.display.HTML object>"
            ]
          },
          "metadata": {},
          "output_type": "display_data"
        },
        {
          "data": {
            "text/html": [
              "Find logs at: <code>./wandb/run-20250614_194908-qsu8m61g/logs</code>"
            ],
            "text/plain": [
              "<IPython.core.display.HTML object>"
            ]
          },
          "metadata": {},
          "output_type": "display_data"
        },
        {
          "data": {
            "text/html": [
              "Tracking run with wandb version 0.19.11"
            ],
            "text/plain": [
              "<IPython.core.display.HTML object>"
            ]
          },
          "metadata": {},
          "output_type": "display_data"
        },
        {
          "data": {
            "text/html": [
              "Run data is saved locally in <code>/content/wandb/run-20250614_195027-ujgm7mgn</code>"
            ],
            "text/plain": [
              "<IPython.core.display.HTML object>"
            ]
          },
          "metadata": {},
          "output_type": "display_data"
        },
        {
          "data": {
            "text/html": [
              "Syncing run <strong><a href='https://wandb.ai/nvnsudharsan-the-university-of-texas-at-austin/xdownscale_Austin_06_15_1/runs/ujgm7mgn' target=\"_blank\">carnm_run</a></strong> to <a href='https://wandb.ai/nvnsudharsan-the-university-of-texas-at-austin/xdownscale_Austin_06_15_1' target=\"_blank\">Weights & Biases</a> (<a href='https://wandb.me/developer-guide' target=\"_blank\">docs</a>)<br>"
            ],
            "text/plain": [
              "<IPython.core.display.HTML object>"
            ]
          },
          "metadata": {},
          "output_type": "display_data"
        },
        {
          "data": {
            "text/html": [
              " View project at <a href='https://wandb.ai/nvnsudharsan-the-university-of-texas-at-austin/xdownscale_Austin_06_15_1' target=\"_blank\">https://wandb.ai/nvnsudharsan-the-university-of-texas-at-austin/xdownscale_Austin_06_15_1</a>"
            ],
            "text/plain": [
              "<IPython.core.display.HTML object>"
            ]
          },
          "metadata": {},
          "output_type": "display_data"
        },
        {
          "data": {
            "text/html": [
              " View run at <a href='https://wandb.ai/nvnsudharsan-the-university-of-texas-at-austin/xdownscale_Austin_06_15_1/runs/ujgm7mgn' target=\"_blank\">https://wandb.ai/nvnsudharsan-the-university-of-texas-at-austin/xdownscale_Austin_06_15_1/runs/ujgm7mgn</a>"
            ],
            "text/plain": [
              "<IPython.core.display.HTML object>"
            ]
          },
          "metadata": {},
          "output_type": "display_data"
        },
        {
          "metadata": {
            "tags": null
          },
          "name": "stdout",
          "output_type": "stream",
          "text": [
            "\n",
            " Training model: carnm\n",
            "[0] Train: 0.0031 | Val: 0.0012\n",
            "[10] Train: 0.0010 | Val: 0.0012\n",
            "Early stopping at epoch 15 with best val_loss: 0.0012\n",
            "Done with carnm | RMSE=8.624, CORR=-0.013\n"
          ]
        },
        {
          "data": {
            "text/html": [],
            "text/plain": [
              "<IPython.core.display.HTML object>"
            ]
          },
          "metadata": {},
          "output_type": "display_data"
        },
        {
          "data": {
            "text/html": [
              "<br>    <style><br>        .wandb-row {<br>            display: flex;<br>            flex-direction: row;<br>            flex-wrap: wrap;<br>            justify-content: flex-start;<br>            width: 100%;<br>        }<br>        .wandb-col {<br>            display: flex;<br>            flex-direction: column;<br>            flex-basis: 100%;<br>            flex: 1;<br>            padding: 10px;<br>        }<br>    </style><br><div class=\"wandb-row\"><div class=\"wandb-col\"><h3>Run history:</h3><br/><table class=\"wandb\"><tr><td>epoch</td><td>▁▁▂▂▃▃▄▄▅▅▆▆▇▇██</td></tr><tr><td>test_bias</td><td>▁</td></tr><tr><td>test_corr</td><td>▁</td></tr><tr><td>test_mae</td><td>▁</td></tr><tr><td>test_mean</td><td>▁</td></tr><tr><td>test_rmse</td><td>▁</td></tr><tr><td>test_std</td><td>▁</td></tr><tr><td>train_loss</td><td>█▁▁▁▁▁▁▁▁▁▁▁▁▁▁▁</td></tr><tr><td>val_loss</td><td>▂▁▂▁▁█▂▂▂▂▂▂▂▂▂▂</td></tr></table><br/></div><div class=\"wandb-col\"><h3>Run summary:</h3><br/><table class=\"wandb\"><tr><td>epoch</td><td>15</td></tr><tr><td>test_bias</td><td>-2.2836</td></tr><tr><td>test_corr</td><td>-0.01328</td></tr><tr><td>test_mae</td><td>2.45771</td></tr><tr><td>test_mean</td><td>0.09887</td></tr><tr><td>test_rmse</td><td>8.62405</td></tr><tr><td>test_std</td><td>0.67984</td></tr><tr><td>train_loss</td><td>0.00095</td></tr><tr><td>val_loss</td><td>0.00115</td></tr></table><br/></div></div>"
            ],
            "text/plain": [
              "<IPython.core.display.HTML object>"
            ]
          },
          "metadata": {},
          "output_type": "display_data"
        },
        {
          "data": {
            "text/html": [
              " View run <strong style=\"color:#cdcd00\">carnm_run</strong> at: <a href='https://wandb.ai/nvnsudharsan-the-university-of-texas-at-austin/xdownscale_Austin_06_15_1/runs/ujgm7mgn' target=\"_blank\">https://wandb.ai/nvnsudharsan-the-university-of-texas-at-austin/xdownscale_Austin_06_15_1/runs/ujgm7mgn</a><br> View project at: <a href='https://wandb.ai/nvnsudharsan-the-university-of-texas-at-austin/xdownscale_Austin_06_15_1' target=\"_blank\">https://wandb.ai/nvnsudharsan-the-university-of-texas-at-austin/xdownscale_Austin_06_15_1</a><br>Synced 5 W&B file(s), 0 media file(s), 0 artifact file(s) and 0 other file(s)"
            ],
            "text/plain": [
              "<IPython.core.display.HTML object>"
            ]
          },
          "metadata": {},
          "output_type": "display_data"
        },
        {
          "data": {
            "text/html": [
              "Find logs at: <code>./wandb/run-20250614_195027-ujgm7mgn/logs</code>"
            ],
            "text/plain": [
              "<IPython.core.display.HTML object>"
            ]
          },
          "metadata": {},
          "output_type": "display_data"
        },
        {
          "data": {
            "text/html": [
              "Tracking run with wandb version 0.19.11"
            ],
            "text/plain": [
              "<IPython.core.display.HTML object>"
            ]
          },
          "metadata": {},
          "output_type": "display_data"
        },
        {
          "data": {
            "text/html": [
              "Run data is saved locally in <code>/content/wandb/run-20250614_195335-ace434by</code>"
            ],
            "text/plain": [
              "<IPython.core.display.HTML object>"
            ]
          },
          "metadata": {},
          "output_type": "display_data"
        },
        {
          "data": {
            "text/html": [
              "Syncing run <strong><a href='https://wandb.ai/nvnsudharsan-the-university-of-texas-at-austin/xdownscale_Austin_06_15_1/runs/ace434by' target=\"_blank\">falsra_run</a></strong> to <a href='https://wandb.ai/nvnsudharsan-the-university-of-texas-at-austin/xdownscale_Austin_06_15_1' target=\"_blank\">Weights & Biases</a> (<a href='https://wandb.me/developer-guide' target=\"_blank\">docs</a>)<br>"
            ],
            "text/plain": [
              "<IPython.core.display.HTML object>"
            ]
          },
          "metadata": {},
          "output_type": "display_data"
        },
        {
          "data": {
            "text/html": [
              " View project at <a href='https://wandb.ai/nvnsudharsan-the-university-of-texas-at-austin/xdownscale_Austin_06_15_1' target=\"_blank\">https://wandb.ai/nvnsudharsan-the-university-of-texas-at-austin/xdownscale_Austin_06_15_1</a>"
            ],
            "text/plain": [
              "<IPython.core.display.HTML object>"
            ]
          },
          "metadata": {},
          "output_type": "display_data"
        },
        {
          "data": {
            "text/html": [
              " View run at <a href='https://wandb.ai/nvnsudharsan-the-university-of-texas-at-austin/xdownscale_Austin_06_15_1/runs/ace434by' target=\"_blank\">https://wandb.ai/nvnsudharsan-the-university-of-texas-at-austin/xdownscale_Austin_06_15_1/runs/ace434by</a>"
            ],
            "text/plain": [
              "<IPython.core.display.HTML object>"
            ]
          },
          "metadata": {},
          "output_type": "display_data"
        },
        {
          "metadata": {
            "tags": null
          },
          "name": "stdout",
          "output_type": "stream",
          "text": [
            "\n",
            " Training model: falsra\n",
            "[0] Train: 0.0008 | Val: 0.0008\n",
            "[10] Train: 0.0007 | Val: 0.0008\n",
            "Early stopping at epoch 15 with best val_loss: 0.0008\n",
            "Done with falsra | RMSE=7.317, CORR=0.487\n"
          ]
        },
        {
          "data": {
            "text/html": [],
            "text/plain": [
              "<IPython.core.display.HTML object>"
            ]
          },
          "metadata": {},
          "output_type": "display_data"
        },
        {
          "data": {
            "text/html": [
              "<br>    <style><br>        .wandb-row {<br>            display: flex;<br>            flex-direction: row;<br>            flex-wrap: wrap;<br>            justify-content: flex-start;<br>            width: 100%;<br>        }<br>        .wandb-col {<br>            display: flex;<br>            flex-direction: column;<br>            flex-basis: 100%;<br>            flex: 1;<br>            padding: 10px;<br>        }<br>    </style><br><div class=\"wandb-row\"><div class=\"wandb-col\"><h3>Run history:</h3><br/><table class=\"wandb\"><tr><td>epoch</td><td>▁▁▂▂▃▃▄▄▅▅▆▆▇▇██</td></tr><tr><td>test_bias</td><td>▁</td></tr><tr><td>test_corr</td><td>▁</td></tr><tr><td>test_mae</td><td>▁</td></tr><tr><td>test_mean</td><td>▁</td></tr><tr><td>test_rmse</td><td>▁</td></tr><tr><td>test_std</td><td>▁</td></tr><tr><td>train_loss</td><td>▂▂▁▁▁▁▁█▁▁▁▁▁▁▁▁</td></tr><tr><td>val_loss</td><td>▃█▄▄▁▁▁▃▁▁▂▂▁▃▁▃</td></tr></table><br/></div><div class=\"wandb-col\"><h3>Run summary:</h3><br/><table class=\"wandb\"><tr><td>epoch</td><td>15</td></tr><tr><td>test_bias</td><td>0.61505</td></tr><tr><td>test_corr</td><td>0.4875</td></tr><tr><td>test_mae</td><td>3.55565</td></tr><tr><td>test_mean</td><td>2.69146</td></tr><tr><td>test_rmse</td><td>7.31724</td></tr><tr><td>test_std</td><td>2.96913</td></tr><tr><td>train_loss</td><td>0.00073</td></tr><tr><td>val_loss</td><td>0.00076</td></tr></table><br/></div></div>"
            ],
            "text/plain": [
              "<IPython.core.display.HTML object>"
            ]
          },
          "metadata": {},
          "output_type": "display_data"
        },
        {
          "data": {
            "text/html": [
              " View run <strong style=\"color:#cdcd00\">falsra_run</strong> at: <a href='https://wandb.ai/nvnsudharsan-the-university-of-texas-at-austin/xdownscale_Austin_06_15_1/runs/ace434by' target=\"_blank\">https://wandb.ai/nvnsudharsan-the-university-of-texas-at-austin/xdownscale_Austin_06_15_1/runs/ace434by</a><br> View project at: <a href='https://wandb.ai/nvnsudharsan-the-university-of-texas-at-austin/xdownscale_Austin_06_15_1' target=\"_blank\">https://wandb.ai/nvnsudharsan-the-university-of-texas-at-austin/xdownscale_Austin_06_15_1</a><br>Synced 5 W&B file(s), 0 media file(s), 0 artifact file(s) and 0 other file(s)"
            ],
            "text/plain": [
              "<IPython.core.display.HTML object>"
            ]
          },
          "metadata": {},
          "output_type": "display_data"
        },
        {
          "data": {
            "text/html": [
              "Find logs at: <code>./wandb/run-20250614_195335-ace434by/logs</code>"
            ],
            "text/plain": [
              "<IPython.core.display.HTML object>"
            ]
          },
          "metadata": {},
          "output_type": "display_data"
        },
        {
          "data": {
            "text/html": [
              "Tracking run with wandb version 0.19.11"
            ],
            "text/plain": [
              "<IPython.core.display.HTML object>"
            ]
          },
          "metadata": {},
          "output_type": "display_data"
        },
        {
          "data": {
            "text/html": [
              "Run data is saved locally in <code>/content/wandb/run-20250614_195503-q0ag61rj</code>"
            ],
            "text/plain": [
              "<IPython.core.display.HTML object>"
            ]
          },
          "metadata": {},
          "output_type": "display_data"
        },
        {
          "data": {
            "text/html": [
              "Syncing run <strong><a href='https://wandb.ai/nvnsudharsan-the-university-of-texas-at-austin/xdownscale_Austin_06_15_1/runs/q0ag61rj' target=\"_blank\">falsrb_run</a></strong> to <a href='https://wandb.ai/nvnsudharsan-the-university-of-texas-at-austin/xdownscale_Austin_06_15_1' target=\"_blank\">Weights & Biases</a> (<a href='https://wandb.me/developer-guide' target=\"_blank\">docs</a>)<br>"
            ],
            "text/plain": [
              "<IPython.core.display.HTML object>"
            ]
          },
          "metadata": {},
          "output_type": "display_data"
        },
        {
          "data": {
            "text/html": [
              " View project at <a href='https://wandb.ai/nvnsudharsan-the-university-of-texas-at-austin/xdownscale_Austin_06_15_1' target=\"_blank\">https://wandb.ai/nvnsudharsan-the-university-of-texas-at-austin/xdownscale_Austin_06_15_1</a>"
            ],
            "text/plain": [
              "<IPython.core.display.HTML object>"
            ]
          },
          "metadata": {},
          "output_type": "display_data"
        },
        {
          "data": {
            "text/html": [
              " View run at <a href='https://wandb.ai/nvnsudharsan-the-university-of-texas-at-austin/xdownscale_Austin_06_15_1/runs/q0ag61rj' target=\"_blank\">https://wandb.ai/nvnsudharsan-the-university-of-texas-at-austin/xdownscale_Austin_06_15_1/runs/q0ag61rj</a>"
            ],
            "text/plain": [
              "<IPython.core.display.HTML object>"
            ]
          },
          "metadata": {},
          "output_type": "display_data"
        },
        {
          "metadata": {
            "tags": null
          },
          "name": "stdout",
          "output_type": "stream",
          "text": [
            "\n",
            " Training model: falsrb\n",
            "[0] Train: 0.0008 | Val: 0.0007\n",
            "[10] Train: 0.0007 | Val: 0.0007\n",
            "Early stopping at epoch 15 with best val_loss: 0.0007\n",
            "Done with falsrb | RMSE=7.396, CORR=0.466\n"
          ]
        },
        {
          "data": {
            "text/html": [],
            "text/plain": [
              "<IPython.core.display.HTML object>"
            ]
          },
          "metadata": {},
          "output_type": "display_data"
        },
        {
          "data": {
            "text/html": [
              "<br>    <style><br>        .wandb-row {<br>            display: flex;<br>            flex-direction: row;<br>            flex-wrap: wrap;<br>            justify-content: flex-start;<br>            width: 100%;<br>        }<br>        .wandb-col {<br>            display: flex;<br>            flex-direction: column;<br>            flex-basis: 100%;<br>            flex: 1;<br>            padding: 10px;<br>        }<br>    </style><br><div class=\"wandb-row\"><div class=\"wandb-col\"><h3>Run history:</h3><br/><table class=\"wandb\"><tr><td>epoch</td><td>▁▁▂▂▃▃▄▄▅▅▆▆▇▇██</td></tr><tr><td>test_bias</td><td>▁</td></tr><tr><td>test_corr</td><td>▁</td></tr><tr><td>test_mae</td><td>▁</td></tr><tr><td>test_mean</td><td>▁</td></tr><tr><td>test_rmse</td><td>▁</td></tr><tr><td>test_std</td><td>▁</td></tr><tr><td>train_loss</td><td>▇▅▃▁▅█▆▂▁▃▄▃▁▁▃▂</td></tr><tr><td>val_loss</td><td>▂▂▂▄▁█▂▂▂▂▂▁▃▂▃▂</td></tr></table><br/></div><div class=\"wandb-col\"><h3>Run summary:</h3><br/><table class=\"wandb\"><tr><td>epoch</td><td>15</td></tr><tr><td>test_bias</td><td>0.96845</td></tr><tr><td>test_corr</td><td>0.46565</td></tr><tr><td>test_mae</td><td>3.78906</td></tr><tr><td>test_mean</td><td>2.97683</td></tr><tr><td>test_rmse</td><td>7.39612</td></tr><tr><td>test_std</td><td>3.46306</td></tr><tr><td>train_loss</td><td>0.00073</td></tr><tr><td>val_loss</td><td>0.00072</td></tr></table><br/></div></div>"
            ],
            "text/plain": [
              "<IPython.core.display.HTML object>"
            ]
          },
          "metadata": {},
          "output_type": "display_data"
        },
        {
          "data": {
            "text/html": [
              " View run <strong style=\"color:#cdcd00\">falsrb_run</strong> at: <a href='https://wandb.ai/nvnsudharsan-the-university-of-texas-at-austin/xdownscale_Austin_06_15_1/runs/q0ag61rj' target=\"_blank\">https://wandb.ai/nvnsudharsan-the-university-of-texas-at-austin/xdownscale_Austin_06_15_1/runs/q0ag61rj</a><br> View project at: <a href='https://wandb.ai/nvnsudharsan-the-university-of-texas-at-austin/xdownscale_Austin_06_15_1' target=\"_blank\">https://wandb.ai/nvnsudharsan-the-university-of-texas-at-austin/xdownscale_Austin_06_15_1</a><br>Synced 5 W&B file(s), 0 media file(s), 0 artifact file(s) and 0 other file(s)"
            ],
            "text/plain": [
              "<IPython.core.display.HTML object>"
            ]
          },
          "metadata": {},
          "output_type": "display_data"
        },
        {
          "data": {
            "text/html": [
              "Find logs at: <code>./wandb/run-20250614_195503-q0ag61rj/logs</code>"
            ],
            "text/plain": [
              "<IPython.core.display.HTML object>"
            ]
          },
          "metadata": {},
          "output_type": "display_data"
        },
        {
          "data": {
            "text/html": [
              "Tracking run with wandb version 0.19.11"
            ],
            "text/plain": [
              "<IPython.core.display.HTML object>"
            ]
          },
          "metadata": {},
          "output_type": "display_data"
        },
        {
          "data": {
            "text/html": [
              "Run data is saved locally in <code>/content/wandb/run-20250614_195620-4shxa4n7</code>"
            ],
            "text/plain": [
              "<IPython.core.display.HTML object>"
            ]
          },
          "metadata": {},
          "output_type": "display_data"
        },
        {
          "data": {
            "text/html": [
              "Syncing run <strong><a href='https://wandb.ai/nvnsudharsan-the-university-of-texas-at-austin/xdownscale_Austin_06_15_1/runs/4shxa4n7' target=\"_blank\">srresnet_run</a></strong> to <a href='https://wandb.ai/nvnsudharsan-the-university-of-texas-at-austin/xdownscale_Austin_06_15_1' target=\"_blank\">Weights & Biases</a> (<a href='https://wandb.me/developer-guide' target=\"_blank\">docs</a>)<br>"
            ],
            "text/plain": [
              "<IPython.core.display.HTML object>"
            ]
          },
          "metadata": {},
          "output_type": "display_data"
        },
        {
          "data": {
            "text/html": [
              " View project at <a href='https://wandb.ai/nvnsudharsan-the-university-of-texas-at-austin/xdownscale_Austin_06_15_1' target=\"_blank\">https://wandb.ai/nvnsudharsan-the-university-of-texas-at-austin/xdownscale_Austin_06_15_1</a>"
            ],
            "text/plain": [
              "<IPython.core.display.HTML object>"
            ]
          },
          "metadata": {},
          "output_type": "display_data"
        },
        {
          "data": {
            "text/html": [
              " View run at <a href='https://wandb.ai/nvnsudharsan-the-university-of-texas-at-austin/xdownscale_Austin_06_15_1/runs/4shxa4n7' target=\"_blank\">https://wandb.ai/nvnsudharsan-the-university-of-texas-at-austin/xdownscale_Austin_06_15_1/runs/4shxa4n7</a>"
            ],
            "text/plain": [
              "<IPython.core.display.HTML object>"
            ]
          },
          "metadata": {},
          "output_type": "display_data"
        },
        {
          "metadata": {
            "tags": null
          },
          "name": "stdout",
          "output_type": "stream",
          "text": [
            "\n",
            " Training model: srresnet\n",
            "[0] Train: 0.0040 | Val: 0.0007\n",
            "[10] Train: 441468.3835 | Val: 470759.9555\n",
            "Early stopping at epoch 15 with best val_loss: 0.0007\n",
            "Done with srresnet | RMSE=7.995, CORR=0.475\n"
          ]
        },
        {
          "data": {
            "text/html": [],
            "text/plain": [
              "<IPython.core.display.HTML object>"
            ]
          },
          "metadata": {},
          "output_type": "display_data"
        },
        {
          "data": {
            "text/html": [
              "<br>    <style><br>        .wandb-row {<br>            display: flex;<br>            flex-direction: row;<br>            flex-wrap: wrap;<br>            justify-content: flex-start;<br>            width: 100%;<br>        }<br>        .wandb-col {<br>            display: flex;<br>            flex-direction: column;<br>            flex-basis: 100%;<br>            flex: 1;<br>            padding: 10px;<br>        }<br>    </style><br><div class=\"wandb-row\"><div class=\"wandb-col\"><h3>Run history:</h3><br/><table class=\"wandb\"><tr><td>epoch</td><td>▁▁▂▂▃▃▄▄▅▅▆▆▇▇██</td></tr><tr><td>test_bias</td><td>▁</td></tr><tr><td>test_corr</td><td>▁</td></tr><tr><td>test_mae</td><td>▁</td></tr><tr><td>test_mean</td><td>▁</td></tr><tr><td>test_rmse</td><td>▁</td></tr><tr><td>test_std</td><td>▁</td></tr><tr><td>train_loss</td><td>▁█▁▁▁▁▁▁▁▁▁▁▁▁▁▁</td></tr><tr><td>val_loss</td><td>▁█▃▂▂▁▁▁▁▁▁▁▁▁▁▁</td></tr></table><br/></div><div class=\"wandb-col\"><h3>Run summary:</h3><br/><table class=\"wandb\"><tr><td>epoch</td><td>15</td></tr><tr><td>test_bias</td><td>3.28134</td></tr><tr><td>test_corr</td><td>0.47477</td></tr><tr><td>test_mae</td><td>5.51464</td></tr><tr><td>test_mean</td><td>5.20498</td></tr><tr><td>test_rmse</td><td>7.99509</td></tr><tr><td>test_std</td><td>4.0321</td></tr><tr><td>train_loss</td><td>5237.41173</td></tr><tr><td>val_loss</td><td>3426.42087</td></tr></table><br/></div></div>"
            ],
            "text/plain": [
              "<IPython.core.display.HTML object>"
            ]
          },
          "metadata": {},
          "output_type": "display_data"
        },
        {
          "data": {
            "text/html": [
              " View run <strong style=\"color:#cdcd00\">srresnet_run</strong> at: <a href='https://wandb.ai/nvnsudharsan-the-university-of-texas-at-austin/xdownscale_Austin_06_15_1/runs/4shxa4n7' target=\"_blank\">https://wandb.ai/nvnsudharsan-the-university-of-texas-at-austin/xdownscale_Austin_06_15_1/runs/4shxa4n7</a><br> View project at: <a href='https://wandb.ai/nvnsudharsan-the-university-of-texas-at-austin/xdownscale_Austin_06_15_1' target=\"_blank\">https://wandb.ai/nvnsudharsan-the-university-of-texas-at-austin/xdownscale_Austin_06_15_1</a><br>Synced 5 W&B file(s), 0 media file(s), 0 artifact file(s) and 0 other file(s)"
            ],
            "text/plain": [
              "<IPython.core.display.HTML object>"
            ]
          },
          "metadata": {},
          "output_type": "display_data"
        },
        {
          "data": {
            "text/html": [
              "Find logs at: <code>./wandb/run-20250614_195620-4shxa4n7/logs</code>"
            ],
            "text/plain": [
              "<IPython.core.display.HTML object>"
            ]
          },
          "metadata": {},
          "output_type": "display_data"
        },
        {
          "data": {
            "text/html": [
              "Tracking run with wandb version 0.19.11"
            ],
            "text/plain": [
              "<IPython.core.display.HTML object>"
            ]
          },
          "metadata": {},
          "output_type": "display_data"
        },
        {
          "data": {
            "text/html": [
              "Run data is saved locally in <code>/content/wandb/run-20250614_201336-5d0buqeg</code>"
            ],
            "text/plain": [
              "<IPython.core.display.HTML object>"
            ]
          },
          "metadata": {},
          "output_type": "display_data"
        },
        {
          "data": {
            "text/html": [
              "Syncing run <strong><a href='https://wandb.ai/nvnsudharsan-the-university-of-texas-at-austin/xdownscale_Austin_06_15_1/runs/5d0buqeg' target=\"_blank\">carn_run</a></strong> to <a href='https://wandb.ai/nvnsudharsan-the-university-of-texas-at-austin/xdownscale_Austin_06_15_1' target=\"_blank\">Weights & Biases</a> (<a href='https://wandb.me/developer-guide' target=\"_blank\">docs</a>)<br>"
            ],
            "text/plain": [
              "<IPython.core.display.HTML object>"
            ]
          },
          "metadata": {},
          "output_type": "display_data"
        },
        {
          "data": {
            "text/html": [
              " View project at <a href='https://wandb.ai/nvnsudharsan-the-university-of-texas-at-austin/xdownscale_Austin_06_15_1' target=\"_blank\">https://wandb.ai/nvnsudharsan-the-university-of-texas-at-austin/xdownscale_Austin_06_15_1</a>"
            ],
            "text/plain": [
              "<IPython.core.display.HTML object>"
            ]
          },
          "metadata": {},
          "output_type": "display_data"
        },
        {
          "data": {
            "text/html": [
              " View run at <a href='https://wandb.ai/nvnsudharsan-the-university-of-texas-at-austin/xdownscale_Austin_06_15_1/runs/5d0buqeg' target=\"_blank\">https://wandb.ai/nvnsudharsan-the-university-of-texas-at-austin/xdownscale_Austin_06_15_1/runs/5d0buqeg</a>"
            ],
            "text/plain": [
              "<IPython.core.display.HTML object>"
            ]
          },
          "metadata": {},
          "output_type": "display_data"
        },
        {
          "metadata": {
            "tags": null
          },
          "name": "stdout",
          "output_type": "stream",
          "text": [
            "\n",
            " Training model: carn\n",
            "[0] Train: 0.0014 | Val: 0.0008\n",
            "[10] Train: 0.0009 | Val: 0.0008\n",
            "Early stopping at epoch 15 with best val_loss: 0.0008\n",
            "Done with carn | RMSE=7.574, CORR=0.437\n"
          ]
        },
        {
          "data": {
            "text/html": [],
            "text/plain": [
              "<IPython.core.display.HTML object>"
            ]
          },
          "metadata": {},
          "output_type": "display_data"
        },
        {
          "data": {
            "text/html": [
              "<br>    <style><br>        .wandb-row {<br>            display: flex;<br>            flex-direction: row;<br>            flex-wrap: wrap;<br>            justify-content: flex-start;<br>            width: 100%;<br>        }<br>        .wandb-col {<br>            display: flex;<br>            flex-direction: column;<br>            flex-basis: 100%;<br>            flex: 1;<br>            padding: 10px;<br>        }<br>    </style><br><div class=\"wandb-row\"><div class=\"wandb-col\"><h3>Run history:</h3><br/><table class=\"wandb\"><tr><td>epoch</td><td>▁▁▂▂▃▃▄▄▅▅▆▆▇▇██</td></tr><tr><td>test_bias</td><td>▁</td></tr><tr><td>test_corr</td><td>▁</td></tr><tr><td>test_mae</td><td>▁</td></tr><tr><td>test_mean</td><td>▁</td></tr><tr><td>test_rmse</td><td>▁</td></tr><tr><td>test_std</td><td>▁</td></tr><tr><td>train_loss</td><td>█▂▂▂▁▂▁▂▁▁▃▁▁▁▁▁</td></tr><tr><td>val_loss</td><td>▅▂▆▅█▄▄▅▁▃▅▂▂▂▄▁</td></tr></table><br/></div><div class=\"wandb-col\"><h3>Run summary:</h3><br/><table class=\"wandb\"><tr><td>epoch</td><td>15</td></tr><tr><td>test_bias</td><td>1.31954</td></tr><tr><td>test_corr</td><td>0.43686</td></tr><tr><td>test_mae</td><td>4.20359</td></tr><tr><td>test_mean</td><td>3.49145</td></tr><tr><td>test_rmse</td><td>7.57415</td></tr><tr><td>test_std</td><td>3.08839</td></tr><tr><td>train_loss</td><td>0.00073</td></tr><tr><td>val_loss</td><td>0.00075</td></tr></table><br/></div></div>"
            ],
            "text/plain": [
              "<IPython.core.display.HTML object>"
            ]
          },
          "metadata": {},
          "output_type": "display_data"
        },
        {
          "data": {
            "text/html": [
              " View run <strong style=\"color:#cdcd00\">carn_run</strong> at: <a href='https://wandb.ai/nvnsudharsan-the-university-of-texas-at-austin/xdownscale_Austin_06_15_1/runs/5d0buqeg' target=\"_blank\">https://wandb.ai/nvnsudharsan-the-university-of-texas-at-austin/xdownscale_Austin_06_15_1/runs/5d0buqeg</a><br> View project at: <a href='https://wandb.ai/nvnsudharsan-the-university-of-texas-at-austin/xdownscale_Austin_06_15_1' target=\"_blank\">https://wandb.ai/nvnsudharsan-the-university-of-texas-at-austin/xdownscale_Austin_06_15_1</a><br>Synced 5 W&B file(s), 0 media file(s), 0 artifact file(s) and 0 other file(s)"
            ],
            "text/plain": [
              "<IPython.core.display.HTML object>"
            ]
          },
          "metadata": {},
          "output_type": "display_data"
        },
        {
          "data": {
            "text/html": [
              "Find logs at: <code>./wandb/run-20250614_201336-5d0buqeg/logs</code>"
            ],
            "text/plain": [
              "<IPython.core.display.HTML object>"
            ]
          },
          "metadata": {},
          "output_type": "display_data"
        },
        {
          "data": {
            "text/html": [
              "Tracking run with wandb version 0.19.11"
            ],
            "text/plain": [
              "<IPython.core.display.HTML object>"
            ]
          },
          "metadata": {},
          "output_type": "display_data"
        },
        {
          "data": {
            "text/html": [
              "Run data is saved locally in <code>/content/wandb/run-20250614_201922-mzi1lc51</code>"
            ],
            "text/plain": [
              "<IPython.core.display.HTML object>"
            ]
          },
          "metadata": {},
          "output_type": "display_data"
        },
        {
          "data": {
            "text/html": [
              "Syncing run <strong><a href='https://wandb.ai/nvnsudharsan-the-university-of-texas-at-austin/xdownscale_Austin_06_15_1/runs/mzi1lc51' target=\"_blank\">oisrrk2_run</a></strong> to <a href='https://wandb.ai/nvnsudharsan-the-university-of-texas-at-austin/xdownscale_Austin_06_15_1' target=\"_blank\">Weights & Biases</a> (<a href='https://wandb.me/developer-guide' target=\"_blank\">docs</a>)<br>"
            ],
            "text/plain": [
              "<IPython.core.display.HTML object>"
            ]
          },
          "metadata": {},
          "output_type": "display_data"
        },
        {
          "data": {
            "text/html": [
              " View project at <a href='https://wandb.ai/nvnsudharsan-the-university-of-texas-at-austin/xdownscale_Austin_06_15_1' target=\"_blank\">https://wandb.ai/nvnsudharsan-the-university-of-texas-at-austin/xdownscale_Austin_06_15_1</a>"
            ],
            "text/plain": [
              "<IPython.core.display.HTML object>"
            ]
          },
          "metadata": {},
          "output_type": "display_data"
        },
        {
          "data": {
            "text/html": [
              " View run at <a href='https://wandb.ai/nvnsudharsan-the-university-of-texas-at-austin/xdownscale_Austin_06_15_1/runs/mzi1lc51' target=\"_blank\">https://wandb.ai/nvnsudharsan-the-university-of-texas-at-austin/xdownscale_Austin_06_15_1/runs/mzi1lc51</a>"
            ],
            "text/plain": [
              "<IPython.core.display.HTML object>"
            ]
          },
          "metadata": {},
          "output_type": "display_data"
        },
        {
          "metadata": {
            "tags": null
          },
          "name": "stdout",
          "output_type": "stream",
          "text": [
            "\n",
            " Training model: oisrrk2\n",
            "[0] Train: 0.0012 | Val: 0.0013\n",
            "[10] Train: 0.0013 | Val: 0.0012\n",
            "[20] Train: 0.0008 | Val: 0.0007\n",
            "[30] Train: 0.0008 | Val: 0.0007\n",
            "Early stopping at epoch 32 with best val_loss: 0.0007\n",
            "Done with oisrrk2 | RMSE=7.486, CORR=0.453\n"
          ]
        },
        {
          "data": {
            "text/html": [],
            "text/plain": [
              "<IPython.core.display.HTML object>"
            ]
          },
          "metadata": {},
          "output_type": "display_data"
        },
        {
          "data": {
            "text/html": [
              "<br>    <style><br>        .wandb-row {<br>            display: flex;<br>            flex-direction: row;<br>            flex-wrap: wrap;<br>            justify-content: flex-start;<br>            width: 100%;<br>        }<br>        .wandb-col {<br>            display: flex;<br>            flex-direction: column;<br>            flex-basis: 100%;<br>            flex: 1;<br>            padding: 10px;<br>        }<br>    </style><br><div class=\"wandb-row\"><div class=\"wandb-col\"><h3>Run history:</h3><br/><table class=\"wandb\"><tr><td>epoch</td><td>▁▁▁▂▂▂▂▃▃▃▃▃▄▄▄▄▅▅▅▅▅▆▆▆▆▆▇▇▇▇███</td></tr><tr><td>test_bias</td><td>▁</td></tr><tr><td>test_corr</td><td>▁</td></tr><tr><td>test_mae</td><td>▁</td></tr><tr><td>test_mean</td><td>▁</td></tr><tr><td>test_rmse</td><td>▁</td></tr><tr><td>test_std</td><td>▁</td></tr><tr><td>train_loss</td><td>▆▇█▇▇▇▇▇▇▇▇▇▇▇▇▃▂▁▁▂▁▁▁▁▁▁▁▁▁▁▁▁▁</td></tr><tr><td>val_loss</td><td>█████▇█▇▇▇█▇▇▇█▃▂▁▁▁▂▁▁▂▁▁▂▁▁▁▁▂▁</td></tr></table><br/></div><div class=\"wandb-col\"><h3>Run summary:</h3><br/><table class=\"wandb\"><tr><td>epoch</td><td>32</td></tr><tr><td>test_bias</td><td>-0.05367</td></tr><tr><td>test_corr</td><td>0.45298</td></tr><tr><td>test_mae</td><td>2.79242</td></tr><tr><td>test_mean</td><td>2.22284</td></tr><tr><td>test_rmse</td><td>7.48557</td></tr><tr><td>test_std</td><td>4.72145</td></tr><tr><td>train_loss</td><td>0.00077</td></tr><tr><td>val_loss</td><td>0.00069</td></tr></table><br/></div></div>"
            ],
            "text/plain": [
              "<IPython.core.display.HTML object>"
            ]
          },
          "metadata": {},
          "output_type": "display_data"
        },
        {
          "data": {
            "text/html": [
              " View run <strong style=\"color:#cdcd00\">oisrrk2_run</strong> at: <a href='https://wandb.ai/nvnsudharsan-the-university-of-texas-at-austin/xdownscale_Austin_06_15_1/runs/mzi1lc51' target=\"_blank\">https://wandb.ai/nvnsudharsan-the-university-of-texas-at-austin/xdownscale_Austin_06_15_1/runs/mzi1lc51</a><br> View project at: <a href='https://wandb.ai/nvnsudharsan-the-university-of-texas-at-austin/xdownscale_Austin_06_15_1' target=\"_blank\">https://wandb.ai/nvnsudharsan-the-university-of-texas-at-austin/xdownscale_Austin_06_15_1</a><br>Synced 5 W&B file(s), 0 media file(s), 0 artifact file(s) and 0 other file(s)"
            ],
            "text/plain": [
              "<IPython.core.display.HTML object>"
            ]
          },
          "metadata": {},
          "output_type": "display_data"
        },
        {
          "data": {
            "text/html": [
              "Find logs at: <code>./wandb/run-20250614_201922-mzi1lc51/logs</code>"
            ],
            "text/plain": [
              "<IPython.core.display.HTML object>"
            ]
          },
          "metadata": {},
          "output_type": "display_data"
        },
        {
          "data": {
            "text/html": [
              "Tracking run with wandb version 0.19.11"
            ],
            "text/plain": [
              "<IPython.core.display.HTML object>"
            ]
          },
          "metadata": {},
          "output_type": "display_data"
        },
        {
          "data": {
            "text/html": [
              "Run data is saved locally in <code>/content/wandb/run-20250614_202329-w7x1mgr6</code>"
            ],
            "text/plain": [
              "<IPython.core.display.HTML object>"
            ]
          },
          "metadata": {},
          "output_type": "display_data"
        },
        {
          "data": {
            "text/html": [
              "Syncing run <strong><a href='https://wandb.ai/nvnsudharsan-the-university-of-texas-at-austin/xdownscale_Austin_06_15_1/runs/w7x1mgr6' target=\"_blank\">mdsr_run</a></strong> to <a href='https://wandb.ai/nvnsudharsan-the-university-of-texas-at-austin/xdownscale_Austin_06_15_1' target=\"_blank\">Weights & Biases</a> (<a href='https://wandb.me/developer-guide' target=\"_blank\">docs</a>)<br>"
            ],
            "text/plain": [
              "<IPython.core.display.HTML object>"
            ]
          },
          "metadata": {},
          "output_type": "display_data"
        },
        {
          "data": {
            "text/html": [
              " View project at <a href='https://wandb.ai/nvnsudharsan-the-university-of-texas-at-austin/xdownscale_Austin_06_15_1' target=\"_blank\">https://wandb.ai/nvnsudharsan-the-university-of-texas-at-austin/xdownscale_Austin_06_15_1</a>"
            ],
            "text/plain": [
              "<IPython.core.display.HTML object>"
            ]
          },
          "metadata": {},
          "output_type": "display_data"
        },
        {
          "data": {
            "text/html": [
              " View run at <a href='https://wandb.ai/nvnsudharsan-the-university-of-texas-at-austin/xdownscale_Austin_06_15_1/runs/w7x1mgr6' target=\"_blank\">https://wandb.ai/nvnsudharsan-the-university-of-texas-at-austin/xdownscale_Austin_06_15_1/runs/w7x1mgr6</a>"
            ],
            "text/plain": [
              "<IPython.core.display.HTML object>"
            ]
          },
          "metadata": {},
          "output_type": "display_data"
        },
        {
          "metadata": {
            "tags": null
          },
          "name": "stdout",
          "output_type": "stream",
          "text": [
            "\n",
            " Training model: mdsr\n",
            "[0] Train: 0.1112 | Val: 0.0025\n",
            "[10] Train: 0.0011 | Val: 0.0014\n",
            "[20] Train: 0.0009 | Val: 0.0007\n",
            "Early stopping at epoch 21 with best val_loss: 0.0007\n",
            "Done with mdsr | RMSE=7.566, CORR=0.413\n"
          ]
        },
        {
          "data": {
            "text/html": [],
            "text/plain": [
              "<IPython.core.display.HTML object>"
            ]
          },
          "metadata": {},
          "output_type": "display_data"
        },
        {
          "data": {
            "text/html": [
              "<br>    <style><br>        .wandb-row {<br>            display: flex;<br>            flex-direction: row;<br>            flex-wrap: wrap;<br>            justify-content: flex-start;<br>            width: 100%;<br>        }<br>        .wandb-col {<br>            display: flex;<br>            flex-direction: column;<br>            flex-basis: 100%;<br>            flex: 1;<br>            padding: 10px;<br>        }<br>    </style><br><div class=\"wandb-row\"><div class=\"wandb-col\"><h3>Run history:</h3><br/><table class=\"wandb\"><tr><td>epoch</td><td>▁▁▂▂▂▃▃▃▄▄▄▅▅▅▆▆▆▇▇▇██</td></tr><tr><td>test_bias</td><td>▁</td></tr><tr><td>test_corr</td><td>▁</td></tr><tr><td>test_mae</td><td>▁</td></tr><tr><td>test_mean</td><td>▁</td></tr><tr><td>test_rmse</td><td>▁</td></tr><tr><td>test_std</td><td>▁</td></tr><tr><td>train_loss</td><td>█▁▁▁▁▁▁▁▁▁▁▁▁▁▁▁▁▁▁▁▁▁</td></tr><tr><td>val_loss</td><td>█▃▂▂▆▂▁▁▂▁▄▁▂▂▂▁▂▁▁▁▁▅</td></tr></table><br/></div><div class=\"wandb-col\"><h3>Run summary:</h3><br/><table class=\"wandb\"><tr><td>epoch</td><td>21</td></tr><tr><td>test_bias</td><td>-0.1923</td></tr><tr><td>test_corr</td><td>0.41298</td></tr><tr><td>test_mae</td><td>3.06052</td></tr><tr><td>test_mean</td><td>1.89328</td></tr><tr><td>test_rmse</td><td>7.56612</td></tr><tr><td>test_std</td><td>3.89922</td></tr><tr><td>train_loss</td><td>0.0009</td></tr><tr><td>val_loss</td><td>0.00175</td></tr></table><br/></div></div>"
            ],
            "text/plain": [
              "<IPython.core.display.HTML object>"
            ]
          },
          "metadata": {},
          "output_type": "display_data"
        },
        {
          "data": {
            "text/html": [
              " View run <strong style=\"color:#cdcd00\">mdsr_run</strong> at: <a href='https://wandb.ai/nvnsudharsan-the-university-of-texas-at-austin/xdownscale_Austin_06_15_1/runs/w7x1mgr6' target=\"_blank\">https://wandb.ai/nvnsudharsan-the-university-of-texas-at-austin/xdownscale_Austin_06_15_1/runs/w7x1mgr6</a><br> View project at: <a href='https://wandb.ai/nvnsudharsan-the-university-of-texas-at-austin/xdownscale_Austin_06_15_1' target=\"_blank\">https://wandb.ai/nvnsudharsan-the-university-of-texas-at-austin/xdownscale_Austin_06_15_1</a><br>Synced 5 W&B file(s), 0 media file(s), 0 artifact file(s) and 0 other file(s)"
            ],
            "text/plain": [
              "<IPython.core.display.HTML object>"
            ]
          },
          "metadata": {},
          "output_type": "display_data"
        },
        {
          "data": {
            "text/html": [
              "Find logs at: <code>./wandb/run-20250614_202329-w7x1mgr6/logs</code>"
            ],
            "text/plain": [
              "<IPython.core.display.HTML object>"
            ]
          },
          "metadata": {},
          "output_type": "display_data"
        },
        {
          "data": {
            "text/html": [
              "Tracking run with wandb version 0.19.11"
            ],
            "text/plain": [
              "<IPython.core.display.HTML object>"
            ]
          },
          "metadata": {},
          "output_type": "display_data"
        },
        {
          "data": {
            "text/html": [
              "Run data is saved locally in <code>/content/wandb/run-20250614_205022-e3vdgf6r</code>"
            ],
            "text/plain": [
              "<IPython.core.display.HTML object>"
            ]
          },
          "metadata": {},
          "output_type": "display_data"
        },
        {
          "data": {
            "text/html": [
              "Syncing run <strong><a href='https://wandb.ai/nvnsudharsan-the-university-of-texas-at-austin/xdownscale_Austin_06_15_1/runs/e3vdgf6r' target=\"_blank\">san_run</a></strong> to <a href='https://wandb.ai/nvnsudharsan-the-university-of-texas-at-austin/xdownscale_Austin_06_15_1' target=\"_blank\">Weights & Biases</a> (<a href='https://wandb.me/developer-guide' target=\"_blank\">docs</a>)<br>"
            ],
            "text/plain": [
              "<IPython.core.display.HTML object>"
            ]
          },
          "metadata": {},
          "output_type": "display_data"
        },
        {
          "data": {
            "text/html": [
              " View project at <a href='https://wandb.ai/nvnsudharsan-the-university-of-texas-at-austin/xdownscale_Austin_06_15_1' target=\"_blank\">https://wandb.ai/nvnsudharsan-the-university-of-texas-at-austin/xdownscale_Austin_06_15_1</a>"
            ],
            "text/plain": [
              "<IPython.core.display.HTML object>"
            ]
          },
          "metadata": {},
          "output_type": "display_data"
        },
        {
          "data": {
            "text/html": [
              " View run at <a href='https://wandb.ai/nvnsudharsan-the-university-of-texas-at-austin/xdownscale_Austin_06_15_1/runs/e3vdgf6r' target=\"_blank\">https://wandb.ai/nvnsudharsan-the-university-of-texas-at-austin/xdownscale_Austin_06_15_1/runs/e3vdgf6r</a>"
            ],
            "text/plain": [
              "<IPython.core.display.HTML object>"
            ]
          },
          "metadata": {},
          "output_type": "display_data"
        },
        {
          "metadata": {
            "tags": null
          },
          "name": "stdout",
          "output_type": "stream",
          "text": [
            "\n",
            " Training model: san\n",
            "[0] Train: 0.0009 | Val: 0.0008\n",
            "[10] Train: 0.0007 | Val: 0.0007\n",
            "[20] Train: 0.0007 | Val: 0.0008\n",
            "Early stopping at epoch 24 with best val_loss: 0.0007\n",
            "Done with san | RMSE=7.475, CORR=0.475\n"
          ]
        },
        {
          "data": {
            "text/html": [],
            "text/plain": [
              "<IPython.core.display.HTML object>"
            ]
          },
          "metadata": {},
          "output_type": "display_data"
        },
        {
          "data": {
            "text/html": [
              "<br>    <style><br>        .wandb-row {<br>            display: flex;<br>            flex-direction: row;<br>            flex-wrap: wrap;<br>            justify-content: flex-start;<br>            width: 100%;<br>        }<br>        .wandb-col {<br>            display: flex;<br>            flex-direction: column;<br>            flex-basis: 100%;<br>            flex: 1;<br>            padding: 10px;<br>        }<br>    </style><br><div class=\"wandb-row\"><div class=\"wandb-col\"><h3>Run history:</h3><br/><table class=\"wandb\"><tr><td>epoch</td><td>▁▁▂▂▂▂▃▃▃▄▄▄▅▅▅▅▆▆▆▇▇▇▇██</td></tr><tr><td>test_bias</td><td>▁</td></tr><tr><td>test_corr</td><td>▁</td></tr><tr><td>test_mae</td><td>▁</td></tr><tr><td>test_mean</td><td>▁</td></tr><tr><td>test_rmse</td><td>▁</td></tr><tr><td>test_std</td><td>▁</td></tr><tr><td>train_loss</td><td>█▅▅▂▃▂▂▂▂▂▂▂▂▁▁▁▂▁▁▁▁▂▂▁▁</td></tr><tr><td>val_loss</td><td>▃█▂▃▂▃▂▃▂▁▁▁▂▄▅▂▁▁▅▄▃▂▂▁▂</td></tr></table><br/></div><div class=\"wandb-col\"><h3>Run summary:</h3><br/><table class=\"wandb\"><tr><td>epoch</td><td>24</td></tr><tr><td>test_bias</td><td>0.02787</td></tr><tr><td>test_corr</td><td>0.47517</td></tr><tr><td>test_mae</td><td>2.73371</td></tr><tr><td>test_mean</td><td>2.36484</td></tr><tr><td>test_rmse</td><td>7.4747</td></tr><tr><td>test_std</td><td>5.29578</td></tr><tr><td>train_loss</td><td>0.00073</td></tr><tr><td>val_loss</td><td>0.00071</td></tr></table><br/></div></div>"
            ],
            "text/plain": [
              "<IPython.core.display.HTML object>"
            ]
          },
          "metadata": {},
          "output_type": "display_data"
        },
        {
          "data": {
            "text/html": [
              " View run <strong style=\"color:#cdcd00\">san_run</strong> at: <a href='https://wandb.ai/nvnsudharsan-the-university-of-texas-at-austin/xdownscale_Austin_06_15_1/runs/e3vdgf6r' target=\"_blank\">https://wandb.ai/nvnsudharsan-the-university-of-texas-at-austin/xdownscale_Austin_06_15_1/runs/e3vdgf6r</a><br> View project at: <a href='https://wandb.ai/nvnsudharsan-the-university-of-texas-at-austin/xdownscale_Austin_06_15_1' target=\"_blank\">https://wandb.ai/nvnsudharsan-the-university-of-texas-at-austin/xdownscale_Austin_06_15_1</a><br>Synced 5 W&B file(s), 0 media file(s), 0 artifact file(s) and 0 other file(s)"
            ],
            "text/plain": [
              "<IPython.core.display.HTML object>"
            ]
          },
          "metadata": {},
          "output_type": "display_data"
        },
        {
          "data": {
            "text/html": [
              "Find logs at: <code>./wandb/run-20250614_205022-e3vdgf6r/logs</code>"
            ],
            "text/plain": [
              "<IPython.core.display.HTML object>"
            ]
          },
          "metadata": {},
          "output_type": "display_data"
        },
        {
          "data": {
            "text/html": [
              "Tracking run with wandb version 0.19.11"
            ],
            "text/plain": [
              "<IPython.core.display.HTML object>"
            ]
          },
          "metadata": {},
          "output_type": "display_data"
        },
        {
          "data": {
            "text/html": [
              "Run data is saved locally in <code>/content/wandb/run-20250614_212232-5m9mrmjv</code>"
            ],
            "text/plain": [
              "<IPython.core.display.HTML object>"
            ]
          },
          "metadata": {},
          "output_type": "display_data"
        },
        {
          "data": {
            "text/html": [
              "Syncing run <strong><a href='https://wandb.ai/nvnsudharsan-the-university-of-texas-at-austin/xdownscale_Austin_06_15_1/runs/5m9mrmjv' target=\"_blank\">rcan_run</a></strong> to <a href='https://wandb.ai/nvnsudharsan-the-university-of-texas-at-austin/xdownscale_Austin_06_15_1' target=\"_blank\">Weights & Biases</a> (<a href='https://wandb.me/developer-guide' target=\"_blank\">docs</a>)<br>"
            ],
            "text/plain": [
              "<IPython.core.display.HTML object>"
            ]
          },
          "metadata": {},
          "output_type": "display_data"
        },
        {
          "data": {
            "text/html": [
              " View project at <a href='https://wandb.ai/nvnsudharsan-the-university-of-texas-at-austin/xdownscale_Austin_06_15_1' target=\"_blank\">https://wandb.ai/nvnsudharsan-the-university-of-texas-at-austin/xdownscale_Austin_06_15_1</a>"
            ],
            "text/plain": [
              "<IPython.core.display.HTML object>"
            ]
          },
          "metadata": {},
          "output_type": "display_data"
        },
        {
          "data": {
            "text/html": [
              " View run at <a href='https://wandb.ai/nvnsudharsan-the-university-of-texas-at-austin/xdownscale_Austin_06_15_1/runs/5m9mrmjv' target=\"_blank\">https://wandb.ai/nvnsudharsan-the-university-of-texas-at-austin/xdownscale_Austin_06_15_1/runs/5m9mrmjv</a>"
            ],
            "text/plain": [
              "<IPython.core.display.HTML object>"
            ]
          },
          "metadata": {},
          "output_type": "display_data"
        },
        {
          "metadata": {
            "tags": null
          },
          "name": "stdout",
          "output_type": "stream",
          "text": [
            "\n",
            " Training model: rcan\n",
            "[0] Train: 0.0009 | Val: 0.0007\n",
            "[10] Train: 0.0007 | Val: 0.0007\n",
            "Early stopping at epoch 15 with best val_loss: 0.0007\n",
            "Done with rcan | RMSE=7.406, CORR=0.459\n"
          ]
        },
        {
          "data": {
            "text/html": [],
            "text/plain": [
              "<IPython.core.display.HTML object>"
            ]
          },
          "metadata": {},
          "output_type": "display_data"
        },
        {
          "data": {
            "text/html": [
              "<br>    <style><br>        .wandb-row {<br>            display: flex;<br>            flex-direction: row;<br>            flex-wrap: wrap;<br>            justify-content: flex-start;<br>            width: 100%;<br>        }<br>        .wandb-col {<br>            display: flex;<br>            flex-direction: column;<br>            flex-basis: 100%;<br>            flex: 1;<br>            padding: 10px;<br>        }<br>    </style><br><div class=\"wandb-row\"><div class=\"wandb-col\"><h3>Run history:</h3><br/><table class=\"wandb\"><tr><td>epoch</td><td>▁▁▂▂▃▃▄▄▅▅▆▆▇▇██</td></tr><tr><td>test_bias</td><td>▁</td></tr><tr><td>test_corr</td><td>▁</td></tr><tr><td>test_mae</td><td>▁</td></tr><tr><td>test_mean</td><td>▁</td></tr><tr><td>test_rmse</td><td>▁</td></tr><tr><td>test_std</td><td>▁</td></tr><tr><td>train_loss</td><td>█▄▄▂▂▂▂▁▃▁▁▁▂▁▁▁</td></tr><tr><td>val_loss</td><td>▄▃▂▆▃▁▃▃▃▁▄▃▁█▄▂</td></tr></table><br/></div><div class=\"wandb-col\"><h3>Run summary:</h3><br/><table class=\"wandb\"><tr><td>epoch</td><td>15</td></tr><tr><td>test_bias</td><td>-0.83558</td></tr><tr><td>test_corr</td><td>0.45854</td></tr><tr><td>test_mae</td><td>2.48055</td></tr><tr><td>test_mean</td><td>1.45069</td></tr><tr><td>test_rmse</td><td>7.4057</td></tr><tr><td>test_std</td><td>3.50269</td></tr><tr><td>train_loss</td><td>0.00075</td></tr><tr><td>val_loss</td><td>0.00063</td></tr></table><br/></div></div>"
            ],
            "text/plain": [
              "<IPython.core.display.HTML object>"
            ]
          },
          "metadata": {},
          "output_type": "display_data"
        },
        {
          "data": {
            "text/html": [
              " View run <strong style=\"color:#cdcd00\">rcan_run</strong> at: <a href='https://wandb.ai/nvnsudharsan-the-university-of-texas-at-austin/xdownscale_Austin_06_15_1/runs/5m9mrmjv' target=\"_blank\">https://wandb.ai/nvnsudharsan-the-university-of-texas-at-austin/xdownscale_Austin_06_15_1/runs/5m9mrmjv</a><br> View project at: <a href='https://wandb.ai/nvnsudharsan-the-university-of-texas-at-austin/xdownscale_Austin_06_15_1' target=\"_blank\">https://wandb.ai/nvnsudharsan-the-university-of-texas-at-austin/xdownscale_Austin_06_15_1</a><br>Synced 5 W&B file(s), 0 media file(s), 0 artifact file(s) and 0 other file(s)"
            ],
            "text/plain": [
              "<IPython.core.display.HTML object>"
            ]
          },
          "metadata": {},
          "output_type": "display_data"
        },
        {
          "data": {
            "text/html": [
              "Find logs at: <code>./wandb/run-20250614_212232-5m9mrmjv/logs</code>"
            ],
            "text/plain": [
              "<IPython.core.display.HTML object>"
            ]
          },
          "metadata": {},
          "output_type": "display_data"
        },
        {
          "data": {
            "text/html": [
              "Tracking run with wandb version 0.19.11"
            ],
            "text/plain": [
              "<IPython.core.display.HTML object>"
            ]
          },
          "metadata": {},
          "output_type": "display_data"
        },
        {
          "data": {
            "text/html": [
              "Run data is saved locally in <code>/content/wandb/run-20250614_212432-bct1mxwu</code>"
            ],
            "text/plain": [
              "<IPython.core.display.HTML object>"
            ]
          },
          "metadata": {},
          "output_type": "display_data"
        },
        {
          "data": {
            "text/html": [
              "Syncing run <strong><a href='https://wandb.ai/nvnsudharsan-the-university-of-texas-at-austin/xdownscale_Austin_06_15_1/runs/bct1mxwu' target=\"_blank\">unet_run</a></strong> to <a href='https://wandb.ai/nvnsudharsan-the-university-of-texas-at-austin/xdownscale_Austin_06_15_1' target=\"_blank\">Weights & Biases</a> (<a href='https://wandb.me/developer-guide' target=\"_blank\">docs</a>)<br>"
            ],
            "text/plain": [
              "<IPython.core.display.HTML object>"
            ]
          },
          "metadata": {},
          "output_type": "display_data"
        },
        {
          "data": {
            "text/html": [
              " View project at <a href='https://wandb.ai/nvnsudharsan-the-university-of-texas-at-austin/xdownscale_Austin_06_15_1' target=\"_blank\">https://wandb.ai/nvnsudharsan-the-university-of-texas-at-austin/xdownscale_Austin_06_15_1</a>"
            ],
            "text/plain": [
              "<IPython.core.display.HTML object>"
            ]
          },
          "metadata": {},
          "output_type": "display_data"
        },
        {
          "data": {
            "text/html": [
              " View run at <a href='https://wandb.ai/nvnsudharsan-the-university-of-texas-at-austin/xdownscale_Austin_06_15_1/runs/bct1mxwu' target=\"_blank\">https://wandb.ai/nvnsudharsan-the-university-of-texas-at-austin/xdownscale_Austin_06_15_1/runs/bct1mxwu</a>"
            ],
            "text/plain": [
              "<IPython.core.display.HTML object>"
            ]
          },
          "metadata": {},
          "output_type": "display_data"
        },
        {
          "metadata": {
            "tags": null
          },
          "name": "stdout",
          "output_type": "stream",
          "text": [
            "\n",
            " Training model: unet\n",
            "[0] Train: 0.0008 | Val: 0.0009\n",
            "[10] Train: 0.0010 | Val: 0.0008\n",
            "Early stopping at epoch 16 with best val_loss: 0.0006\n",
            "Done with unet | RMSE=7.355, CORR=0.466\n"
          ]
        },
        {
          "data": {
            "text/html": [],
            "text/plain": [
              "<IPython.core.display.HTML object>"
            ]
          },
          "metadata": {},
          "output_type": "display_data"
        },
        {
          "data": {
            "text/html": [
              "<br>    <style><br>        .wandb-row {<br>            display: flex;<br>            flex-direction: row;<br>            flex-wrap: wrap;<br>            justify-content: flex-start;<br>            width: 100%;<br>        }<br>        .wandb-col {<br>            display: flex;<br>            flex-direction: column;<br>            flex-basis: 100%;<br>            flex: 1;<br>            padding: 10px;<br>        }<br>    </style><br><div class=\"wandb-row\"><div class=\"wandb-col\"><h3>Run history:</h3><br/><table class=\"wandb\"><tr><td>epoch</td><td>▁▁▂▂▃▃▄▄▅▅▅▆▆▇▇██</td></tr><tr><td>test_bias</td><td>▁</td></tr><tr><td>test_corr</td><td>▁</td></tr><tr><td>test_mae</td><td>▁</td></tr><tr><td>test_mean</td><td>▁</td></tr><tr><td>test_rmse</td><td>▁</td></tr><tr><td>test_std</td><td>▁</td></tr><tr><td>train_loss</td><td>▁▁▁█▁▁▁▁▁▁▁▁▁▁▁▁▁</td></tr><tr><td>val_loss</td><td>▂▁▁█▁▁▁▁▁▁▁▁▁▁▁▁▁</td></tr></table><br/></div><div class=\"wandb-col\"><h3>Run summary:</h3><br/><table class=\"wandb\"><tr><td>epoch</td><td>16</td></tr><tr><td>test_bias</td><td>-0.0755</td></tr><tr><td>test_corr</td><td>0.46645</td></tr><tr><td>test_mae</td><td>2.83001</td></tr><tr><td>test_mean</td><td>2.13505</td></tr><tr><td>test_rmse</td><td>7.35516</td></tr><tr><td>test_std</td><td>4.33354</td></tr><tr><td>train_loss</td><td>0.00096</td></tr><tr><td>val_loss</td><td>0.00081</td></tr></table><br/></div></div>"
            ],
            "text/plain": [
              "<IPython.core.display.HTML object>"
            ]
          },
          "metadata": {},
          "output_type": "display_data"
        },
        {
          "data": {
            "text/html": [
              " View run <strong style=\"color:#cdcd00\">unet_run</strong> at: <a href='https://wandb.ai/nvnsudharsan-the-university-of-texas-at-austin/xdownscale_Austin_06_15_1/runs/bct1mxwu' target=\"_blank\">https://wandb.ai/nvnsudharsan-the-university-of-texas-at-austin/xdownscale_Austin_06_15_1/runs/bct1mxwu</a><br> View project at: <a href='https://wandb.ai/nvnsudharsan-the-university-of-texas-at-austin/xdownscale_Austin_06_15_1' target=\"_blank\">https://wandb.ai/nvnsudharsan-the-university-of-texas-at-austin/xdownscale_Austin_06_15_1</a><br>Synced 5 W&B file(s), 0 media file(s), 0 artifact file(s) and 0 other file(s)"
            ],
            "text/plain": [
              "<IPython.core.display.HTML object>"
            ]
          },
          "metadata": {},
          "output_type": "display_data"
        },
        {
          "data": {
            "text/html": [
              "Find logs at: <code>./wandb/run-20250614_212432-bct1mxwu/logs</code>"
            ],
            "text/plain": [
              "<IPython.core.display.HTML object>"
            ]
          },
          "metadata": {},
          "output_type": "display_data"
        },
        {
          "data": {
            "text/html": [
              "Tracking run with wandb version 0.19.11"
            ],
            "text/plain": [
              "<IPython.core.display.HTML object>"
            ]
          },
          "metadata": {},
          "output_type": "display_data"
        },
        {
          "data": {
            "text/html": [
              "Run data is saved locally in <code>/content/wandb/run-20250614_213554-f3dwzsv3</code>"
            ],
            "text/plain": [
              "<IPython.core.display.HTML object>"
            ]
          },
          "metadata": {},
          "output_type": "display_data"
        },
        {
          "data": {
            "text/html": [
              "Syncing run <strong><a href='https://wandb.ai/nvnsudharsan-the-university-of-texas-at-austin/xdownscale_Austin_06_15_1/runs/f3dwzsv3' target=\"_blank\">dlgsanet_run</a></strong> to <a href='https://wandb.ai/nvnsudharsan-the-university-of-texas-at-austin/xdownscale_Austin_06_15_1' target=\"_blank\">Weights & Biases</a> (<a href='https://wandb.me/developer-guide' target=\"_blank\">docs</a>)<br>"
            ],
            "text/plain": [
              "<IPython.core.display.HTML object>"
            ]
          },
          "metadata": {},
          "output_type": "display_data"
        },
        {
          "data": {
            "text/html": [
              " View project at <a href='https://wandb.ai/nvnsudharsan-the-university-of-texas-at-austin/xdownscale_Austin_06_15_1' target=\"_blank\">https://wandb.ai/nvnsudharsan-the-university-of-texas-at-austin/xdownscale_Austin_06_15_1</a>"
            ],
            "text/plain": [
              "<IPython.core.display.HTML object>"
            ]
          },
          "metadata": {},
          "output_type": "display_data"
        },
        {
          "data": {
            "text/html": [
              " View run at <a href='https://wandb.ai/nvnsudharsan-the-university-of-texas-at-austin/xdownscale_Austin_06_15_1/runs/f3dwzsv3' target=\"_blank\">https://wandb.ai/nvnsudharsan-the-university-of-texas-at-austin/xdownscale_Austin_06_15_1/runs/f3dwzsv3</a>"
            ],
            "text/plain": [
              "<IPython.core.display.HTML object>"
            ]
          },
          "metadata": {},
          "output_type": "display_data"
        },
        {
          "metadata": {
            "tags": null
          },
          "name": "stdout",
          "output_type": "stream",
          "text": [
            "\n",
            " Training model: dlgsanet\n",
            "[0] Train: 0.0016 | Val: 0.0014\n",
            "[10] Train: 0.0013 | Val: 0.0014\n",
            "Early stopping at epoch 15 with best val_loss: 0.0014\n",
            "Done with dlgsanet | RMSE=9.986, CORR=0.427\n"
          ]
        },
        {
          "data": {
            "text/html": [],
            "text/plain": [
              "<IPython.core.display.HTML object>"
            ]
          },
          "metadata": {},
          "output_type": "display_data"
        },
        {
          "data": {
            "text/html": [
              "<br>    <style><br>        .wandb-row {<br>            display: flex;<br>            flex-direction: row;<br>            flex-wrap: wrap;<br>            justify-content: flex-start;<br>            width: 100%;<br>        }<br>        .wandb-col {<br>            display: flex;<br>            flex-direction: column;<br>            flex-basis: 100%;<br>            flex: 1;<br>            padding: 10px;<br>        }<br>    </style><br><div class=\"wandb-row\"><div class=\"wandb-col\"><h3>Run history:</h3><br/><table class=\"wandb\"><tr><td>epoch</td><td>▁▁▂▂▃▃▄▄▅▅▆▆▇▇██</td></tr><tr><td>test_bias</td><td>▁</td></tr><tr><td>test_corr</td><td>▁</td></tr><tr><td>test_mae</td><td>▁</td></tr><tr><td>test_mean</td><td>▁</td></tr><tr><td>test_rmse</td><td>▁</td></tr><tr><td>test_std</td><td>▁</td></tr><tr><td>train_loss</td><td>█▁▁▁▁▁▁▁▁▁▁▁▁▁▁▁</td></tr><tr><td>val_loss</td><td>█▅▂▁▁▁▁▁▁▁▁▁▂▇▁▇</td></tr></table><br/></div><div class=\"wandb-col\"><h3>Run summary:</h3><br/><table class=\"wandb\"><tr><td>epoch</td><td>15</td></tr><tr><td>test_bias</td><td>0.47752</td></tr><tr><td>test_corr</td><td>0.42722</td></tr><tr><td>test_mae</td><td>3.17006</td></tr><tr><td>test_mean</td><td>2.85018</td></tr><tr><td>test_rmse</td><td>9.98601</td></tr><tr><td>test_std</td><td>9.82463</td></tr><tr><td>train_loss</td><td>0.00132</td></tr><tr><td>val_loss</td><td>0.00139</td></tr></table><br/></div></div>"
            ],
            "text/plain": [
              "<IPython.core.display.HTML object>"
            ]
          },
          "metadata": {},
          "output_type": "display_data"
        },
        {
          "data": {
            "text/html": [
              " View run <strong style=\"color:#cdcd00\">dlgsanet_run</strong> at: <a href='https://wandb.ai/nvnsudharsan-the-university-of-texas-at-austin/xdownscale_Austin_06_15_1/runs/f3dwzsv3' target=\"_blank\">https://wandb.ai/nvnsudharsan-the-university-of-texas-at-austin/xdownscale_Austin_06_15_1/runs/f3dwzsv3</a><br> View project at: <a href='https://wandb.ai/nvnsudharsan-the-university-of-texas-at-austin/xdownscale_Austin_06_15_1' target=\"_blank\">https://wandb.ai/nvnsudharsan-the-university-of-texas-at-austin/xdownscale_Austin_06_15_1</a><br>Synced 5 W&B file(s), 0 media file(s), 0 artifact file(s) and 0 other file(s)"
            ],
            "text/plain": [
              "<IPython.core.display.HTML object>"
            ]
          },
          "metadata": {},
          "output_type": "display_data"
        },
        {
          "data": {
            "text/html": [
              "Find logs at: <code>./wandb/run-20250614_213554-f3dwzsv3/logs</code>"
            ],
            "text/plain": [
              "<IPython.core.display.HTML object>"
            ]
          },
          "metadata": {},
          "output_type": "display_data"
        },
        {
          "data": {
            "text/html": [
              "Tracking run with wandb version 0.19.11"
            ],
            "text/plain": [
              "<IPython.core.display.HTML object>"
            ]
          },
          "metadata": {},
          "output_type": "display_data"
        },
        {
          "data": {
            "text/html": [
              "Run data is saved locally in <code>/content/wandb/run-20250614_214051-hpmn12bl</code>"
            ],
            "text/plain": [
              "<IPython.core.display.HTML object>"
            ]
          },
          "metadata": {},
          "output_type": "display_data"
        },
        {
          "data": {
            "text/html": [
              "Syncing run <strong><a href='https://wandb.ai/nvnsudharsan-the-university-of-texas-at-austin/xdownscale_Austin_06_15_1/runs/hpmn12bl' target=\"_blank\">dpmn_run</a></strong> to <a href='https://wandb.ai/nvnsudharsan-the-university-of-texas-at-austin/xdownscale_Austin_06_15_1' target=\"_blank\">Weights & Biases</a> (<a href='https://wandb.me/developer-guide' target=\"_blank\">docs</a>)<br>"
            ],
            "text/plain": [
              "<IPython.core.display.HTML object>"
            ]
          },
          "metadata": {},
          "output_type": "display_data"
        },
        {
          "data": {
            "text/html": [
              " View project at <a href='https://wandb.ai/nvnsudharsan-the-university-of-texas-at-austin/xdownscale_Austin_06_15_1' target=\"_blank\">https://wandb.ai/nvnsudharsan-the-university-of-texas-at-austin/xdownscale_Austin_06_15_1</a>"
            ],
            "text/plain": [
              "<IPython.core.display.HTML object>"
            ]
          },
          "metadata": {},
          "output_type": "display_data"
        },
        {
          "data": {
            "text/html": [
              " View run at <a href='https://wandb.ai/nvnsudharsan-the-university-of-texas-at-austin/xdownscale_Austin_06_15_1/runs/hpmn12bl' target=\"_blank\">https://wandb.ai/nvnsudharsan-the-university-of-texas-at-austin/xdownscale_Austin_06_15_1/runs/hpmn12bl</a>"
            ],
            "text/plain": [
              "<IPython.core.display.HTML object>"
            ]
          },
          "metadata": {},
          "output_type": "display_data"
        },
        {
          "metadata": {
            "tags": null
          },
          "name": "stdout",
          "output_type": "stream",
          "text": [
            "\n",
            " Training model: dpmn\n",
            "[0] Train: 0.0017 | Val: 0.0013\n",
            "[10] Train: 0.0009 | Val: 0.0008\n",
            "Early stopping at epoch 19 with best val_loss: 0.0007\n",
            "Done with dpmn | RMSE=7.793, CORR=0.427\n"
          ]
        },
        {
          "data": {
            "text/html": [],
            "text/plain": [
              "<IPython.core.display.HTML object>"
            ]
          },
          "metadata": {},
          "output_type": "display_data"
        },
        {
          "data": {
            "text/html": [
              "<br>    <style><br>        .wandb-row {<br>            display: flex;<br>            flex-direction: row;<br>            flex-wrap: wrap;<br>            justify-content: flex-start;<br>            width: 100%;<br>        }<br>        .wandb-col {<br>            display: flex;<br>            flex-direction: column;<br>            flex-basis: 100%;<br>            flex: 1;<br>            padding: 10px;<br>        }<br>    </style><br><div class=\"wandb-row\"><div class=\"wandb-col\"><h3>Run history:</h3><br/><table class=\"wandb\"><tr><td>epoch</td><td>▁▁▂▂▂▃▃▄▄▄▅▅▅▆▆▇▇▇██</td></tr><tr><td>test_bias</td><td>▁</td></tr><tr><td>test_corr</td><td>▁</td></tr><tr><td>test_mae</td><td>▁</td></tr><tr><td>test_mean</td><td>▁</td></tr><tr><td>test_rmse</td><td>▁</td></tr><tr><td>test_std</td><td>▁</td></tr><tr><td>train_loss</td><td>█▃▃▃▃▂▃▂▂▂▁▁▁▁▁▁▁▁▁▁</td></tr><tr><td>val_loss</td><td>▃▂▂▁▁▂▂▂▁▂▁▂█▁▁▁▃▁▂▁</td></tr></table><br/></div><div class=\"wandb-col\"><h3>Run summary:</h3><br/><table class=\"wandb\"><tr><td>epoch</td><td>19</td></tr><tr><td>test_bias</td><td>1.56169</td></tr><tr><td>test_corr</td><td>0.42671</td></tr><tr><td>test_mae</td><td>4.08665</td></tr><tr><td>test_mean</td><td>3.4804</td></tr><tr><td>test_rmse</td><td>7.79272</td></tr><tr><td>test_std</td><td>4.86442</td></tr><tr><td>train_loss</td><td>0.00084</td></tr><tr><td>val_loss</td><td>0.00081</td></tr></table><br/></div></div>"
            ],
            "text/plain": [
              "<IPython.core.display.HTML object>"
            ]
          },
          "metadata": {},
          "output_type": "display_data"
        },
        {
          "data": {
            "text/html": [
              " View run <strong style=\"color:#cdcd00\">dpmn_run</strong> at: <a href='https://wandb.ai/nvnsudharsan-the-university-of-texas-at-austin/xdownscale_Austin_06_15_1/runs/hpmn12bl' target=\"_blank\">https://wandb.ai/nvnsudharsan-the-university-of-texas-at-austin/xdownscale_Austin_06_15_1/runs/hpmn12bl</a><br> View project at: <a href='https://wandb.ai/nvnsudharsan-the-university-of-texas-at-austin/xdownscale_Austin_06_15_1' target=\"_blank\">https://wandb.ai/nvnsudharsan-the-university-of-texas-at-austin/xdownscale_Austin_06_15_1</a><br>Synced 5 W&B file(s), 0 media file(s), 0 artifact file(s) and 0 other file(s)"
            ],
            "text/plain": [
              "<IPython.core.display.HTML object>"
            ]
          },
          "metadata": {},
          "output_type": "display_data"
        },
        {
          "data": {
            "text/html": [
              "Find logs at: <code>./wandb/run-20250614_214051-hpmn12bl/logs</code>"
            ],
            "text/plain": [
              "<IPython.core.display.HTML object>"
            ]
          },
          "metadata": {},
          "output_type": "display_data"
        },
        {
          "data": {
            "text/html": [
              "Tracking run with wandb version 0.19.11"
            ],
            "text/plain": [
              "<IPython.core.display.HTML object>"
            ]
          },
          "metadata": {},
          "output_type": "display_data"
        },
        {
          "data": {
            "text/html": [
              "Run data is saved locally in <code>/content/wandb/run-20250614_214709-x10c23rk</code>"
            ],
            "text/plain": [
              "<IPython.core.display.HTML object>"
            ]
          },
          "metadata": {},
          "output_type": "display_data"
        },
        {
          "data": {
            "text/html": [
              "Syncing run <strong><a href='https://wandb.ai/nvnsudharsan-the-university-of-texas-at-austin/xdownscale_Austin_06_15_1/runs/x10c23rk' target=\"_blank\">safmn_run</a></strong> to <a href='https://wandb.ai/nvnsudharsan-the-university-of-texas-at-austin/xdownscale_Austin_06_15_1' target=\"_blank\">Weights & Biases</a> (<a href='https://wandb.me/developer-guide' target=\"_blank\">docs</a>)<br>"
            ],
            "text/plain": [
              "<IPython.core.display.HTML object>"
            ]
          },
          "metadata": {},
          "output_type": "display_data"
        },
        {
          "data": {
            "text/html": [
              " View project at <a href='https://wandb.ai/nvnsudharsan-the-university-of-texas-at-austin/xdownscale_Austin_06_15_1' target=\"_blank\">https://wandb.ai/nvnsudharsan-the-university-of-texas-at-austin/xdownscale_Austin_06_15_1</a>"
            ],
            "text/plain": [
              "<IPython.core.display.HTML object>"
            ]
          },
          "metadata": {},
          "output_type": "display_data"
        },
        {
          "data": {
            "text/html": [
              " View run at <a href='https://wandb.ai/nvnsudharsan-the-university-of-texas-at-austin/xdownscale_Austin_06_15_1/runs/x10c23rk' target=\"_blank\">https://wandb.ai/nvnsudharsan-the-university-of-texas-at-austin/xdownscale_Austin_06_15_1/runs/x10c23rk</a>"
            ],
            "text/plain": [
              "<IPython.core.display.HTML object>"
            ]
          },
          "metadata": {},
          "output_type": "display_data"
        },
        {
          "metadata": {
            "tags": null
          },
          "name": "stdout",
          "output_type": "stream",
          "text": [
            "\n",
            " Training model: safmn\n",
            "[0] Train: 0.0010 | Val: 0.0007\n",
            "[10] Train: 0.0008 | Val: 0.0008\n",
            "Early stopping at epoch 15 with best val_loss: 0.0007\n",
            "Done with safmn | RMSE=7.417, CORR=0.463\n"
          ]
        },
        {
          "data": {
            "text/html": [],
            "text/plain": [
              "<IPython.core.display.HTML object>"
            ]
          },
          "metadata": {},
          "output_type": "display_data"
        },
        {
          "data": {
            "text/html": [
              "<br>    <style><br>        .wandb-row {<br>            display: flex;<br>            flex-direction: row;<br>            flex-wrap: wrap;<br>            justify-content: flex-start;<br>            width: 100%;<br>        }<br>        .wandb-col {<br>            display: flex;<br>            flex-direction: column;<br>            flex-basis: 100%;<br>            flex: 1;<br>            padding: 10px;<br>        }<br>    </style><br><div class=\"wandb-row\"><div class=\"wandb-col\"><h3>Run history:</h3><br/><table class=\"wandb\"><tr><td>epoch</td><td>▁▁▂▂▃▃▄▄▅▅▆▆▇▇██</td></tr><tr><td>test_bias</td><td>▁</td></tr><tr><td>test_corr</td><td>▁</td></tr><tr><td>test_mae</td><td>▁</td></tr><tr><td>test_mean</td><td>▁</td></tr><tr><td>test_rmse</td><td>▁</td></tr><tr><td>test_std</td><td>▁</td></tr><tr><td>train_loss</td><td>▆▁▁▁▁▃▂▁▁▁▁▁▁▁█▁</td></tr><tr><td>val_loss</td><td>▃▃▂▂▂▄▂▃▁▃█▃▁▂▂▂</td></tr></table><br/></div><div class=\"wandb-col\"><h3>Run summary:</h3><br/><table class=\"wandb\"><tr><td>epoch</td><td>15</td></tr><tr><td>test_bias</td><td>-0.56449</td></tr><tr><td>test_corr</td><td>0.46262</td></tr><tr><td>test_mae</td><td>2.70522</td></tr><tr><td>test_mean</td><td>1.60571</td></tr><tr><td>test_rmse</td><td>7.41709</td></tr><tr><td>test_std</td><td>2.78326</td></tr><tr><td>train_loss</td><td>0.00078</td></tr><tr><td>val_loss</td><td>0.00065</td></tr></table><br/></div></div>"
            ],
            "text/plain": [
              "<IPython.core.display.HTML object>"
            ]
          },
          "metadata": {},
          "output_type": "display_data"
        },
        {
          "data": {
            "text/html": [
              " View run <strong style=\"color:#cdcd00\">safmn_run</strong> at: <a href='https://wandb.ai/nvnsudharsan-the-university-of-texas-at-austin/xdownscale_Austin_06_15_1/runs/x10c23rk' target=\"_blank\">https://wandb.ai/nvnsudharsan-the-university-of-texas-at-austin/xdownscale_Austin_06_15_1/runs/x10c23rk</a><br> View project at: <a href='https://wandb.ai/nvnsudharsan-the-university-of-texas-at-austin/xdownscale_Austin_06_15_1' target=\"_blank\">https://wandb.ai/nvnsudharsan-the-university-of-texas-at-austin/xdownscale_Austin_06_15_1</a><br>Synced 5 W&B file(s), 0 media file(s), 0 artifact file(s) and 0 other file(s)"
            ],
            "text/plain": [
              "<IPython.core.display.HTML object>"
            ]
          },
          "metadata": {},
          "output_type": "display_data"
        },
        {
          "data": {
            "text/html": [
              "Find logs at: <code>./wandb/run-20250614_214709-x10c23rk/logs</code>"
            ],
            "text/plain": [
              "<IPython.core.display.HTML object>"
            ]
          },
          "metadata": {},
          "output_type": "display_data"
        },
        {
          "data": {
            "text/html": [
              "Tracking run with wandb version 0.19.11"
            ],
            "text/plain": [
              "<IPython.core.display.HTML object>"
            ]
          },
          "metadata": {},
          "output_type": "display_data"
        },
        {
          "data": {
            "text/html": [
              "Run data is saved locally in <code>/content/wandb/run-20250614_214947-j7c7c29s</code>"
            ],
            "text/plain": [
              "<IPython.core.display.HTML object>"
            ]
          },
          "metadata": {},
          "output_type": "display_data"
        },
        {
          "data": {
            "text/html": [
              "Syncing run <strong><a href='https://wandb.ai/nvnsudharsan-the-university-of-texas-at-austin/xdownscale_Austin_06_15_1/runs/j7c7c29s' target=\"_blank\">dpt_run</a></strong> to <a href='https://wandb.ai/nvnsudharsan-the-university-of-texas-at-austin/xdownscale_Austin_06_15_1' target=\"_blank\">Weights & Biases</a> (<a href='https://wandb.me/developer-guide' target=\"_blank\">docs</a>)<br>"
            ],
            "text/plain": [
              "<IPython.core.display.HTML object>"
            ]
          },
          "metadata": {},
          "output_type": "display_data"
        },
        {
          "data": {
            "text/html": [
              " View project at <a href='https://wandb.ai/nvnsudharsan-the-university-of-texas-at-austin/xdownscale_Austin_06_15_1' target=\"_blank\">https://wandb.ai/nvnsudharsan-the-university-of-texas-at-austin/xdownscale_Austin_06_15_1</a>"
            ],
            "text/plain": [
              "<IPython.core.display.HTML object>"
            ]
          },
          "metadata": {},
          "output_type": "display_data"
        },
        {
          "data": {
            "text/html": [
              " View run at <a href='https://wandb.ai/nvnsudharsan-the-university-of-texas-at-austin/xdownscale_Austin_06_15_1/runs/j7c7c29s' target=\"_blank\">https://wandb.ai/nvnsudharsan-the-university-of-texas-at-austin/xdownscale_Austin_06_15_1/runs/j7c7c29s</a>"
            ],
            "text/plain": [
              "<IPython.core.display.HTML object>"
            ]
          },
          "metadata": {},
          "output_type": "display_data"
        },
        {
          "output_type": "stream",
          "name": "stdout",
          "text": [
            "\n",
            " Training model: dpt\n",
            "[0] Train: 0.0222 | Val: 0.0009\n",
            "[10] Train: 883505191385292.0000 | Val: 527061383647119.9375\n",
            "Early stopping at epoch 15 with best val_loss: 0.0009\n",
            "Done with dpt | RMSE=9.519, CORR=0.449\n"
          ]
        },
        {
          "output_type": "display_data",
          "data": {
            "text/plain": [
              "<IPython.core.display.HTML object>"
            ],
            "text/html": []
          },
          "metadata": {}
        },
        {
          "output_type": "display_data",
          "data": {
            "text/plain": [
              "<IPython.core.display.HTML object>"
            ],
            "text/html": [
              "<br>    <style><br>        .wandb-row {<br>            display: flex;<br>            flex-direction: row;<br>            flex-wrap: wrap;<br>            justify-content: flex-start;<br>            width: 100%;<br>        }<br>        .wandb-col {<br>            display: flex;<br>            flex-direction: column;<br>            flex-basis: 100%;<br>            flex: 1;<br>            padding: 10px;<br>        }<br>    </style><br><div class=\"wandb-row\"><div class=\"wandb-col\"><h3>Run history:</h3><br/><table class=\"wandb\"><tr><td>epoch</td><td>▁▁▂▂▃▃▄▄▅▅▆▆▇▇██</td></tr><tr><td>test_bias</td><td>▁</td></tr><tr><td>test_corr</td><td>▁</td></tr><tr><td>test_mae</td><td>▁</td></tr><tr><td>test_mean</td><td>▁</td></tr><tr><td>test_rmse</td><td>▁</td></tr><tr><td>test_std</td><td>▁</td></tr><tr><td>train_loss</td><td>▁█▁▁▁▁▁▃▁▁▁▁▁▁▁▁</td></tr><tr><td>val_loss</td><td>▁▁▁▁▁▁▁█▂▂▁▁▁▁▁▁</td></tr></table><br/></div><div class=\"wandb-col\"><h3>Run summary:</h3><br/><table class=\"wandb\"><tr><td>epoch</td><td>15</td></tr><tr><td>test_bias</td><td>5.33692</td></tr><tr><td>test_corr</td><td>0.44863</td></tr><tr><td>test_mae</td><td>7.14411</td></tr><tr><td>test_mean</td><td>6.83341</td></tr><tr><td>test_rmse</td><td>9.51945</td></tr><tr><td>test_std</td><td>6.31407</td></tr><tr><td>train_loss</td><td>38224898510452.414</td></tr><tr><td>val_loss</td><td>54792275045466.26</td></tr></table><br/></div></div>"
            ]
          },
          "metadata": {}
        },
        {
          "output_type": "display_data",
          "data": {
            "text/plain": [
              "<IPython.core.display.HTML object>"
            ],
            "text/html": [
              " View run <strong style=\"color:#cdcd00\">dpt_run</strong> at: <a href='https://wandb.ai/nvnsudharsan-the-university-of-texas-at-austin/xdownscale_Austin_06_15_1/runs/j7c7c29s' target=\"_blank\">https://wandb.ai/nvnsudharsan-the-university-of-texas-at-austin/xdownscale_Austin_06_15_1/runs/j7c7c29s</a><br> View project at: <a href='https://wandb.ai/nvnsudharsan-the-university-of-texas-at-austin/xdownscale_Austin_06_15_1' target=\"_blank\">https://wandb.ai/nvnsudharsan-the-university-of-texas-at-austin/xdownscale_Austin_06_15_1</a><br>Synced 5 W&B file(s), 0 media file(s), 0 artifact file(s) and 0 other file(s)"
            ]
          },
          "metadata": {}
        },
        {
          "output_type": "display_data",
          "data": {
            "text/plain": [
              "<IPython.core.display.HTML object>"
            ],
            "text/html": [
              "Find logs at: <code>./wandb/run-20250614_214947-j7c7c29s/logs</code>"
            ]
          },
          "metadata": {}
        },
        {
          "output_type": "display_data",
          "data": {
            "text/plain": [
              "<IPython.core.display.HTML object>"
            ],
            "text/html": [
              "Tracking run with wandb version 0.19.11"
            ]
          },
          "metadata": {}
        },
        {
          "output_type": "display_data",
          "data": {
            "text/plain": [
              "<IPython.core.display.HTML object>"
            ],
            "text/html": [
              "Run data is saved locally in <code>/content/wandb/run-20250615_141737-w9iojxue</code>"
            ]
          },
          "metadata": {}
        },
        {
          "output_type": "display_data",
          "data": {
            "text/plain": [
              "<IPython.core.display.HTML object>"
            ],
            "text/html": [
              "Syncing run <strong><a href='https://wandb.ai/nvnsudharsan-the-university-of-texas-at-austin/xdownscale_Austin_06_15_1/runs/w9iojxue' target=\"_blank\">distgssr_run</a></strong> to <a href='https://wandb.ai/nvnsudharsan-the-university-of-texas-at-austin/xdownscale_Austin_06_15_1' target=\"_blank\">Weights & Biases</a> (<a href='https://wandb.me/developer-guide' target=\"_blank\">docs</a>)<br>"
            ]
          },
          "metadata": {}
        },
        {
          "output_type": "display_data",
          "data": {
            "text/plain": [
              "<IPython.core.display.HTML object>"
            ],
            "text/html": [
              " View project at <a href='https://wandb.ai/nvnsudharsan-the-university-of-texas-at-austin/xdownscale_Austin_06_15_1' target=\"_blank\">https://wandb.ai/nvnsudharsan-the-university-of-texas-at-austin/xdownscale_Austin_06_15_1</a>"
            ]
          },
          "metadata": {}
        },
        {
          "output_type": "display_data",
          "data": {
            "text/plain": [
              "<IPython.core.display.HTML object>"
            ],
            "text/html": [
              " View run at <a href='https://wandb.ai/nvnsudharsan-the-university-of-texas-at-austin/xdownscale_Austin_06_15_1/runs/w9iojxue' target=\"_blank\">https://wandb.ai/nvnsudharsan-the-university-of-texas-at-austin/xdownscale_Austin_06_15_1/runs/w9iojxue</a>"
            ]
          },
          "metadata": {}
        },
        {
          "output_type": "stream",
          "name": "stdout",
          "text": [
            "\n",
            " Training model: distgssr\n",
            "[0] Train: 20266.9109 | Val: 0.3456\n",
            "[10] Train: 0.0025 | Val: 0.0018\n",
            "[20] Train: 22326713563317.4375 | Val: 18330249878997.9805\n"
          ]
        }
      ]
    },
    {
      "cell_type": "code",
      "source": [],
      "metadata": {
        "id": "qhnYjEWp-4dY"
      },
      "execution_count": null,
      "outputs": []
    }
  ]
}